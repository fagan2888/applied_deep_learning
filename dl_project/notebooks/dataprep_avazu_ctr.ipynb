{
 "cells": [
  {
   "cell_type": "code",
   "execution_count": 1,
   "metadata": {
    "collapsed": true
   },
   "outputs": [],
   "source": [
    "import pandas as pd"
   ]
  },
  {
   "cell_type": "code",
   "execution_count": null,
   "metadata": {
    "collapsed": true
   },
   "outputs": [],
   "source": [
    "def sample_top_users(df, user_field = 'device_id', users_n=1000000, remove_percentile = 0.999):\n",
    "    \"\"\"\n",
    "    Parameters\n",
    "    df: pandas dataframe of interest\n",
    "    user_field: name of the user identifier in the dataset\n",
    "    users_n: top n users to keep. If n>number of users in the dataset, then all users are kept\n",
    "    remove_percentile: Enter value between 0 and 1. Use.s with impressions above the percentile mentioned will be removed. \n",
    "    This is used to remove outliers.\n",
    "\n",
    "    Example: \n",
    "    df_filtered = sample_top_users(df=df, user_field='device_id', users_n = 1000000, remove_percentile=0.999)\n",
    "\n",
    "    If using the function to just resampling top n users from the original dataset, use as follows (keep remove_percentile at 1):\n",
    "    df_filtered = sample_top_users(df=df, user_field='device_id', users_n = n, remove_percentile=1)\n",
    "\n",
    "    \"\"\"\n",
    "    df_cnts = df.groupby(user_field).size().reset_index(name='imp_count')\n",
    "    df_cnts_filtered = df_cnts[df_cnts['imp_count']<=df_cnts['imp_count'].quantile(remove_percentile)]\n",
    "    df_cnts_filtered = df_cnts_filtered.sort_values('imp_count', ascending=False)\n",
    "    df_cnts_filtered = df_cnts_filtered[:users_n]\n",
    "    df_filtered = pd.merge(df, df_cnts_filtered[[user_field]], how='inner', on=user_field)\n",
    "    return df_filtered"
   ]
  },
  {
   "cell_type": "code",
   "execution_count": 3,
   "metadata": {},
   "outputs": [],
   "source": [
    "df = pd.read_csv('/Users/harish/Downloads/avazu_top_users.gz')"
   ]
  },
  {
   "cell_type": "code",
   "execution_count": null,
   "metadata": {
    "collapsed": true
   },
   "outputs": [],
   "source": []
  }
 ],
 "metadata": {
  "kernelspec": {
   "display_name": "Python 2",
   "language": "python",
   "name": "python2"
  },
  "language_info": {
   "codemirror_mode": {
    "name": "ipython",
    "version": 2
   },
   "file_extension": ".py",
   "mimetype": "text/x-python",
   "name": "python",
   "nbconvert_exporter": "python",
   "pygments_lexer": "ipython2",
   "version": "2.7.13"
  }
 },
 "nbformat": 4,
 "nbformat_minor": 2
}
