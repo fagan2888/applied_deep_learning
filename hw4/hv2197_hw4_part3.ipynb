{
  "nbformat": 4,
  "nbformat_minor": 0,
  "metadata": {
    "colab": {
      "name": "Color Generation LSTM - High Level Api.ipynb",
      "version": "0.3.2",
      "provenance": []
    },
    "kernelspec": {
      "name": "python3",
      "display_name": "Python 3"
    },
    "accelerator": "GPU"
  },
  "cells": [
    {
      "metadata": {
        "id": "hJMcxScoAUCm",
        "colab_type": "text"
      },
      "cell_type": "markdown",
      "source": [
        "## Importing Necessary Modules"
      ]
    },
    {
      "metadata": {
        "id": "HlaS2LOnAKNe",
        "colab_type": "code",
        "colab": {}
      },
      "cell_type": "code",
      "source": [
        "import tensorflow as tf\n",
        "import csv\n",
        "import matplotlib.pyplot as plt\n",
        "import numpy as np\n",
        "import os\n",
        "import random\n",
        "%matplotlib inline"
      ],
      "execution_count": 0,
      "outputs": []
    },
    {
      "metadata": {
        "id": "PBN8eBl1AX9x",
        "colab_type": "text"
      },
      "cell_type": "markdown",
      "source": [
        "## Downloading the colors dataset"
      ]
    },
    {
      "metadata": {
        "id": "5H5p5MkVAXM6",
        "colab_type": "code",
        "colab": {
          "base_uri": "https://localhost:8080/",
          "height": 187
        },
        "outputId": "9196a1cd-5990-40a2-9231-368c12e02a46"
      },
      "cell_type": "code",
      "source": [
        "if not os.path.exists('colors.csv'):\n",
        "  !curl -O 'https://raw.githubusercontent.com/random-forests/datasets/master/colors.csv'\n",
        "!head colors.csv"
      ],
      "execution_count": 13,
      "outputs": [
        {
          "output_type": "stream",
          "text": [
            "name,red,green,blue\n",
            "parakeet,174,182,87\n",
            "saddle brown,88,52,1\n",
            "cucumber crush,222,237,215\n",
            "pool blue,134,194,201\n",
            "distance,98,110,130\n",
            "light urple,179,111,246\n",
            "east side,172,145,206\n",
            "florida seashells,250,228,199\n",
            "paris,145,167,189\n"
          ],
          "name": "stdout"
        }
      ]
    },
    {
      "metadata": {
        "id": "nJf_d7qYAecg",
        "colab_type": "text"
      },
      "cell_type": "markdown",
      "source": [
        "## Reading the data"
      ]
    },
    {
      "metadata": {
        "id": "xSLoAR5fAjtp",
        "colab_type": "code",
        "colab": {
          "base_uri": "https://localhost:8080/",
          "height": 51
        },
        "outputId": "ee954b3d-d9f3-47a0-d04d-e7c84bec72ee"
      },
      "cell_type": "code",
      "source": [
        "colors_rgb = []\n",
        "csv_reader = csv.reader(open('colors.csv'), delimiter=',')\n",
        "next(csv_reader) # Remove the header\n",
        "for row in csv_reader:\n",
        "    name, r, g, b = row[0].lower().strip(), int(row[1]), int(row[2]), int(row[3])\n",
        "    colors_rgb.append((name, r, g, b))\n",
        "print(len(colors_rgb), 'colors downloaded')\n",
        "print('For example', colors_rgb[0])"
      ],
      "execution_count": 14,
      "outputs": [
        {
          "output_type": "stream",
          "text": [
            "14157 colors downloaded\n",
            "For example ('parakeet', 174, 182, 87)\n"
          ],
          "name": "stdout"
        }
      ]
    },
    {
      "metadata": {
        "id": "XBRI5mCpAoxq",
        "colab_type": "code",
        "colab": {
          "base_uri": "https://localhost:8080/",
          "height": 34
        },
        "outputId": "0ba46d1d-a98e-4ed9-f313-f3e559628951"
      },
      "cell_type": "code",
      "source": [
        "sentences = []\n",
        "for row in colors_rgb:\n",
        "  line = ' '.join([str(part) for part in row])\n",
        "  sentences.append(line)\n",
        "print(sentences[0])"
      ],
      "execution_count": 15,
      "outputs": [
        {
          "output_type": "stream",
          "text": [
            "parakeet 174 182 87\n"
          ],
          "name": "stdout"
        }
      ]
    },
    {
      "metadata": {
        "id": "-711rVhXAwO5",
        "colab_type": "text"
      },
      "cell_type": "markdown",
      "source": [
        "## Creating the lookup dictionaries"
      ]
    },
    {
      "metadata": {
        "id": "-oYQRb7ZApFT",
        "colab_type": "code",
        "colab": {
          "base_uri": "https://localhost:8080/",
          "height": 71
        },
        "outputId": "654996e0-2901-487a-fa34-c0b803d9ef52"
      },
      "cell_type": "code",
      "source": [
        "# vocabulary for our char-based RNN\n",
        "chars = set()\n",
        "for sentence in sentences:\n",
        "    for char in sentence:\n",
        "        chars.add(char)\n",
        "    \n",
        "# add a special char for padding\n",
        "chars.add('<pad>')\n",
        "\n",
        "vocab = sorted(set(chars))\n",
        "\n",
        "# Create a mapping from unique characters to indices\n",
        "char2idx = {u : i for i, u in enumerate(vocab)}\n",
        "idx2char = {i : u for i, u in enumerate(vocab)}\n",
        "\n",
        "# Vocab size\n",
        "vocab_size = len(vocab)\n",
        "print('vocab size:', vocab_size)\n",
        "print(vocab)"
      ],
      "execution_count": 16,
      "outputs": [
        {
          "output_type": "stream",
          "text": [
            "vocab size: 38\n",
            "[' ', '0', '1', '2', '3', '4', '5', '6', '7', '8', '9', '<pad>', 'a', 'b', 'c', 'd', 'e', 'f', 'g', 'h', 'i', 'j', 'k', 'l', 'm', 'n', 'o', 'p', 'q', 'r', 's', 't', 'u', 'v', 'w', 'x', 'y', 'z']\n"
          ],
          "name": "stdout"
        }
      ]
    },
    {
      "metadata": {
        "id": "lmb9SRldA92f",
        "colab_type": "text"
      },
      "cell_type": "markdown",
      "source": [
        "## Vectorizing, Padding and Truncating"
      ]
    },
    {
      "metadata": {
        "id": "0rMqZmcgA4gW",
        "colab_type": "code",
        "colab": {
          "base_uri": "https://localhost:8080/",
          "height": 34
        },
        "outputId": "67e96523-8eeb-4369-ad03-acd24fcc0ac4"
      },
      "cell_type": "code",
      "source": [
        "# vectorize the text\n",
        "text_int = []\n",
        "for sentence in sentences:\n",
        "    int_sentence = [] \n",
        "    for c in sentence:\n",
        "        int_sentence.append(char2idx[c])\n",
        "    text_int.append(int_sentence)\n",
        "print('Vectorized sentence', text_int[0])"
      ],
      "execution_count": 17,
      "outputs": [
        {
          "output_type": "stream",
          "text": [
            "Vectorized sentence [27, 12, 29, 12, 22, 16, 16, 31, 0, 2, 8, 5, 0, 2, 9, 3, 0, 9, 8]\n"
          ],
          "name": "stdout"
        }
      ]
    },
    {
      "metadata": {
        "id": "UzDZ1kb2A6HP",
        "colab_type": "code",
        "colab": {
          "base_uri": "https://localhost:8080/",
          "height": 54
        },
        "outputId": "17a778a8-9990-4d45-d903-17a0b9cb9b58"
      },
      "cell_type": "code",
      "source": [
        "# pad sentences to max_length\n",
        "max_length = 40\n",
        "for sentence in text_int:\n",
        "    while (len(sentence) < max_length):\n",
        "        sentence.append(char2idx['<pad>'])\n",
        "print('Padded sentences', text_int[0])"
      ],
      "execution_count": 18,
      "outputs": [
        {
          "output_type": "stream",
          "text": [
            "Padded sentences [27, 12, 29, 12, 22, 16, 16, 31, 0, 2, 8, 5, 0, 2, 9, 3, 0, 9, 8, 11, 11, 11, 11, 11, 11, 11, 11, 11, 11, 11, 11, 11, 11, 11, 11, 11, 11, 11, 11, 11]\n"
          ],
          "name": "stdout"
        }
      ]
    },
    {
      "metadata": {
        "id": "J55Dr9m6A7bo",
        "colab_type": "code",
        "colab": {
          "base_uri": "https://localhost:8080/",
          "height": 54
        },
        "outputId": "8928248e-b99e-45c3-8065-b5bf77d8e7ba"
      },
      "cell_type": "code",
      "source": [
        "# truncate all sentences to max_length\n",
        "for i in range(len(text_int)):\n",
        "    sentence = text_int[i]\n",
        "    if len(sentence) > max_length:\n",
        "        text_int[i] = sentence[:max_length]\n",
        "print(\"Truncated sentences\", text_int[0])"
      ],
      "execution_count": 19,
      "outputs": [
        {
          "output_type": "stream",
          "text": [
            "Truncated sentences [27, 12, 29, 12, 22, 16, 16, 31, 0, 2, 8, 5, 0, 2, 9, 3, 0, 9, 8, 11, 11, 11, 11, 11, 11, 11, 11, 11, 11, 11, 11, 11, 11, 11, 11, 11, 11, 11, 11, 11]\n"
          ],
          "name": "stdout"
        }
      ]
    },
    {
      "metadata": {
        "id": "9C_Ul7svBFsN",
        "colab_type": "text"
      },
      "cell_type": "markdown",
      "source": [
        "## Creating training data"
      ]
    },
    {
      "metadata": {
        "id": "ouXbxKqWA89o",
        "colab_type": "code",
        "colab": {
          "base_uri": "https://localhost:8080/",
          "height": 68
        },
        "outputId": "40805b59-90fb-4aff-c541-43285ef406ec"
      },
      "cell_type": "code",
      "source": [
        "# Create training examples / targets\n",
        "input_text = []\n",
        "target_text = []\n",
        "\n",
        "for i in range(len(text_int)):\n",
        "    inps = text_int[i][:max_length-1]\n",
        "    targ = text_int[i][1:max_length]\n",
        "    input_text.append(inps)\n",
        "    target_text.append(targ)\n",
        "  \n",
        "print(\"First training example, target\")  \n",
        "print(input_text[0])\n",
        "print(target_text[0])"
      ],
      "execution_count": 20,
      "outputs": [
        {
          "output_type": "stream",
          "text": [
            "First training example, target\n",
            "[27, 12, 29, 12, 22, 16, 16, 31, 0, 2, 8, 5, 0, 2, 9, 3, 0, 9, 8, 11, 11, 11, 11, 11, 11, 11, 11, 11, 11, 11, 11, 11, 11, 11, 11, 11, 11, 11, 11]\n",
            "[12, 29, 12, 22, 16, 16, 31, 0, 2, 8, 5, 0, 2, 9, 3, 0, 9, 8, 11, 11, 11, 11, 11, 11, 11, 11, 11, 11, 11, 11, 11, 11, 11, 11, 11, 11, 11, 11, 11]\n"
          ],
          "name": "stdout"
        }
      ]
    },
    {
      "metadata": {
        "id": "KkyQPu2HBN-M",
        "colab_type": "text"
      },
      "cell_type": "markdown",
      "source": [
        "## One-hot encoding"
      ]
    },
    {
      "metadata": {
        "id": "qPhnwYHwBDPH",
        "colab_type": "code",
        "colab": {}
      },
      "cell_type": "code",
      "source": [
        "inp = np.array(input_text)\n",
        "tar = np.array(target_text)\n",
        "\n",
        "onehot_inp = np.zeros((14157, max_length-1, vocab_size))\n",
        "onehot_tar = np.zeros((14157, max_length-1, vocab_size))\n",
        "\n",
        "for val in range(inp.shape[0]):\n",
        "    onehot_inp[[val]*(max_length-1),list(range(inp.shape[1])), inp[val]] = 1\n",
        "\n",
        "for val in range(tar.shape[0]):\n",
        "    onehot_tar[[val]*(max_length-1),list(range(tar.shape[1])), tar[val]] = 1"
      ],
      "execution_count": 0,
      "outputs": []
    },
    {
      "metadata": {
        "id": "m3OUJBDhBUzz",
        "colab_type": "text"
      },
      "cell_type": "markdown",
      "source": [
        "## Setting up the LSTM Model"
      ]
    },
    {
      "metadata": {
        "id": "bT-HDocQBRVV",
        "colab_type": "code",
        "colab": {}
      },
      "cell_type": "code",
      "source": [
        "HIDDEN_DIM = 32\n",
        "\n",
        "model = tf.keras.models.Sequential()\n",
        "model.add(tf.keras.layers.LSTM(HIDDEN_DIM, input_shape=(None, vocab_size), return_sequences=True))\n",
        "model.add(tf.keras.layers.LSTM(HIDDEN_DIM, return_sequences=True))\n",
        "model.add(tf.keras.layers.TimeDistributed(tf.keras.layers.Dense(vocab_size)))\n",
        "model.add(tf.keras.layers.Activation('softmax'))\n",
        "model.compile(loss=\"categorical_crossentropy\", optimizer=\"adam\")"
      ],
      "execution_count": 0,
      "outputs": []
    },
    {
      "metadata": {
        "id": "q-UK7yLqN1My",
        "colab_type": "text"
      },
      "cell_type": "markdown",
      "source": [
        "## Support functions for generating text and plotting colors with temperature"
      ]
    },
    {
      "metadata": {
        "id": "RsO7c595BwwM",
        "colab_type": "code",
        "colab": {}
      },
      "cell_type": "code",
      "source": [
        "def plot_rgb(generated_color):\n",
        "  try:\n",
        "      parts = generated_color.split(' ')\n",
        "      r = float(parts[-3])\n",
        "      g = float(parts[-2])\n",
        "      b = float(parts[-1])\n",
        "      plt.figure()\n",
        "      plt.clf()\n",
        "      _ = plt.imshow([[(r/255.0, g/255.0, b/255.0)]])\n",
        "      _ = plt.axis('off')\n",
        "      _ = plt.title(generated_color, fontsize=18)\n",
        "      plt.show()\n",
        "  except:\n",
        "      print('unable to parse color')"
      ],
      "execution_count": 0,
      "outputs": []
    },
    {
      "metadata": {
        "id": "SXruI6A2N-Cg",
        "colab_type": "code",
        "colab": {}
      },
      "cell_type": "code",
      "source": [
        "def sample(preds, temperature=1.0):\n",
        "    preds = np.asarray(preds).astype('float64')\n",
        "    preds = np.log(preds) / temperature\n",
        "    exp_preds = np.exp(preds)\n",
        "    preds = exp_preds / np.sum(exp_preds)\n",
        "    probas = np.random.multinomial(1, preds, 1)\n",
        "    return np.argmax(probas)"
      ],
      "execution_count": 0,
      "outputs": []
    },
    {
      "metadata": {
        "id": "5LNs7f4WN4QS",
        "colab_type": "code",
        "colab": {}
      },
      "cell_type": "code",
      "source": [
        "def generate_text_and_plot(model, length, start_char = random.choice(list(char2idx.keys())), temperature=1):\n",
        "    ix = char2idx[start_char]\n",
        "    y_char = [start_char]\n",
        "    X = np.zeros((1, length, vocab_size))\n",
        "    for i in range(length):\n",
        "        X[0, i, :][ix] = 1\n",
        "        ix = sample(model.predict(X[:, :i+1, :])[0][i], temperature=temperature)\n",
        "        y_char.append(idx2char[ix])\n",
        "    gentext = (('').join(y_char))\n",
        "    generated_color = gentext.replace('<pad>', '')\n",
        "\n",
        "    print (generated_color)\n",
        "    plot_rgb(generated_color)"
      ],
      "execution_count": 0,
      "outputs": []
    },
    {
      "metadata": {
        "id": "UFpaHHF3d_XY",
        "colab_type": "text"
      },
      "cell_type": "markdown",
      "source": [
        "## Training the model and generating text and plotting the colors at each epoch using a random start character for different temperature values"
      ]
    },
    {
      "metadata": {
        "id": "eaBWdQ-FOBhx",
        "colab_type": "code",
        "colab": {
          "base_uri": "https://localhost:8080/",
          "height": 7977
        },
        "outputId": "8fe99aea-229a-4039-80f5-7831974cdc65"
      },
      "cell_type": "code",
      "source": [
        "## Update such that the generate text function can take in a start string and then compare with the outputs that pass in only a single char\n",
        "BATCH_SIZE = 32\n",
        "nb_epoch = 0\n",
        "while nb_epoch<10:\n",
        "    print('\\n')\n",
        "    model.fit(onehot_inp, onehot_tar, batch_size=BATCH_SIZE, verbose=1, epochs=1)\n",
        "    nb_epoch += 1\n",
        "    for temperature in [0.2,0.5,1]:\n",
        "      print('Epoch:', nb_epoch, 'and Temperature:', temperature)\n",
        "      generate_text_and_plot(model, length=20, temperature=temperature)"
      ],
      "execution_count": 79,
      "outputs": [
        {
          "output_type": "stream",
          "text": [
            "\n",
            "\n",
            "Epoch 1/1\n",
            "14157/14157 [==============================] - 91s 6ms/step - loss: 1.7949\n",
            "Epoch: 1 and Temperature: 0.2\n",
            "lian      1  11\n",
            "unable to parse color\n",
            "Epoch: 1 and Temperature: 0.5\n",
            "l 2il    2281 1\n",
            "unable to parse color\n",
            "Epoch: 1 and Temperature: 1\n",
            "loihno7 n 3 469  1\n",
            "unable to parse color\n",
            "\n",
            "\n",
            "Epoch 1/1\n",
            "14157/14157 [==============================] - 88s 6ms/step - loss: 1.4793\n",
            "Epoch: 2 and Temperature: 0.2\n",
            "lae  22 111 11\n"
          ],
          "name": "stdout"
        },
        {
          "output_type": "display_data",
          "data": {
            "image/png": "[encoded data removed]",
            "text/plain": [
              "<matplotlib.figure.Figure at 0x7fd55c0fd320>"
            ]
          },
          "metadata": {
            "tags": []
          }
        },
        {
          "output_type": "stream",
          "text": [
            "Epoch: 2 and Temperature: 0.5\n",
            "ldo aepay 20 22 2212\n"
          ],
          "name": "stdout"
        },
        {
          "output_type": "display_data",
          "data": {
            "image/png": "[encoded data removed]",
            "text/plain": [
              "<matplotlib.figure.Figure at 0x7fd55b7d3b70>"
            ]
          },
          "metadata": {
            "tags": []
          }
        },
        {
          "output_type": "stream",
          "text": [
            "Epoch: 2 and Temperature: 1\n",
            "lsf2  542 003\n",
            "unable to parse color\n",
            "\n",
            "\n",
            "Epoch 1/1\n",
            "14157/14157 [==============================] - 88s 6ms/step - loss: 1.2589\n",
            "Epoch: 3 and Temperature: 0.2\n",
            "leee bire 149 110 113\n"
          ],
          "name": "stdout"
        },
        {
          "output_type": "display_data",
          "data": {
            "image/png": "[encoded data removed]",
            "text/plain": [
              "<matplotlib.figure.Figure at 0x7fd55bfb9a20>"
            ]
          },
          "metadata": {
            "tags": []
          }
        },
        {
          "output_type": "stream",
          "text": [
            "Epoch: 3 and Temperature: 0.5\n",
            "lnit 118 86 186\n"
          ],
          "name": "stdout"
        },
        {
          "output_type": "display_data",
          "data": {
            "image/png": "[encoded data removed]",
            "text/plain": [
              "<matplotlib.figure.Figure at 0x7fd55c09c978>"
            ]
          },
          "metadata": {
            "tags": []
          }
        },
        {
          "output_type": "stream",
          "text": [
            "Epoch: 3 and Temperature: 1\n",
            "lare goir huln 70 24 \n",
            "unable to parse color\n",
            "\n",
            "\n",
            "Epoch 1/1\n",
            "14157/14157 [==============================] - 89s 6ms/step - loss: 1.1919\n",
            "Epoch: 4 and Temperature: 0.2\n",
            "loite tee 213 111 13\n"
          ],
          "name": "stdout"
        },
        {
          "output_type": "display_data",
          "data": {
            "image/png": "[encoded data removed]",
            "text/plain": [
              "<matplotlib.figure.Figure at 0x7fd55bff1d30>"
            ]
          },
          "metadata": {
            "tags": []
          }
        },
        {
          "output_type": "stream",
          "text": [
            "Epoch: 4 and Temperature: 0.5\n",
            "lee paen 210 212 105\n"
          ],
          "name": "stdout"
        },
        {
          "output_type": "display_data",
          "data": {
            "image/png": "[encoded data removed]",
            "text/plain": [
              "<matplotlib.figure.Figure at 0x7fd55b7d3cc0>"
            ]
          },
          "metadata": {
            "tags": []
          }
        },
        {
          "output_type": "stream",
          "text": [
            "Epoch: 4 and Temperature: 1\n",
            "llktotuo 183 41 95\n"
          ],
          "name": "stdout"
        },
        {
          "output_type": "display_data",
          "data": {
            "image/png": "[encoded data removed]",
            "text/plain": [
              "<matplotlib.figure.Figure at 0x7fd55c1d1278>"
            ]
          },
          "metadata": {
            "tags": []
          }
        },
        {
          "output_type": "stream",
          "text": [
            "\n",
            "\n",
            "Epoch 1/1\n",
            "14157/14157 [==============================] - 89s 6ms/step - loss: 1.1467\n",
            "Epoch: 5 and Temperature: 0.2\n",
            "linte 245 221 220\n"
          ],
          "name": "stdout"
        },
        {
          "output_type": "display_data",
          "data": {
            "image/png": "[encoded data removed]",
            "text/plain": [
              "<matplotlib.figure.Figure at 0x7fd55c24b358>"
            ]
          },
          "metadata": {
            "tags": []
          }
        },
        {
          "output_type": "stream",
          "text": [
            "Epoch: 5 and Temperature: 0.5\n",
            "lue silin 23 222 204\n"
          ],
          "name": "stdout"
        },
        {
          "output_type": "display_data",
          "data": {
            "image/png": "[encoded data removed]",
            "text/plain": [
              "<matplotlib.figure.Figure at 0x7fd55bed6f28>"
            ]
          },
          "metadata": {
            "tags": []
          }
        },
        {
          "output_type": "stream",
          "text": [
            "Epoch: 5 and Temperature: 1\n",
            "luh soele 99 163 14\n"
          ],
          "name": "stdout"
        },
        {
          "output_type": "display_data",
          "data": {
            "image/png": "[encoded data removed]",
            "text/plain": [
              "<matplotlib.figure.Figure at 0x7fd55c118588>"
            ]
          },
          "metadata": {
            "tags": []
          }
        },
        {
          "output_type": "stream",
          "text": [
            "\n",
            "\n",
            "Epoch 1/1\n",
            "14157/14157 [==============================] - 89s 6ms/step - loss: 1.1085\n",
            "Epoch: 6 and Temperature: 0.2\n",
            "lean beren 154 110 16\n"
          ],
          "name": "stdout"
        },
        {
          "output_type": "display_data",
          "data": {
            "image/png": "[encoded data removed]",
            "text/plain": [
              "<matplotlib.figure.Figure at 0x7fd55a7dec50>"
            ]
          },
          "metadata": {
            "tags": []
          }
        },
        {
          "output_type": "stream",
          "text": [
            "Epoch: 6 and Temperature: 0.5\n",
            "lannite brua 87 119 1\n"
          ],
          "name": "stdout"
        },
        {
          "output_type": "display_data",
          "data": {
            "image/png": "[encoded data removed]",
            "text/plain": [
              "<matplotlib.figure.Figure at 0x7fd55a7aab38>"
            ]
          },
          "metadata": {
            "tags": []
          }
        },
        {
          "output_type": "stream",
          "text": [
            "Epoch: 6 and Temperature: 1\n",
            "lity igluan 165 190 1\n"
          ],
          "name": "stdout"
        },
        {
          "output_type": "display_data",
          "data": {
            "image/png": "[encoded data removed]",
            "text/plain": [
              "<matplotlib.figure.Figure at 0x7fd55a778c18>"
            ]
          },
          "metadata": {
            "tags": []
          }
        },
        {
          "output_type": "stream",
          "text": [
            "\n",
            "\n",
            "Epoch 1/1\n",
            "14157/14157 [==============================] - 88s 6ms/step - loss: 1.0829\n",
            "Epoch: 7 and Temperature: 0.2\n",
            "lante mant 255 220 21\n"
          ],
          "name": "stdout"
        },
        {
          "output_type": "display_data",
          "data": {
            "image/png": "[encoded data removed]",
            "text/plain": [
              "<matplotlib.figure.Figure at 0x7fd55a7399b0>"
            ]
          },
          "metadata": {
            "tags": []
          }
        },
        {
          "output_type": "stream",
          "text": [
            "Epoch: 7 and Temperature: 0.5\n",
            "lole sige 225 243 205\n"
          ],
          "name": "stdout"
        },
        {
          "output_type": "display_data",
          "data": {
            "image/png": "[encoded data removed]",
            "text/plain": [
              "<matplotlib.figure.Figure at 0x7fd55a69e828>"
            ]
          },
          "metadata": {
            "tags": []
          }
        },
        {
          "output_type": "stream",
          "text": [
            "Epoch: 7 and Temperature: 1\n",
            "leranser gany 192 111\n",
            "unable to parse color\n",
            "\n",
            "\n",
            "Epoch 1/1\n",
            "14157/14157 [==============================] - 88s 6ms/step - loss: 1.0635\n",
            "Epoch: 8 and Temperature: 0.2\n",
            "lone green 138 116 16\n"
          ],
          "name": "stdout"
        },
        {
          "output_type": "display_data",
          "data": {
            "image/png": "[encoded data removed]",
            "text/plain": [
              "<matplotlib.figure.Figure at 0x7fd55a66bac8>"
            ]
          },
          "metadata": {
            "tags": []
          }
        },
        {
          "output_type": "stream",
          "text": [
            "Epoch: 8 and Temperature: 0.5\n",
            "leran bare 155 186 15\n"
          ],
          "name": "stdout"
        },
        {
          "output_type": "display_data",
          "data": {
            "image/png": "[encoded data removed]",
            "text/plain": [
              "<matplotlib.figure.Figure at 0x7fd55a5cf7b8>"
            ]
          },
          "metadata": {
            "tags": []
          }
        },
        {
          "output_type": "stream",
          "text": [
            "Epoch: 8 and Temperature: 1\n",
            "litk rhite 278 93 72\n"
          ],
          "name": "stdout"
        },
        {
          "output_type": "display_data",
          "data": {
            "image/png": "[encoded data removed]",
            "text/plain": [
              "<matplotlib.figure.Figure at 0x7fd55a5816a0>"
            ]
          },
          "metadata": {
            "tags": []
          }
        },
        {
          "output_type": "stream",
          "text": [
            "\n",
            "\n",
            "Epoch 1/1\n",
            "14157/14157 [==============================] - 88s 6ms/step - loss: 1.0460\n",
            "Epoch: 9 and Temperature: 0.2\n",
            "lere green 114 116 11\n"
          ],
          "name": "stdout"
        },
        {
          "output_type": "display_data",
          "data": {
            "image/png": "[encoded data removed]",
            "text/plain": [
              "<matplotlib.figure.Figure at 0x7fd55a66bef0>"
            ]
          },
          "metadata": {
            "tags": []
          }
        },
        {
          "output_type": "stream",
          "text": [
            "Epoch: 9 and Temperature: 0.5\n",
            "loop ping 221 212 171\n"
          ],
          "name": "stdout"
        },
        {
          "output_type": "display_data",
          "data": {
            "image/png": "[encoded data removed]",
            "text/plain": [
              "<matplotlib.figure.Figure at 0x7fd55a528860>"
            ]
          },
          "metadata": {
            "tags": []
          }
        },
        {
          "output_type": "stream",
          "text": [
            "Epoch: 9 and Temperature: 1\n",
            "lagf plue 105 160 227\n"
          ],
          "name": "stdout"
        },
        {
          "output_type": "display_data",
          "data": {
            "image/png": "[encoded data removed]",
            "text/plain": [
              "<matplotlib.figure.Figure at 0x7fd55a4f3128>"
            ]
          },
          "metadata": {
            "tags": []
          }
        },
        {
          "output_type": "stream",
          "text": [
            "\n",
            "\n",
            "Epoch 1/1\n",
            "14157/14157 [==============================] - 88s 6ms/step - loss: 1.0309\n",
            "Epoch: 10 and Temperature: 0.2\n",
            "lich green 121 136 13\n"
          ],
          "name": "stdout"
        },
        {
          "output_type": "display_data",
          "data": {
            "image/png": "[encoded data removed]",
            "text/plain": [
              "<matplotlib.figure.Figure at 0x7fd55a413ef0>"
            ]
          },
          "metadata": {
            "tags": []
          }
        },
        {
          "output_type": "stream",
          "text": [
            "Epoch: 10 and Temperature: 0.5\n",
            "lavere groe 10 80 86\n"
          ],
          "name": "stdout"
        },
        {
          "output_type": "display_data",
          "data": {
            "image/png": "[encoded data removed]",
            "text/plain": [
              "<matplotlib.figure.Figure at 0x7fd55a4225c0>"
            ]
          },
          "metadata": {
            "tags": []
          }
        },
        {
          "output_type": "stream",
          "text": [
            "Epoch: 10 and Temperature: 1\n",
            "lapeniw sweele 169 19\n",
            "unable to parse color\n"
          ],
          "name": "stdout"
        }
      ]
    },
    {
      "metadata": {
        "id": "rgWAwMkugdMa",
        "colab_type": "text"
      },
      "cell_type": "markdown",
      "source": [
        "### As we can see from above, lower temperatures (0.2 and 0.5) produce better color names (by observation)"
      ]
    },
    {
      "metadata": {
        "id": "kt-MX0gOeKp7",
        "colab_type": "text"
      },
      "cell_type": "markdown",
      "source": [
        "## Generating some color names and plotting them"
      ]
    },
    {
      "metadata": {
        "id": "O6UO3I4-Yr5b",
        "colab_type": "code",
        "colab": {
          "base_uri": "https://localhost:8080/",
          "height": 301
        },
        "outputId": "eee06523-4738-4c14-f8ca-63a7c434f67b"
      },
      "cell_type": "code",
      "source": [
        "generate_text_and_plot(model, length=20, start_char='l', temperature=0.2)"
      ],
      "execution_count": 81,
      "outputs": [
        {
          "output_type": "stream",
          "text": [
            "lean green 180 144 10\n"
          ],
          "name": "stdout"
        },
        {
          "output_type": "display_data",
          "data": {
            "image/png": "[encoded data removed]",
            "text/plain": [
              "<matplotlib.figure.Figure at 0x7fd55a4b4160>"
            ]
          },
          "metadata": {
            "tags": []
          }
        }
      ]
    },
    {
      "metadata": {
        "id": "L8AKF0OQYo5z",
        "colab_type": "code",
        "colab": {
          "base_uri": "https://localhost:8080/",
          "height": 301
        },
        "outputId": "c213711c-411b-4598-93de-f8cb46ca3998"
      },
      "cell_type": "code",
      "source": [
        "generate_text_and_plot(model, length=20, start_char='l', temperature=0.5)"
      ],
      "execution_count": 83,
      "outputs": [
        {
          "output_type": "stream",
          "text": [
            "lager lowe 132 116 11\n"
          ],
          "name": "stdout"
        },
        {
          "output_type": "display_data",
          "data": {
            "image/png": "[encoded data removed]",
            "text/plain": [
              "<matplotlib.figure.Figure at 0x7fd55a309be0>"
            ]
          },
          "metadata": {
            "tags": []
          }
        }
      ]
    },
    {
      "metadata": {
        "id": "p6CVlKoJeTWb",
        "colab_type": "code",
        "colab": {
          "base_uri": "https://localhost:8080/",
          "height": 301
        },
        "outputId": "b54ae6e2-aa3b-4f2b-8dd6-b4fe0dbcf1e7"
      },
      "cell_type": "code",
      "source": [
        "generate_text_and_plot(model, length=20, start_char='r', temperature=0.2)"
      ],
      "execution_count": 88,
      "outputs": [
        {
          "output_type": "stream",
          "text": [
            "ranger blue 10 10 12\n"
          ],
          "name": "stdout"
        },
        {
          "output_type": "display_data",
          "data": {
            "image/png": "[encoded data removed]",
            "text/plain": [
              "<matplotlib.figure.Figure at 0x7fd55a2a9c88>"
            ]
          },
          "metadata": {
            "tags": []
          }
        }
      ]
    },
    {
      "metadata": {
        "id": "def6a6CQfX5Z",
        "colab_type": "code",
        "colab": {
          "base_uri": "https://localhost:8080/",
          "height": 301
        },
        "outputId": "544cf438-a0f7-4d38-e0c7-b9e3010c7d0d"
      },
      "cell_type": "code",
      "source": [
        "generate_text_and_plot(model, length=20, start_char='r', temperature=0.5)"
      ],
      "execution_count": 90,
      "outputs": [
        {
          "output_type": "stream",
          "text": [
            "rose green 137 160 13\n"
          ],
          "name": "stdout"
        },
        {
          "output_type": "display_data",
          "data": {
            "image/png": "[encoded data removed]",
            "text/plain": [
              "<matplotlib.figure.Figure at 0x7fd55a18c710>"
            ]
          },
          "metadata": {
            "tags": []
          }
        }
      ]
    }
  ]
}