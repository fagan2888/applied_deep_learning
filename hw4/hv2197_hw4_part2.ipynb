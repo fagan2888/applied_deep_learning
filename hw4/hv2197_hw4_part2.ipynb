{
  "nbformat": 4,
  "nbformat_minor": 0,
  "metadata": {
    "colab": {
      "name": "8_colorbot_predict_starter.ipynb",
      "version": "0.3.2",
      "provenance": [],
      "collapsed_sections": []
    },
    "kernelspec": {
      "name": "python3",
      "display_name": "Python 3"
    },
    "accelerator": "GPU"
  },
  "cells": [
    {
      "metadata": {
        "id": "BW0HUkgT7Mj2",
        "colab_type": "text"
      },
      "cell_type": "markdown",
      "source": [
        "### Importing necessary modules"
      ]
    },
    {
      "metadata": {
        "id": "6ao-JFaulDlA",
        "colab_type": "code",
        "colab": {}
      },
      "cell_type": "code",
      "source": [
        "import tensorflow as tf\n",
        "tf.enable_eager_execution()\n",
        "\n",
        "from tensorflow.keras.preprocessing.text import Tokenizer\n",
        "from tensorflow.keras.preprocessing.sequence import pad_sequences\n",
        "\n",
        "import csv\n",
        "import matplotlib.pyplot as plt\n",
        "import numpy as np\n",
        "import os"
      ],
      "execution_count": 0,
      "outputs": []
    },
    {
      "metadata": {
        "id": "Bmm0DUpnlNAw",
        "colab_type": "code",
        "outputId": "de96cd34-6269-47b1-f0b0-7f4dfe1eee9d",
        "colab": {
          "base_uri": "https://localhost:8080/",
          "height": 238
        }
      },
      "cell_type": "code",
      "source": [
        "# Download the colors dataset\n",
        "if not os.path.exists('colors.csv'):\n",
        "  !curl -O 'https://raw.githubusercontent.com/random-forests/datasets/master/colors.csv'\n",
        "!head colors.csv"
      ],
      "execution_count": 2,
      "outputs": [
        {
          "output_type": "stream",
          "text": [
            "  % Total    % Received % Xferd  Average Speed   Time    Time     Time  Current\n",
            "                                 Dload  Upload   Total   Spent    Left  Speed\n",
            "100  323k  100  323k    0     0   356k      0 --:--:-- --:--:-- --:--:--  356k\n",
            "name,red,green,blue\n",
            "parakeet,174,182,87\n",
            "saddle brown,88,52,1\n",
            "cucumber crush,222,237,215\n",
            "pool blue,134,194,201\n",
            "distance,98,110,130\n",
            "light urple,179,111,246\n",
            "east side,172,145,206\n",
            "florida seashells,250,228,199\n",
            "paris,145,167,189\n"
          ],
          "name": "stdout"
        }
      ]
    },
    {
      "metadata": {
        "id": "u2YrxbUz8AKM",
        "colab_type": "text"
      },
      "cell_type": "markdown",
      "source": [
        "### Preparing the Data"
      ]
    },
    {
      "metadata": {
        "id": "A_hCjUoElOOo",
        "colab_type": "code",
        "outputId": "72410754-d14f-4f95-f02e-da3153db6d7e",
        "colab": {
          "base_uri": "https://localhost:8080/",
          "height": 51
        }
      },
      "cell_type": "code",
      "source": [
        "# Read the data\n",
        "colors_rgb = []\n",
        "csv_reader = csv.reader(open('colors.csv'), delimiter=',')\n",
        "next(csv_reader) # Remove the header\n",
        "for row in csv_reader:\n",
        "    name, r, g, b = row[0].lower().strip(), float(row[1]) / 255.0, float(row[2]) / 255.0, float(row[3]) / 255.0\n",
        "    colors_rgb.append((name, r, g, b))\n",
        "print(len(colors_rgb), 'colors downloaded')\n",
        "print('For example', colors_rgb[0])"
      ],
      "execution_count": 3,
      "outputs": [
        {
          "output_type": "stream",
          "text": [
            "14157 colors downloaded\n",
            "For example ('parakeet', 0.6823529411764706, 0.7137254901960784, 0.3411764705882353)\n"
          ],
          "name": "stdout"
        }
      ]
    },
    {
      "metadata": {
        "id": "ISanLTTkm2qq",
        "colab_type": "code",
        "colab": {}
      },
      "cell_type": "code",
      "source": [
        "names = [item[0] for item in colors_rgb]"
      ],
      "execution_count": 0,
      "outputs": []
    },
    {
      "metadata": {
        "id": "9fAV_itE8DrD",
        "colab_type": "text"
      },
      "cell_type": "markdown",
      "source": [
        "### Tokenizing the colors at a character level"
      ]
    },
    {
      "metadata": {
        "id": "L1sjZ_tYnGNE",
        "colab_type": "code",
        "colab": {}
      },
      "cell_type": "code",
      "source": [
        "maxlen = 25\n",
        "t = Tokenizer(char_level=True)\n",
        "t.fit_on_texts(names)\n",
        "tokenized = t.texts_to_sequences(names)\n",
        "padded_names = pad_sequences(tokenized, maxlen=maxlen)\n",
        "padded_names = padded_names.astype('float32')"
      ],
      "execution_count": 0,
      "outputs": []
    },
    {
      "metadata": {
        "id": "JOQIb8CdnGuV",
        "colab_type": "code",
        "colab": {}
      },
      "cell_type": "code",
      "source": [
        "r = [item[1] for item in colors_rgb]\n",
        "g = [item[2] for item in colors_rgb]\n",
        "b = [item[3] for item in colors_rgb]\n",
        "targets = np.column_stack([r, g, b])"
      ],
      "execution_count": 0,
      "outputs": []
    },
    {
      "metadata": {
        "id": "36RR6Eif8JRb",
        "colab_type": "text"
      },
      "cell_type": "markdown",
      "source": [
        "### Splitting into train and test"
      ]
    },
    {
      "metadata": {
        "id": "lcvUL9nJ5auT",
        "colab_type": "code",
        "colab": {}
      },
      "cell_type": "code",
      "source": [
        "from sklearn.model_selection import train_test_split"
      ],
      "execution_count": 0,
      "outputs": []
    },
    {
      "metadata": {
        "id": "0bbiU6vA5pBr",
        "colab_type": "code",
        "colab": {}
      },
      "cell_type": "code",
      "source": [
        "x_train, x_test, y_train, y_test = train_test_split(padded_names, targets, test_size=0.2, random_state=42)"
      ],
      "execution_count": 0,
      "outputs": []
    },
    {
      "metadata": {
        "id": "VkfSZ7XJ8MVr",
        "colab_type": "text"
      },
      "cell_type": "markdown",
      "source": [
        "### Using GRUs in the model"
      ]
    },
    {
      "metadata": {
        "id": "oL6Z6hZl07Tv",
        "colab_type": "code",
        "colab": {
          "base_uri": "https://localhost:8080/",
          "height": 340
        },
        "outputId": "1d9ab0c5-b194-403d-f67c-bb39b10fac8a"
      },
      "cell_type": "code",
      "source": [
        "model = tf.keras.Sequential()\n",
        "model.add(tf.keras.layers.Reshape((1, maxlen), input_shape=(maxlen,)))\n",
        "model.add(tf.keras.layers.CuDNNGRU(128, return_sequences=True))\n",
        "model.add(tf.keras.layers.CuDNNGRU(128, return_sequences=True))\n",
        "model.add(tf.keras.layers.CuDNNGRU(128))\n",
        "model.add(tf.keras.layers.Dense(64, activation='relu'))\n",
        "model.add(tf.keras.layers.Dense(3, activation='sigmoid'))\n",
        "model.compile(optimizer=tf.train.AdamOptimizer(), loss='mse')\n",
        "model.summary()"
      ],
      "execution_count": 65,
      "outputs": [
        {
          "output_type": "stream",
          "text": [
            "_________________________________________________________________\n",
            "Layer (type)                 Output Shape              Param #   \n",
            "=================================================================\n",
            "reshape_6 (Reshape)          (None, 1, 25)             0         \n",
            "_________________________________________________________________\n",
            "cu_dnngru (CuDNNGRU)         (None, 1, 128)            59520     \n",
            "_________________________________________________________________\n",
            "cu_dnngru_1 (CuDNNGRU)       (None, 1, 128)            99072     \n",
            "_________________________________________________________________\n",
            "cu_dnngru_2 (CuDNNGRU)       (None, 128)               99072     \n",
            "_________________________________________________________________\n",
            "dense_12 (Dense)             (None, 64)                8256      \n",
            "_________________________________________________________________\n",
            "dense_13 (Dense)             (None, 3)                 195       \n",
            "=================================================================\n",
            "Total params: 266,115\n",
            "Trainable params: 266,115\n",
            "Non-trainable params: 0\n",
            "_________________________________________________________________\n"
          ],
          "name": "stdout"
        }
      ]
    },
    {
      "metadata": {
        "id": "sqOfMfWxoGiE",
        "colab_type": "code",
        "outputId": "558b7fec-b427-481e-b12a-5179bf0f03ee",
        "colab": {
          "base_uri": "https://localhost:8080/",
          "height": 357
        }
      },
      "cell_type": "code",
      "source": [
        "history = model.fit(x_train, y_train, epochs=10, validation_split=0.2)"
      ],
      "execution_count": 80,
      "outputs": [
        {
          "output_type": "stream",
          "text": [
            "Epoch 1/10\n",
            "284/284 [==============================] - 13s 45ms/step - loss: 0.0507 - val_loss: 0.0513\n",
            "Epoch 2/10\n",
            "284/284 [==============================] - 13s 45ms/step - loss: 0.0490 - val_loss: 0.0498\n",
            "Epoch 3/10\n",
            "284/284 [==============================] - 13s 45ms/step - loss: 0.0474 - val_loss: 0.0505\n",
            "Epoch 4/10\n",
            "284/284 [==============================] - 13s 45ms/step - loss: 0.0461 - val_loss: 0.0518\n",
            "Epoch 5/10\n",
            "284/284 [==============================] - 13s 45ms/step - loss: 0.0446 - val_loss: 0.0512\n",
            "Epoch 6/10\n",
            "284/284 [==============================] - 13s 45ms/step - loss: 0.0431 - val_loss: 0.0522\n",
            "Epoch 7/10\n",
            "284/284 [==============================] - 13s 45ms/step - loss: 0.0420 - val_loss: 0.0530\n",
            "Epoch 8/10\n",
            "284/284 [==============================] - 13s 45ms/step - loss: 0.0406 - val_loss: 0.0538\n",
            "Epoch 9/10\n",
            "284/284 [==============================] - 13s 45ms/step - loss: 0.0393 - val_loss: 0.0544\n",
            "Epoch 10/10\n",
            "284/284 [==============================] - 13s 45ms/step - loss: 0.0376 - val_loss: 0.0536\n"
          ],
          "name": "stdout"
        }
      ]
    },
    {
      "metadata": {
        "id": "yzQX11aDoUZ2",
        "colab_type": "code",
        "colab": {}
      },
      "cell_type": "code",
      "source": [
        "def plot_history(histories, key):\n",
        "  plt.figure(figsize=(20,10))\n",
        "    \n",
        "  for name, history in histories:\n",
        "    val = plt.plot([x+1 for x in history.epoch], history.history['val_'+key], '--', label=name.title()+' Val')\n",
        "    plt.plot([x+1 for x in history.epoch], history.history[key], color=val[0].get_color(), label=name.title()+' Train')\n",
        "\n",
        "  plt.xlabel('Epochs')\n",
        "  plt.xticks([x+1 for x in history.epoch])\n",
        "  plt.ylabel(key.replace('_',' ').title())\n",
        "  plt.title('Plot of '+ name.title() +' at different Epochs', fontsize=18)\n",
        "  plt.legend()"
      ],
      "execution_count": 0,
      "outputs": []
    },
    {
      "metadata": {
        "id": "PO4Blv6C8SPg",
        "colab_type": "text"
      },
      "cell_type": "markdown",
      "source": [
        "### Plotting the Loss"
      ]
    },
    {
      "metadata": {
        "id": "XIXZMlyhxjfl",
        "colab_type": "code",
        "colab": {
          "base_uri": "https://localhost:8080/",
          "height": 624
        },
        "outputId": "eb4c3dee-c726-4843-fb6b-1b9c65e25bcb"
      },
      "cell_type": "code",
      "source": [
        "plot_history([('Loss', history)],  key='loss')"
      ],
      "execution_count": 82,
      "outputs": [
        {
          "output_type": "display_data",
          "data": {
            "image/png": "[encoded data removed]",
            "text/plain": [
              "<matplotlib.figure.Figure at 0x7f34b13f3748>"
            ]
          },
          "metadata": {
            "tags": []
          }
        }
      ]
    },
    {
      "metadata": {
        "id": "g-zeABJL8U-z",
        "colab_type": "text"
      },
      "cell_type": "markdown",
      "source": [
        "### Evaluating the Loss on test data"
      ]
    },
    {
      "metadata": {
        "id": "dVOboUkc2yZA",
        "colab_type": "code",
        "colab": {
          "base_uri": "https://localhost:8080/",
          "height": 51
        },
        "outputId": "bf386fa0-c15b-4ae4-8e39-08f1307c1e0d"
      },
      "cell_type": "code",
      "source": [
        "loss = model.evaluate(x_test, y_test)\n",
        "print('Model Test Loss: {0:.4f}'.format(loss))"
      ],
      "execution_count": 83,
      "outputs": [
        {
          "output_type": "stream",
          "text": [
            "89/89 [==============================] - 1s 16ms/step\n",
            "Model Test Loss: 0.0537\n"
          ],
          "name": "stdout"
        }
      ]
    },
    {
      "metadata": {
        "id": "_IYXreehqc7f",
        "colab_type": "code",
        "colab": {}
      },
      "cell_type": "code",
      "source": [
        "# plots a color image\n",
        "def plot_rgb(rgb):\n",
        "    data = [[rgb]]\n",
        "    plt.figure(figsize=(2,2))\n",
        "    plt.imshow(data, interpolation='nearest')\n",
        "    plt.axis('off')\n",
        "    plt.show()"
      ],
      "execution_count": 0,
      "outputs": []
    },
    {
      "metadata": {
        "id": "Fc5TsbxQqep1",
        "colab_type": "code",
        "colab": {}
      },
      "cell_type": "code",
      "source": [
        "def scale(n):\n",
        "    return int(n * 255)"
      ],
      "execution_count": 0,
      "outputs": []
    },
    {
      "metadata": {
        "id": "_e1E5PMTqhcd",
        "colab_type": "code",
        "colab": {}
      },
      "cell_type": "code",
      "source": [
        "def predict(name):\n",
        "    tokenized = t.texts_to_sequences([name])\n",
        "    padded = pad_sequences(tokenized, maxlen=maxlen)\n",
        "    padded = padded.astype('float32')\n",
        "    pred = model.predict(np.array(padded))[0]\n",
        "    # Check the shapes here if you run into trouble with the next \n",
        "    # method after adding your RNN\n",
        "    print(pred)\n",
        "    r, g, b = scale(pred[0]), scale(pred[1]), scale(pred[2])\n",
        "    print(name + ',', 'R,G,B:', r,g,b)\n",
        "    plot_rgb(pred)"
      ],
      "execution_count": 0,
      "outputs": []
    },
    {
      "metadata": {
        "id": "NvFibG3_8cCA",
        "colab_type": "text"
      },
      "cell_type": "markdown",
      "source": [
        "### Testing predictions on some colors"
      ]
    },
    {
      "metadata": {
        "id": "C2rwJDV9qjJN",
        "colab_type": "code",
        "outputId": "0a2366a0-827b-4400-b76d-2651063324e6",
        "colab": {
          "base_uri": "https://localhost:8080/",
          "height": 1757
        }
      },
      "cell_type": "code",
      "source": [
        "# some \"test\" data\n",
        "predict(\"light blue\")\n",
        "predict(\"blue\")\n",
        "predict(\"dark blue\")\n",
        "predict(\"tangerine\")\n",
        "predict(\"navy blue\")\n",
        "predict(\"magenta\")\n",
        "predict(\"purple\")\n",
        "predict(\"dark red\")\n",
        "predict(\"dark yellow\")\n",
        "predict(\"baby pink\")"
      ],
      "execution_count": 87,
      "outputs": [
        {
          "output_type": "stream",
          "text": [
            "[0.32312134 0.5727745  0.75932944]\n",
            "light blue, R,G,B: 82 146 193\n"
          ],
          "name": "stdout"
        },
        {
          "output_type": "display_data",
          "data": {
            "image/png": "[encoded data removed]",
            "text/plain": [
              "<matplotlib.figure.Figure at 0x7f34b09ea390>"
            ]
          },
          "metadata": {
            "tags": []
          }
        },
        {
          "output_type": "stream",
          "text": [
            "[0.36219075 0.650032   0.76090634]\n",
            "blue, R,G,B: 92 165 194\n"
          ],
          "name": "stdout"
        },
        {
          "output_type": "display_data",
          "data": {
            "image/png": "[encoded data removed]",
            "text/plain": [
              "<matplotlib.figure.Figure at 0x7f34b0996908>"
            ]
          },
          "metadata": {
            "tags": []
          }
        },
        {
          "output_type": "stream",
          "text": [
            "[0.28694594 0.32769135 0.5036263 ]\n",
            "dark blue, R,G,B: 73 83 128\n"
          ],
          "name": "stdout"
        },
        {
          "output_type": "display_data",
          "data": {
            "image/png": "[encoded data removed]",
            "text/plain": [
              "<matplotlib.figure.Figure at 0x7f34f649c5c0>"
            ]
          },
          "metadata": {
            "tags": []
          }
        },
        {
          "output_type": "stream",
          "text": [
            "[0.84453964 0.4880915  0.18548326]\n",
            "tangerine, R,G,B: 215 124 47\n"
          ],
          "name": "stdout"
        },
        {
          "output_type": "display_data",
          "data": {
            "image/png": "[encoded data removed]",
            "text/plain": [
              "<matplotlib.figure.Figure at 0x7f34b08dd198>"
            ]
          },
          "metadata": {
            "tags": []
          }
        },
        {
          "output_type": "stream",
          "text": [
            "[0.11832191 0.20962916 0.39077735]\n",
            "navy blue, R,G,B: 30 53 99\n"
          ],
          "name": "stdout"
        },
        {
          "output_type": "display_data",
          "data": {
            "image/png": "[encoded data removed]",
            "text/plain": [
              "<matplotlib.figure.Figure at 0x7f34b0b1c7f0>"
            ]
          },
          "metadata": {
            "tags": []
          }
        },
        {
          "output_type": "stream",
          "text": [
            "[0.57000726 0.24495284 0.44310468]\n",
            "magenta, R,G,B: 145 62 112\n"
          ],
          "name": "stdout"
        },
        {
          "output_type": "display_data",
          "data": {
            "image/png": "[encoded data removed]",
            "text/plain": [
              "<matplotlib.figure.Figure at 0x7f34b0a30358>"
            ]
          },
          "metadata": {
            "tags": []
          }
        },
        {
          "output_type": "stream",
          "text": [
            "[0.5648049  0.28986153 0.4051396 ]\n",
            "purple, R,G,B: 144 73 103\n"
          ],
          "name": "stdout"
        },
        {
          "output_type": "display_data",
          "data": {
            "image/png": "[encoded data removed]",
            "text/plain": [
              "<matplotlib.figure.Figure at 0x7f34b14f3a20>"
            ]
          },
          "metadata": {
            "tags": []
          }
        },
        {
          "output_type": "stream",
          "text": [
            "[0.6913079  0.19672644 0.16736057]\n",
            "dark red, R,G,B: 176 50 42\n"
          ],
          "name": "stdout"
        },
        {
          "output_type": "display_data",
          "data": {
            "image/png": "[encoded data removed]",
            "text/plain": [
              "<matplotlib.figure.Figure at 0x7f34b097b518>"
            ]
          },
          "metadata": {
            "tags": []
          }
        },
        {
          "output_type": "stream",
          "text": [
            "[0.7575182  0.6791128  0.26652196]\n",
            "dark yellow, R,G,B: 193 173 67\n"
          ],
          "name": "stdout"
        },
        {
          "output_type": "display_data",
          "data": {
            "image/png": "[encoded data removed]",
            "text/plain": [
              "<matplotlib.figure.Figure at 0x7f34b05d7358>"
            ]
          },
          "metadata": {
            "tags": []
          }
        },
        {
          "output_type": "stream",
          "text": [
            "[0.8178888  0.53541315 0.5629326 ]\n",
            "baby pink, R,G,B: 208 136 143\n"
          ],
          "name": "stdout"
        },
        {
          "output_type": "display_data",
          "data": {
            "image/png": "[encoded data removed]",
            "text/plain": [
              "<matplotlib.figure.Figure at 0x7f34b0a87d30>"
            ]
          },
          "metadata": {
            "tags": []
          }
        }
      ]
    },
    {
      "metadata": {
        "id": "bKq2E5c08ifA",
        "colab_type": "text"
      },
      "cell_type": "markdown",
      "source": [
        "### Model seems to be doing decently well on the colors predicted above"
      ]
    }
  ]
}