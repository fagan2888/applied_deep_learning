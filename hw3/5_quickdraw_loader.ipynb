{
 "cells": [
  {
   "cell_type": "markdown",
   "metadata": {
    "colab_type": "text",
    "id": "3MA2k7mUCHz0"
   },
   "source": [
    "Loads the QuickDraw dataset. Demonstrates reading the original files, working with the data as a sequence of strokes, and converting those strokes to images. Also writes a dataset to disk in a convenient format."
   ]
  },
  {
   "cell_type": "code",
   "execution_count": 1,
   "metadata": {
    "colab": {},
    "colab_type": "code",
    "collapsed": true,
    "id": "h3jfQ3KJOnAb"
   },
   "outputs": [],
   "source": [
    "from __future__ import print_function\n",
    "\n",
    "import matplotlib.cm as cm\n",
    "import matplotlib.pyplot as plt\n",
    "import numpy as np\n",
    "import functools, itertools, json, os, re, textwrap\n",
    "import tensorflow as tf\n",
    "\n",
    "from PIL import Image, ImageDraw\n",
    "from six.moves.urllib import request\n",
    "from xml.dom import minidom"
   ]
  },
  {
   "cell_type": "markdown",
   "metadata": {
    "colab_type": "text",
    "id": "B3e-XusiPh_5"
   },
   "source": [
    "# Get the data"
   ]
  },
  {
   "cell_type": "code",
   "execution_count": 2,
   "metadata": {
    "colab": {
     "base_uri": "https://localhost:8080/",
     "height": 476
    },
    "colab_type": "code",
    "id": "XeAYBs7PPd7Y",
    "outputId": "e16f186c-1ec5-4ea1-fc06-624627984aec"
   },
   "outputs": [
    {
     "name": "stdout",
     "output_type": "stream",
     "text": [
      "available: (309)\n",
      "The Eiffel Tower The Great Wall of China The Mona Lisa aircraft carrier airplane alarm clock\n",
      "ambulance angel animal migration ant anvil apple arm asparagus axe backpack banana bandage barn\n",
      "baseball bat baseball basket basketball bat bathtub beach bear beard bed bee belt bench bicycle\n",
      "binoculars bird birthday cake blackberry blueberry book boomerang bottlecap bowtie bracelet brain\n",
      "bread bridge broccoli broom bucket bulldozer bus bush butterfly cactus cake calculator calendar\n",
      "camel camera camouflage campfire candle cannon canoe car carrot castle cat ceiling fan cell phone\n",
      "cello chair chandelier church circle clarinet clock cloud coffee cup compass computer cookie cooler\n",
      "couch cow crab crayon crocodile crown cruise ship cup diamond dishwasher diving board dog dolphin\n",
      "donut door dragon dresser drill drums duck dumbbell ear elbow elephant envelope eraser eye\n",
      "eyeglasses face fan feather fence finger fire hydrant fireplace firetruck fish flamingo flashlight\n",
      "flip flops floor lamp flower flying saucer foot fork frog frying pan garden hose garden giraffe\n",
      "goatee golf club grapes grass guitar hamburger hammer hand harp hat headphones hedgehog helicopter\n",
      "helmet hexagon hockey puck hockey stick horse hospital hot air balloon hot dog hot tub hourglass\n",
      "house plant house hurricane ice cream jacket jail kangaroo key keyboard knee knife ladder lantern\n",
      "laptop leaf leg light bulb lighter lighthouse lightning line lion lipstick lobster lollipop mailbox\n",
      "map marker matches megaphone mermaid microphone microwave monkey moon mosquito motorbike mountain\n",
      "mouse moustache mouth mug mushroom nail necklace nose ocean octagon octopus onion oven owl paint can\n",
      "paintbrush palm tree panda pants paper clip parachute parrot passport peanut pear peas pencil\n",
      "penguin piano pickup truck picture frame pig pillow pineapple pizza pliers police car pond pool\n",
      "popsicle postcard potato power outlet purse rabbit raccoon radio rain rainbow rake remote control\n",
      "rhinoceros rifle river roller coaster rollerskates sailboat sandwich saw saxophone school bus\n",
      "scissors scorpion screwdriver sea turtle see saw shark sheep shoe shorts shovel sink skateboard\n",
      "skull skyscraper sleeping bag smiley face snail snake snorkel snowflake snowman soccer ball sock\n",
      "speedboat spider spoon spreadsheet square squiggle squirrel stairs star steak stereo stethoscope\n",
      "stitches stop sign stove strawberry streetlight string bean submarine suitcase sun swan sweater\n",
      "swing set sword syringe t-shirt table teapot teddy-bear telephone\n"
     ]
    }
   ],
   "source": [
    "# Retrieve list of classes.\n",
    "\n",
    "def list_bucket(bucket, regexp='.*'):\n",
    "    \"\"\"Returns a (filtered) list of Keys in specified GCE bucket.\"\"\"\n",
    "    keys = []\n",
    "    fh = request.urlopen('https://storage.googleapis.com/%s' % bucket)\n",
    "    content = minidom.parseString(fh.read())\n",
    "    for e in content.getElementsByTagName('Contents'):\n",
    "        key = e.getElementsByTagName('Key')[0].firstChild.data\n",
    "        if re.match(regexp, key):\n",
    "            keys.append(key)\n",
    "    return keys\n",
    "\n",
    "all_ndjsons = list_bucket('quickdraw_dataset', '.*ndjson$')\n",
    "print('available: (%d)' % len(all_ndjsons))\n",
    "print('\\n'.join(textwrap.wrap(\n",
    "    ' '.join([key.split('/')[-1].split('.')[0] for key in all_ndjsons]),\n",
    "    width=100)))"
   ]
  },
  {
   "cell_type": "code",
   "execution_count": 4,
   "metadata": {
    "colab": {},
    "colab_type": "code",
    "collapsed": true,
    "id": "imd5ykBpPkxx"
   },
   "outputs": [],
   "source": [
    "# Store all data locally in this directory.\n",
    "data_path = 'data'\n",
    "if not os.path.exists(data_path): \n",
    "  os.mkdir(data_path)\n",
    "\n",
    "# Mini group of two animals.\n",
    "pets = ['cat', 'dog']\n",
    "\n",
    "# Somewhat larger group of zoo animals.\n",
    "zoo = ['elephant', 'giraffe', 'kangaroo', 'lion', 'monkey', 'panda',\n",
    "       'penguin', 'rhinoceros', 'tiger', 'zebra']\n",
    "\n",
    "# Even larger group of all animals.\n",
    "animals = ['bat', 'bird', 'butterfly', 'camel', 'cat', 'cow', 'crab',\n",
    "           'crocodile', 'dog', 'dolphin', 'duck', 'elephant', 'fish',\n",
    "           'frog', 'giraffe', 'hedgehog', 'horse', 'kangaroo', 'lion',\n",
    "           'lobster', 'monkey', 'mosquito', 'mouse', 'octopus', 'owl',\n",
    "           'panda', 'parrot', 'penguin', 'pig', 'rabbit', 'raccoon',\n",
    "           'rhinoceros', 'scorpion', 'sea turtle', 'shark', 'sheep',\n",
    "           'snail', 'spider', 'squirrel', 'teddy-bear', 'tiger',\n",
    "           'whale', 'zebra']\n",
    "\n",
    "# Create your own group -- the more classes you include the more challenging\n",
    "# the classification task will be...\n",
    "\n",
    "# Choose one of the above groups.\n",
    "# Note: This will result in ~100MB of download per class.\n",
    "classes, classes_name = animals, 'animals'"
   ]
  },
  {
   "cell_type": "code",
   "execution_count": 5,
   "metadata": {
    "colab": {
     "base_uri": "https://localhost:8080/",
     "height": 255
    },
    "colab_type": "code",
    "id": "lQHOtcIgQM3S",
    "outputId": "cfc70e3e-18b5-4e9f-deeb-24cdb11f0b6b"
   },
   "outputs": [
    {
     "name": "stdout",
     "output_type": "stream",
     "text": [
      "\n",
      "43 classes:\n",
      "bat 58.02 MB\n",
      "bird 65.86 MB\n",
      "butterfly 63.27 MB\n",
      "camel 54.31 MB\n",
      "cat 73.12 MB\n",
      "cow 91.94 MB\n",
      "crab 76.46 MB\n",
      "crocodile 57.19 MB\n",
      "dog 87.06 MB\n",
      "dolphin 46.29 MB\n",
      "duck 67.93 MB\n",
      "elephant 70.86 MB\n",
      "fish 48.59 MB\n",
      "frog 92.50 MB\n",
      "giraffe 58.27 MB\n",
      "hedgehog 90.76 MB\n",
      "horse 99.79 MB\n",
      "kangaroo 96.06 MB\n",
      "lion 90.47 MB\n",
      "lobster 86.65 MB\n",
      "monkey 91.05 MB\n",
      "mosquito 64.99 MB\n",
      "mouse 76.35 MB\n",
      "octopus 79.30 MB\n",
      "owl 108.10 MB\n",
      "panda 97.04 MB\n",
      "parrot 96.42 MB\n",
      "penguin 137.90 MB\n",
      "pig 124.13 MB\n",
      "rabbit 95.05 MB\n",
      "raccoon 89.36 MB\n",
      "rhinoceros 92.20 MB\n",
      "scorpion 104.07 MB\n",
      "sea turtle 70.49 MB\n",
      "shark 48.55 MB\n",
      "sheep 80.55 MB\n",
      "snail 69.58 MB\n",
      "spider 115.32 MB\n",
      "squirrel 100.65 MB\n",
      "teddy-bear 128.27 MB\n",
      "tiger 86.09 MB\n",
      "whale 53.94 MB\n",
      "zebra 92.10 MB\n",
      "\n",
      "DONE :)\n"
     ]
    }
   ],
   "source": [
    "# Download the chosen group.\n",
    "\n",
    "def valid_ndjson(filename):\n",
    "    \"\"\"Checks presence + completeness of .ndjson file.\"\"\"\n",
    "    try:\n",
    "        json.loads(open(filename).readlines()[-1])\n",
    "        return True\n",
    "    except (ValueError, IOError):\n",
    "        return False\n",
    "\n",
    "def retrieve(bucket, key, filename):\n",
    "    \"\"\"Returns a file specified by its Key from a GCE bucket.\"\"\"\n",
    "    url = 'https://storage.googleapis.com/%s/%s' % (bucket, key)\n",
    "    if not os.path.isfile(filename):\n",
    "        request.urlretrieve(url=url, filename=filename)\n",
    "    while not valid_ndjson(filename):\n",
    "        print('*** Corrupted download (%.2f MB), retrying...' % (os.path.getsize(filename) / 2.**20))\n",
    "        request.urlretrieve(url=url, filename=filename)\n",
    "\n",
    "if not os.path.exists(data_path):\n",
    "    os.mkdir(data_path)\n",
    "\n",
    "print('\\n%d classes:' % len(classes))\n",
    "\n",
    "for name in classes:\n",
    "    print(name, end=' ')\n",
    "    dst = '%s/%s.ndjson' % (data_path, name)\n",
    "    retrieve('quickdraw_dataset', 'full/simplified/%s.ndjson' % name, dst)\n",
    "    print('%.2f MB' % (os.path.getsize(dst) / 2.**20))\n",
    "\n",
    "print('\\nDONE :)')\n"
   ]
  },
  {
   "cell_type": "markdown",
   "metadata": {
    "colab_type": "text",
    "id": "3PBtoAMsQ558"
   },
   "source": [
    "# Inspect the data"
   ]
  },
  {
   "cell_type": "code",
   "execution_count": 6,
   "metadata": {
    "colab": {
     "base_uri": "https://localhost:8080/",
     "height": 204
    },
    "colab_type": "code",
    "id": "-HHhNxZ3QNSW",
    "outputId": "e76d7ff6-7d62-417d-ca65-44c4031a86fe"
   },
   "outputs": [
    {
     "name": "stdout",
     "output_type": "stream",
     "text": [
      "total 7859840\r\n",
      "-rw-r--r--  1 harish  staff    58M Oct 28 12:47 bat.ndjson\r\n",
      "-rw-r--r--  1 harish  staff    66M Oct 28 12:47 bird.ndjson\r\n",
      "-rw-r--r--  1 harish  staff    63M Oct 28 12:47 butterfly.ndjson\r\n",
      "-rw-r--r--  1 harish  staff    54M Oct 28 12:47 camel.ndjson\r\n",
      "-rw-r--r--  1 harish  staff    73M Oct 28 12:47 cat.ndjson\r\n",
      "-rw-r--r--  1 harish  staff    92M Oct 28 12:47 cow.ndjson\r\n",
      "-rw-r--r--  1 harish  staff    76M Oct 28 12:48 crab.ndjson\r\n",
      "-rw-r--r--  1 harish  staff    57M Oct 28 12:48 crocodile.ndjson\r\n",
      "-rw-r--r--  1 harish  staff    87M Oct 28 12:48 dog.ndjson\r\n",
      "-rw-r--r--  1 harish  staff    46M Oct 28 12:48 dolphin.ndjson\r\n",
      "-rw-r--r--  1 harish  staff    68M Oct 28 12:48 duck.ndjson\r\n",
      "-rw-r--r--  1 harish  staff    71M Oct 28 12:48 elephant.ndjson\r\n",
      "-rw-r--r--  1 harish  staff    49M Oct 28 12:48 fish.ndjson\r\n",
      "-rw-r--r--  1 harish  staff    93M Oct 28 12:48 frog.ndjson\r\n",
      "-rw-r--r--  1 harish  staff    58M Oct 28 12:48 giraffe.ndjson\r\n",
      "-rw-r--r--  1 harish  staff    91M Oct 28 12:48 hedgehog.ndjson\r\n",
      "-rw-r--r--  1 harish  staff   100M Oct 28 12:49 horse.ndjson\r\n",
      "-rw-r--r--  1 harish  staff    96M Oct 28 12:49 kangaroo.ndjson\r\n",
      "-rw-r--r--  1 harish  staff    90M Oct 28 12:49 lion.ndjson\r\n",
      "-rw-r--r--  1 harish  staff    87M Oct 28 12:49 lobster.ndjson\r\n",
      "-rw-r--r--  1 harish  staff    91M Oct 28 12:49 monkey.ndjson\r\n",
      "-rw-r--r--  1 harish  staff    65M Oct 28 12:49 mosquito.ndjson\r\n",
      "-rw-r--r--  1 harish  staff    76M Oct 28 12:49 mouse.ndjson\r\n",
      "-rw-r--r--  1 harish  staff    79M Oct 28 12:50 octopus.ndjson\r\n",
      "-rw-r--r--  1 harish  staff   108M Oct 28 12:50 owl.ndjson\r\n",
      "-rw-r--r--  1 harish  staff    97M Oct 28 12:50 panda.ndjson\r\n",
      "-rw-r--r--  1 harish  staff    96M Oct 28 12:50 parrot.ndjson\r\n",
      "-rw-r--r--  1 harish  staff   138M Oct 28 12:50 penguin.ndjson\r\n",
      "-rw-r--r--  1 harish  staff   124M Oct 28 12:50 pig.ndjson\r\n",
      "-rw-r--r--  1 harish  staff    95M Oct 28 12:50 rabbit.ndjson\r\n",
      "-rw-r--r--  1 harish  staff    89M Oct 28 12:51 raccoon.ndjson\r\n",
      "-rw-r--r--  1 harish  staff    92M Oct 28 12:51 rhinoceros.ndjson\r\n",
      "-rw-r--r--  1 harish  staff   104M Oct 28 12:51 scorpion.ndjson\r\n",
      "-rw-r--r--  1 harish  staff    70M Oct 28 12:51 sea turtle.ndjson\r\n",
      "-rw-r--r--  1 harish  staff    49M Oct 28 12:51 shark.ndjson\r\n",
      "-rw-r--r--  1 harish  staff    81M Oct 28 12:51 sheep.ndjson\r\n",
      "-rw-r--r--  1 harish  staff    70M Oct 28 12:51 snail.ndjson\r\n",
      "-rw-r--r--  1 harish  staff   115M Oct 28 12:51 spider.ndjson\r\n",
      "-rw-r--r--  1 harish  staff   101M Oct 28 12:52 squirrel.ndjson\r\n",
      "-rw-r--r--  1 harish  staff   128M Oct 28 12:52 teddy-bear.ndjson\r\n",
      "-rw-r--r--  1 harish  staff    86M Oct 28 12:52 tiger.ndjson\r\n",
      "-rw-r--r--  1 harish  staff    54M Oct 28 12:52 whale.ndjson\r\n",
      "-rw-r--r--  1 harish  staff    92M Oct 28 12:52 zebra.ndjson\r\n"
     ]
    }
   ],
   "source": [
    "# So let's check out the downloaded files...\n",
    "!ls -lh $data_path"
   ]
  },
  {
   "cell_type": "code",
   "execution_count": 7,
   "metadata": {
    "colab": {
     "base_uri": "https://localhost:8080/",
     "height": 71
    },
    "colab_type": "code",
    "id": "lL73Zh1hRDeo",
    "outputId": "092d9507-2908-4f30-fc14-9a46f161b3da"
   },
   "outputs": [
    {
     "name": "stdout",
     "output_type": "stream",
     "text": [
      "{\"word\":\"bird\",\"countrycode\":\"US\",\"timestamp\":\"2017-03-09 00:28:55.63775 UTC\",\"recognized\":true,\"key_id\":\"4926006882205696\",\"drawing\":[[[0,11,23,50,72,96,97,132,158,224,255],[22,9,2,0,26,45,71,40,27,10,9]]]}\n",
      "{\"word\":\"bird\",\"countrycode\":\"US\",\"timestamp\":\"2017-03-29 04:22:58.82297 UTC\",\"recognized\":true,\"key_id\":\"5357674197680128\",\"drawing\":[[[65,194,221,240,250,255,251,242,227,210,173,154,133,86,58,55],[102,104,111,120,130,151,161,173,181,184,186,181,170,138,106,94]],[[211,216],[133,138]],[[208,205,205],[154,164,159]],[[94,82,74,74,83,91,106,139,164],[143,165,196,244,250,250,242,211,146]],[[107,108,111,127,155,175,181,181,176,178],[84,53,44,20,2,0,16,52,79,92]],[[42,25,3,0],[94,89,62,39]]]}\n",
      "{\"word\":\"bird\",\"countrycode\":\"US\",\"timestamp\":\"2017-03-17 19:31:28.87981 UTC\",\"recognized\":true,\"key_id\":\"5553672849195008\",\"drawing\":[[[159,163,175,189,201,209,227,245,253,255],[15,9,2,0,5,16,8,7,15,23]],[[124,108,101,97,96,105,152,159,171,178,179,168,154,140,125],[52,50,55,63,81,93,115,114,101,73,...\n"
     ]
    }
   ],
   "source": [
    "# What is the NDJSON file format?\n",
    "# Seems to be one JSON dictionary per line...\n",
    "path = sorted(tf.gfile.Glob(os.path.join(data_path, '*.ndjson')))[1]\n",
    "print(open(path).read()[:1000] + '...')"
   ]
  },
  {
   "cell_type": "code",
   "execution_count": 8,
   "metadata": {
    "colab": {
     "base_uri": "https://localhost:8080/",
     "height": 34
    },
    "colab_type": "code",
    "id": "eY_5NtJXTW5-",
    "outputId": "cc847a10-10b2-4c7d-8e9d-746c66cb4107"
   },
   "outputs": [
    {
     "data": {
      "text/plain": [
       "[u'word', u'countrycode', u'timestamp', u'recognized', u'key_id', u'drawing']"
      ]
     },
     "execution_count": 8,
     "metadata": {},
     "output_type": "execute_result"
    }
   ],
   "source": [
    "# Parse single line.\n",
    "data_json = json.loads(open(path).readline())\n",
    "data_json.keys()"
   ]
  },
  {
   "cell_type": "code",
   "execution_count": 9,
   "metadata": {
    "colab": {
     "base_uri": "https://localhost:8080/",
     "height": 102
    },
    "colab_type": "code",
    "id": "Uf2G8GZKTlXC",
    "outputId": "b952b9a1-9af5-4010-da02-40922d450097"
   },
   "outputs": [
    {
     "name": "stdout",
     "output_type": "stream",
     "text": [
      "                word   ->   bird\n",
      "         countrycode   ->   US\n",
      "           timestamp   ->   2017-03-09 00:28:55.63775 UTC\n",
      "          recognized   ->   True\n",
      "              key_id   ->   4926006882205696\n"
     ]
    }
   ],
   "source": [
    "# So we have some meta information...\n",
    "for k, v in data_json.items():\n",
    "    if k != 'drawing':\n",
    "        print('%20s   ->   %s' % (k, v))"
   ]
  },
  {
   "cell_type": "code",
   "execution_count": 10,
   "metadata": {
    "colab": {
     "base_uri": "https://localhost:8080/",
     "height": 221
    },
    "colab_type": "code",
    "id": "xl1i5GDxTmig",
    "outputId": "a3ee715c-db8f-4397-a94a-d06bcb6200d8"
   },
   "outputs": [
    {
     "data": {
      "text/plain": [
       "[(2, 11)]"
      ]
     },
     "execution_count": 10,
     "metadata": {},
     "output_type": "execute_result"
    }
   ],
   "source": [
    "# ...and the actual drawing.\n",
    "drawing = data_json['drawing']\n",
    "# The drawing consists of a series of strokes:\n",
    "[np.array(stroke).shape for stroke in drawing]"
   ]
  },
  {
   "cell_type": "code",
   "execution_count": 11,
   "metadata": {
    "colab": {
     "base_uri": "https://localhost:8080/",
     "height": 347
    },
    "colab_type": "code",
    "id": "ST-U6uEUTnxB",
    "outputId": "8fde6558-6ff9-4ae8-c781-e47ebcea6da1"
   },
   "outputs": [],
   "source": [
    "# Draw the image -- the strokes all have have shape (2, n)\n",
    "# so the first index seems to be x/y coordinate:\n",
    "\n",
    "def draw_strokes(drawing):\n",
    "  # Use a different color for each stroke\n",
    "  colors = cm.rainbow(np.linspace(0, 1, len(drawing)))\n",
    "  plt.axis('off')\n",
    "  for stroke, c in zip(drawing, colors):\n",
    "    #print(stroke[0], stroke[1])\n",
    "    plt.plot(np.array(stroke[0]), -1 * np.array(stroke[1]), color=c)\n",
    "    \n",
    "draw_strokes(drawing)"
   ]
  },
  {
   "cell_type": "code",
   "execution_count": 12,
   "metadata": {
    "colab": {
     "base_uri": "https://localhost:8080/",
     "height": 34
    },
    "colab_type": "code",
    "id": "axa3o1aHTpVL",
    "outputId": "4694b9c0-bced-4729-da3f-03b23126e47b"
   },
   "outputs": [
    {
     "name": "stdout",
     "output_type": "stream",
     "text": [
      "loading some \"bat\"...\n"
     ]
    }
   ],
   "source": [
    "# Some more code to load many sketches at once.\n",
    "# Let's ignore the difficult \"unrecognized\" sketches for now...\n",
    "# (i.e. unrecognized by the official quickdraw classifier)\n",
    "\n",
    "def convert(line):\n",
    "    \"\"\"Converts single line to JSON + converts 'drawing' to list of np.array.\"\"\"\n",
    "    d = json.loads(line)\n",
    "    d['drawing'] = [np.array(stroke) for stroke in d['drawing']]\n",
    "    return d\n",
    "\n",
    "def loaditer(name, unrecognized=False):\n",
    "    \"\"\"Returns iterable of drawings in specified file.\n",
    "\n",
    "    Args:\n",
    "      name: Name of the downloaded object (e.g. \"elephant\").\n",
    "      unrecognized: Whether to include drawings that were not recognized\n",
    "          by Google AI (i.e. the hard ones).\n",
    "    \"\"\"\n",
    "    for line in open('%s/%s.ndjson' % (data_path, name)):\n",
    "        d = convert(line)\n",
    "        if d['recognized'] or unrecognized:\n",
    "            yield d\n",
    "\n",
    "def loadn(name, n, unrecognized=False):\n",
    "    \"\"\"Returns list of drawings.\n",
    "\n",
    "    Args:\n",
    "      name: Name of the downloaded object (e.g. \"elephant\").\n",
    "      n: Number of drawings to load.\n",
    "      unrecognized: Whether to include drawings that were not recognized\n",
    "          by Google AI (i.e. the hard ones).\n",
    "    \"\"\"\n",
    "    it = loaditer(name, unrecognized=unrecognized)\n",
    "    return list(itertools.islice(it, 0, n))\n",
    "\n",
    "print('loading some \"%s\"...' % classes[0])\n",
    "sample = loadn(classes[0], 100)"
   ]
  },
  {
   "cell_type": "code",
   "execution_count": 13,
   "metadata": {
    "colab": {
     "base_uri": "https://localhost:8080/",
     "height": 238
    },
    "colab_type": "code",
    "id": "izCC7K2lV17W",
    "outputId": "7841512c-3817-452c-914d-7ebb92e7667d"
   },
   "outputs": [
    {
     "data": {
      "text/plain": [
       "{u'countrycode': u'RO',\n",
       " u'drawing': [array([[111,  89,  79,  77,  82,  89, 103, 113, 126, 125, 104],\n",
       "         [ 53, 106, 147, 174, 179, 180, 172, 156, 114,  54,  55]]),\n",
       "  array([[103, 103, 111, 126, 137, 137, 127],\n",
       "         [ 53,  17,   1,   2,  14,  25,  44]]),\n",
       "  array([[113,  98,  45,  41,  40,  45,  27,  22,  21,  25,  20,   2,   0,\n",
       "            8,  42,  61,  73],\n",
       "         [ 55,  48,  12,  10,  13,  53,  54,  61,  93, 125, 126, 115, 123,\n",
       "          136, 165, 167, 158]]),\n",
       "  array([[132, 143, 158, 171, 208, 215, 219, 248, 251, 255, 254, 242, 227,\n",
       "          233, 233, 222, 211, 187, 144, 125, 111, 107],\n",
       "         [ 61,  56,  37,  26,  12,  65,  67,  65,  67,  82, 102, 130, 153,\n",
       "          156, 160, 173, 180, 188, 189, 189, 186, 181]])],\n",
       " u'key_id': u'5073402912047104',\n",
       " u'recognized': True,\n",
       " u'timestamp': u'2017-03-07 14:44:14.70063 UTC',\n",
       " u'word': u'bat'}"
      ]
     },
     "execution_count": 13,
     "metadata": {},
     "output_type": "execute_result"
    }
   ],
   "source": [
    "sample[0]"
   ]
  },
  {
   "cell_type": "code",
   "execution_count": 14,
   "metadata": {
    "colab": {
     "base_uri": "https://localhost:8080/",
     "height": 592
    },
    "colab_type": "code",
    "id": "owBC4VL9WCr4",
    "outputId": "d3fdca56-d5ce-4505-deab-928e52855f3d"
   },
   "outputs": [],
   "source": [
    "# Some more drawings...\n",
    "plt.figure(figsize=(10, 10))\n",
    "n = 3\n",
    "for x in range(n):\n",
    "    for y in range(n):\n",
    "        i = x * n + y\n",
    "        plt.subplot(n, n, i + 1)\n",
    "        drawing = sample[i]['drawing']\n",
    "        draw_strokes(drawing)\n",
    "        \n",
    "# Elephants!"
   ]
  },
  {
   "cell_type": "code",
   "execution_count": 14,
   "metadata": {
    "colab": {
     "base_uri": "https://localhost:8080/",
     "height": 187
    },
    "colab_type": "code",
    "id": "w92hgeIfgCaA",
    "outputId": "92aabd27-57f3-4220-e62a-468a8437c921"
   },
   "outputs": [
    {
     "name": "stdout",
     "output_type": "stream",
     "text": [
      "elephant 126969 recognized 104986\n",
      "giraffe 127182 recognized 122396\n",
      "kangaroo 174470 recognized 152511\n",
      "lion 120949 recognized 98976\n",
      "monkey 127633 recognized 105650\n",
      "panda 113613 recognized 94814\n",
      "penguin 253791 recognized 231826\n",
      "rhinoceros 188484 recognized 166539\n",
      "tiger 121067 recognized 110177\n",
      "zebra 144608 recognized 127159\n"
     ]
    }
   ],
   "source": [
    "# Let's first check how many [recognized=True] examples we have in each class.\n",
    "# Depending on your choice of classes you could generate >200k examples / class...\n",
    "for name in classes:\n",
    "    print(name, len(list(open('%s/%s.ndjson' % (data_path, name)))), 'recognized', len(list(loaditer(name))))"
   ]
  },
  {
   "cell_type": "markdown",
   "metadata": {
    "colab_type": "text",
    "id": "qZhJHLGUXp7g"
   },
   "source": [
    "# Strokes -> Pictures"
   ]
  },
  {
   "cell_type": "code",
   "execution_count": 15,
   "metadata": {
    "colab": {},
    "colab_type": "code",
    "collapsed": true,
    "id": "ZljwIGDeWXyF"
   },
   "outputs": [],
   "source": [
    "# The sequence information is important! But... for now we'll \n",
    "# convert these sequences to plain old images."
   ]
  },
  {
   "cell_type": "code",
   "execution_count": 16,
   "metadata": {
    "colab": {},
    "colab_type": "code",
    "collapsed": true,
    "id": "8DpyF28KXnWF"
   },
   "outputs": [],
   "source": [
    "def json_to_img(drawing, img_sz=64, lw=3, maximize=True):\n",
    "    img = Image.new('L', (img_sz, img_sz))\n",
    "    draw = ImageDraw.Draw(img)\n",
    "    lines = np.array([\n",
    "        stroke[0:2, i:i+2]\n",
    "        for stroke in drawing\n",
    "        for i in range(stroke.shape[1] - 1)\n",
    "    ], dtype=np.float32)\n",
    "    if maximize:\n",
    "        for i in range(2):\n",
    "            min_, max_ = lines[:,i,:].min() * 0.95, lines[:,i,:].max() * 1.05\n",
    "            lines[:,i,:] = (lines[:,i,:] - min_) / max(max_ - min_, 1)\n",
    "    else:\n",
    "        lines /= 1024\n",
    "    for line in lines:\n",
    "        draw.line(tuple(line.T.reshape((-1,)) * img_sz), fill='white', width=lw)\n",
    "    return img"
   ]
  },
  {
   "cell_type": "code",
   "execution_count": 17,
   "metadata": {
    "colab": {
     "base_uri": "https://localhost:8080/",
     "height": 81
    },
    "colab_type": "code",
    "id": "b1KrwVjhZHlE",
    "outputId": "87988210-9503-438b-f753-6138804b9304"
   },
   "outputs": [
    {
     "data": {
      "image/png": "[encoded data removed]",
      "text/plain": [
       "<PIL.Image.Image image mode=L size=64x64 at 0x181DE42950>"
      ]
     },
     "execution_count": 17,
     "metadata": {},
     "output_type": "execute_result"
    }
   ],
   "source": [
    "json_to_img(drawing)"
   ]
  },
  {
   "cell_type": "code",
   "execution_count": 18,
   "metadata": {
    "colab": {
     "base_uri": "https://localhost:8080/",
     "height": 364
    },
    "colab_type": "code",
    "id": "B6bCQ62MZJZW",
    "outputId": "143bbc90-4e98-40dd-9794-8c414bf85a1b"
   },
   "outputs": [
    {
     "name": "stdout",
     "output_type": "stream",
     "text": [
      "zebra\n"
     ]
    }
   ],
   "source": [
    "# Fetch some images + shuffle order.\n",
    "n_per_class = 10000\n",
    "drawings_matrix = [loadn(name, n_per_class) for name in classes]\n",
    "drawings_list = functools.reduce(lambda x, y: x + y, drawings_matrix, [])\n",
    "np.random.seed(1)\n",
    "drawings_list = np.random.permutation(drawings_list)\n",
    "\n",
    "# Quick test to see how our code works so far\n",
    "draw_strokes(drawings_list[0]['drawing'])\n",
    "print(str(drawings_list[0]['word']))"
   ]
  },
  {
   "cell_type": "code",
   "execution_count": 19,
   "metadata": {
    "colab": {
     "base_uri": "https://localhost:8080/",
     "height": 81
    },
    "colab_type": "code",
    "id": "auEjUQCMaFlb",
    "outputId": "879987bf-9c5c-4223-f03f-00e4d5fcd71b"
   },
   "outputs": [
    {
     "data": {
      "image/png": "[encoded data removed]",
      "text/plain": [
       "<PIL.Image.Image image mode=L size=64x64 at 0x181F938D10>"
      ]
     },
     "execution_count": 19,
     "metadata": {},
     "output_type": "execute_result"
    }
   ],
   "source": [
    "json_to_img(drawings_list[0]['drawing'])"
   ]
  },
  {
   "cell_type": "markdown",
   "metadata": {
    "colab_type": "text",
    "id": "WR4Nk8Sed9Il"
   },
   "source": [
    "# Save a dataset to disk"
   ]
  },
  {
   "cell_type": "code",
   "execution_count": 20,
   "metadata": {
    "colab": {},
    "colab_type": "code",
    "collapsed": true,
    "id": "yuaNgBowdg2B"
   },
   "outputs": [],
   "source": [
    "X, y = [], []\n",
    "for drawing in drawings_list:\n",
    "  X.append(np.array(json_to_img(drawing['drawing'])))\n",
    "  y.append(str(drawing['word']))\n",
    "  \n",
    "dataset_path = 'mini-quickdraw.npz'\n",
    "out = open(dataset_path, 'w')\n",
    "np.savez_compressed(out, X, y, X=X, y=y)"
   ]
  },
  {
   "cell_type": "code",
   "execution_count": 21,
   "metadata": {
    "colab": {
     "base_uri": "https://localhost:8080/",
     "height": 34
    },
    "colab_type": "code",
    "id": "fDi9jDoBd4tR",
    "outputId": "055f6e25-3b09-4a94-ad59-da81acb2b7c6"
   },
   "outputs": [
    {
     "name": "stdout",
     "output_type": "stream",
     "text": [
      "(430000, 64, 64) (430000,)\n"
     ]
    }
   ],
   "source": [
    "# Demonstrate loading\n",
    "loaded = np.load(open(dataset_path))\n",
    "X, y = loaded[\"X\"], loaded[\"y\"]\n",
    "print(X.shape, y.shape)"
   ]
  },
  {
   "cell_type": "code",
   "execution_count": 26,
   "metadata": {
    "colab": {
     "base_uri": "https://localhost:8080/",
     "height": 366
    },
    "colab_type": "code",
    "id": "XcyLOzPWe6zo",
    "outputId": "807ec0d7-87eb-4477-d513-00d4171f8682"
   },
   "outputs": [
    {
     "name": "stdout",
     "output_type": "stream",
     "text": [
      "zebra\n"
     ]
    },
    {
     "data": {
      "image/png": "[encoded data removed]",
      "text/plain": [
       "<matplotlib.figure.Figure at 0x184ecb3d90>"
      ]
     },
     "metadata": {},
     "output_type": "display_data"
    }
   ],
   "source": [
    "plt.imshow(X[0])\n",
    "print(y[0])"
   ]
  },
  {
   "cell_type": "code",
   "execution_count": null,
   "metadata": {
    "collapsed": true
   },
   "outputs": [],
   "source": []
  }
 ],
 "metadata": {
  "colab": {
   "collapsed_sections": [],
   "name": "5-quickdraw-loader.ipynb",
   "provenance": [],
   "toc_visible": true,
   "version": "0.3.2"
  },
  "kernelspec": {
   "display_name": "Python 2",
   "language": "python",
   "name": "python2"
  },
  "language_info": {
   "codemirror_mode": {
    "name": "ipython",
    "version": 2
   },
   "file_extension": ".py",
   "mimetype": "text/x-python",
   "name": "python",
   "nbconvert_exporter": "python",
   "pygments_lexer": "ipython2",
   "version": "2.7.13"
  }
 },
 "nbformat": 4,
 "nbformat_minor": 1
}
