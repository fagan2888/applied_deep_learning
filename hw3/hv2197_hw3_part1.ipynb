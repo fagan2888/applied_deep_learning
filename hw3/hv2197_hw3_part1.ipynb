{
  "nbformat": 4,
  "nbformat_minor": 0,
  "metadata": {
    "colab": {
      "name": "5_quickdraw_loader_draft.ipynb",
      "version": "0.3.2",
      "provenance": [],
      "collapsed_sections": []
    },
    "kernelspec": {
      "name": "python2",
      "display_name": "Python 2"
    },
    "accelerator": "GPU"
  },
  "cells": [
    {
      "metadata": {
        "colab_type": "text",
        "id": "3MA2k7mUCHz0"
      },
      "cell_type": "markdown",
      "source": [
        "Loads the QuickDraw dataset. Demonstrates reading the original files, working with the data as a sequence of strokes, and converting those strokes to images. Also writes a dataset to disk in a convenient format."
      ]
    },
    {
      "metadata": {
        "colab_type": "code",
        "id": "h3jfQ3KJOnAb",
        "colab": {}
      },
      "cell_type": "code",
      "source": [
        "from __future__ import print_function\n",
        "\n",
        "import matplotlib.cm as cm\n",
        "import matplotlib.pyplot as plt\n",
        "import numpy as np\n",
        "import functools, itertools, json, os, re, textwrap\n",
        "import tensorflow as tf\n",
        "\n",
        "from PIL import Image, ImageDraw\n",
        "from six.moves.urllib import request\n",
        "from xml.dom import minidom"
      ],
      "execution_count": 0,
      "outputs": []
    },
    {
      "metadata": {
        "colab_type": "text",
        "id": "B3e-XusiPh_5"
      },
      "cell_type": "markdown",
      "source": [
        "# Get the data"
      ]
    },
    {
      "metadata": {
        "colab_type": "code",
        "id": "XeAYBs7PPd7Y",
        "outputId": "8eb54ec6-57e0-4c6c-e5fc-b7997625c39f",
        "colab": {
          "base_uri": "https://localhost:8080/",
          "height": 476
        }
      },
      "cell_type": "code",
      "source": [
        "# Retrieve list of classes.\n",
        "\n",
        "def list_bucket(bucket, regexp='.*'):\n",
        "    \"\"\"Returns a (filtered) list of Keys in specified GCE bucket.\"\"\"\n",
        "    keys = []\n",
        "    fh = request.urlopen('https://storage.googleapis.com/%s' % bucket)\n",
        "    content = minidom.parseString(fh.read())\n",
        "    for e in content.getElementsByTagName('Contents'):\n",
        "        key = e.getElementsByTagName('Key')[0].firstChild.data\n",
        "        if re.match(regexp, key):\n",
        "            keys.append(key)\n",
        "    return keys\n",
        "\n",
        "all_ndjsons = list_bucket('quickdraw_dataset', '.*ndjson$')\n",
        "print('available: (%d)' % len(all_ndjsons))\n",
        "print('\\n'.join(textwrap.wrap(\n",
        "    ' '.join([key.split('/')[-1].split('.')[0] for key in all_ndjsons]),\n",
        "    width=100)))"
      ],
      "execution_count": 4,
      "outputs": [
        {
          "output_type": "stream",
          "text": [
            "available: (309)\n",
            "The Eiffel Tower The Great Wall of China The Mona Lisa aircraft carrier airplane alarm clock\n",
            "ambulance angel animal migration ant anvil apple arm asparagus axe backpack banana bandage barn\n",
            "baseball bat baseball basket basketball bat bathtub beach bear beard bed bee belt bench bicycle\n",
            "binoculars bird birthday cake blackberry blueberry book boomerang bottlecap bowtie bracelet brain\n",
            "bread bridge broccoli broom bucket bulldozer bus bush butterfly cactus cake calculator calendar\n",
            "camel camera camouflage campfire candle cannon canoe car carrot castle cat ceiling fan cell phone\n",
            "cello chair chandelier church circle clarinet clock cloud coffee cup compass computer cookie cooler\n",
            "couch cow crab crayon crocodile crown cruise ship cup diamond dishwasher diving board dog dolphin\n",
            "donut door dragon dresser drill drums duck dumbbell ear elbow elephant envelope eraser eye\n",
            "eyeglasses face fan feather fence finger fire hydrant fireplace firetruck fish flamingo flashlight\n",
            "flip flops floor lamp flower flying saucer foot fork frog frying pan garden hose garden giraffe\n",
            "goatee golf club grapes grass guitar hamburger hammer hand harp hat headphones hedgehog helicopter\n",
            "helmet hexagon hockey puck hockey stick horse hospital hot air balloon hot dog hot tub hourglass\n",
            "house plant house hurricane ice cream jacket jail kangaroo key keyboard knee knife ladder lantern\n",
            "laptop leaf leg light bulb lighter lighthouse lightning line lion lipstick lobster lollipop mailbox\n",
            "map marker matches megaphone mermaid microphone microwave monkey moon mosquito motorbike mountain\n",
            "mouse moustache mouth mug mushroom nail necklace nose ocean octagon octopus onion oven owl paint can\n",
            "paintbrush palm tree panda pants paper clip parachute parrot passport peanut pear peas pencil\n",
            "penguin piano pickup truck picture frame pig pillow pineapple pizza pliers police car pond pool\n",
            "popsicle postcard potato power outlet purse rabbit raccoon radio rain rainbow rake remote control\n",
            "rhinoceros rifle river roller coaster rollerskates sailboat sandwich saw saxophone school bus\n",
            "scissors scorpion screwdriver sea turtle see saw shark sheep shoe shorts shovel sink skateboard\n",
            "skull skyscraper sleeping bag smiley face snail snake snorkel snowflake snowman soccer ball sock\n",
            "speedboat spider spoon spreadsheet square squiggle squirrel stairs star steak stereo stethoscope\n",
            "stitches stop sign stove strawberry streetlight string bean submarine suitcase sun swan sweater\n",
            "swing set sword syringe t-shirt table teapot teddy-bear telephone\n"
          ],
          "name": "stdout"
        }
      ]
    },
    {
      "metadata": {
        "colab_type": "code",
        "id": "imd5ykBpPkxx",
        "colab": {}
      },
      "cell_type": "code",
      "source": [
        "# Store all data locally in this directory.\n",
        "data_path = 'data'\n",
        "if not os.path.exists(data_path): \n",
        "  os.mkdir(data_path)\n",
        "\n",
        "# Mini group of two animals.\n",
        "pets = ['cat', 'dog']\n",
        "\n",
        "# Somewhat larger group of zoo animals.\n",
        "zoo = ['elephant', 'giraffe', 'kangaroo', 'lion', 'monkey', 'panda',\n",
        "       'penguin', 'rhinoceros', 'tiger', 'zebra']\n",
        "\n",
        "# Even larger group of all animals.\n",
        "animals = ['bat', 'bird', 'butterfly', 'camel', 'cat', 'cow', 'crab',\n",
        "           'crocodile', 'dog', 'dolphin', 'duck', 'elephant', 'fish',\n",
        "           'frog', 'giraffe', 'hedgehog', 'horse', 'kangaroo', 'lion',\n",
        "           'lobster', 'monkey', 'mosquito', 'mouse', 'octopus', 'owl',\n",
        "           'panda', 'parrot', 'penguin', 'pig', 'rabbit', 'raccoon',\n",
        "           'rhinoceros', 'scorpion', 'sea turtle', 'shark', 'sheep',\n",
        "           'snail', 'spider', 'squirrel', 'teddy-bear', 'tiger',\n",
        "           'whale', 'zebra']\n",
        "\n",
        "# Create your own group -- the more classes you include the more challenging\n",
        "# the classification task will be...\n",
        "\n",
        "# Choose one of the above groups.\n",
        "# Note: This will result in ~100MB of download per class.\n",
        "classes, classes_name = animals, 'animals'"
      ],
      "execution_count": 0,
      "outputs": []
    },
    {
      "metadata": {
        "colab_type": "code",
        "id": "lQHOtcIgQM3S",
        "outputId": "5bb84415-5d33-4cc2-86c9-6f80b13eeafc",
        "colab": {
          "base_uri": "https://localhost:8080/",
          "height": 816
        }
      },
      "cell_type": "code",
      "source": [
        "# Download the chosen group.\n",
        "\n",
        "def valid_ndjson(filename):\n",
        "    \"\"\"Checks presence + completeness of .ndjson file.\"\"\"\n",
        "    try:\n",
        "        json.loads(open(filename).readlines()[-1])\n",
        "        return True\n",
        "    except (ValueError, IOError):\n",
        "        return False\n",
        "\n",
        "def retrieve(bucket, key, filename):\n",
        "    \"\"\"Returns a file specified by its Key from a GCE bucket.\"\"\"\n",
        "    url = 'https://storage.googleapis.com/%s/%s' % (bucket, key)\n",
        "    if not os.path.isfile(filename):\n",
        "        request.urlretrieve(url=url, filename=filename)\n",
        "    while not valid_ndjson(filename):\n",
        "        print('*** Corrupted download (%.2f MB), retrying...' % (os.path.getsize(filename) / 2.**20))\n",
        "        request.urlretrieve(url=url, filename=filename)\n",
        "\n",
        "if not os.path.exists(data_path):\n",
        "    os.mkdir(data_path)\n",
        "\n",
        "print('\\n%d classes:' % len(classes))\n",
        "\n",
        "for name in classes:\n",
        "    print(name, end=' ')\n",
        "    dst = '%s/%s.ndjson' % (data_path, name)\n",
        "    retrieve('quickdraw_dataset', 'full/simplified/%s.ndjson' % name, dst)\n",
        "    print('%.2f MB' % (os.path.getsize(dst) / 2.**20))\n",
        "\n",
        "print('\\nDONE :)')\n"
      ],
      "execution_count": 6,
      "outputs": [
        {
          "output_type": "stream",
          "text": [
            "\n",
            "43 classes:\n",
            "bat 58.02 MB\n",
            "bird 65.86 MB\n",
            "butterfly 63.27 MB\n",
            "camel 54.31 MB\n",
            "cat 73.12 MB\n",
            "cow 91.94 MB\n",
            "crab 76.46 MB\n",
            "crocodile 57.19 MB\n",
            "dog 87.06 MB\n",
            "dolphin 46.29 MB\n",
            "duck 67.93 MB\n",
            "elephant 70.86 MB\n",
            "fish 48.59 MB\n",
            "frog 92.50 MB\n",
            "giraffe 58.27 MB\n",
            "hedgehog 90.76 MB\n",
            "horse 99.79 MB\n",
            "kangaroo 96.06 MB\n",
            "lion 90.47 MB\n",
            "lobster 86.65 MB\n",
            "monkey 91.05 MB\n",
            "mosquito 64.99 MB\n",
            "mouse 76.35 MB\n",
            "octopus 79.30 MB\n",
            "owl 108.10 MB\n",
            "panda 97.04 MB\n",
            "parrot 96.42 MB\n",
            "penguin 137.90 MB\n",
            "pig 124.13 MB\n",
            "rabbit 95.05 MB\n",
            "raccoon 89.36 MB\n",
            "rhinoceros 92.20 MB\n",
            "scorpion 104.07 MB\n",
            "sea turtle 70.49 MB\n",
            "shark 48.55 MB\n",
            "sheep 80.55 MB\n",
            "snail 69.58 MB\n",
            "spider 115.32 MB\n",
            "squirrel 100.65 MB\n",
            "teddy-bear 128.27 MB\n",
            "tiger 86.09 MB\n",
            "whale 53.94 MB\n",
            "zebra 92.10 MB\n",
            "\n",
            "DONE :)\n"
          ],
          "name": "stdout"
        }
      ]
    },
    {
      "metadata": {
        "colab_type": "text",
        "id": "3PBtoAMsQ558"
      },
      "cell_type": "markdown",
      "source": [
        "# Inspect the data"
      ]
    },
    {
      "metadata": {
        "colab_type": "code",
        "id": "-HHhNxZ3QNSW",
        "outputId": "27879394-6dd5-49b3-cec6-64acdbdab00c",
        "colab": {
          "base_uri": "https://localhost:8080/",
          "height": 765
        }
      },
      "cell_type": "code",
      "source": [
        "# So let's check out the downloaded files...\n",
        "!ls -lh $data_path"
      ],
      "execution_count": 7,
      "outputs": [
        {
          "output_type": "stream",
          "text": [
            "total 3.5G\n",
            "-rw-r--r-- 1 root root  59M Nov  5 21:51  bat.ndjson\n",
            "-rw-r--r-- 1 root root  66M Nov  5 21:51  bird.ndjson\n",
            "-rw-r--r-- 1 root root  64M Nov  5 21:51  butterfly.ndjson\n",
            "-rw-r--r-- 1 root root  55M Nov  5 21:51  camel.ndjson\n",
            "-rw-r--r-- 1 root root  74M Nov  5 21:51  cat.ndjson\n",
            "-rw-r--r-- 1 root root  92M Nov  5 21:51  cow.ndjson\n",
            "-rw-r--r-- 1 root root  77M Nov  5 21:51  crab.ndjson\n",
            "-rw-r--r-- 1 root root  58M Nov  5 21:51  crocodile.ndjson\n",
            "-rw-r--r-- 1 root root  88M Nov  5 21:51  dog.ndjson\n",
            "-rw-r--r-- 1 root root  47M Nov  5 21:51  dolphin.ndjson\n",
            "-rw-r--r-- 1 root root  68M Nov  5 21:51  duck.ndjson\n",
            "-rw-r--r-- 1 root root  71M Nov  5 21:52  elephant.ndjson\n",
            "-rw-r--r-- 1 root root  49M Nov  5 21:52  fish.ndjson\n",
            "-rw-r--r-- 1 root root  93M Nov  5 21:52  frog.ndjson\n",
            "-rw-r--r-- 1 root root  59M Nov  5 21:52  giraffe.ndjson\n",
            "-rw-r--r-- 1 root root  91M Nov  5 21:52  hedgehog.ndjson\n",
            "-rw-r--r-- 1 root root 100M Nov  5 21:52  horse.ndjson\n",
            "-rw-r--r-- 1 root root  97M Nov  5 21:52  kangaroo.ndjson\n",
            "-rw-r--r-- 1 root root  91M Nov  5 21:52  lion.ndjson\n",
            "-rw-r--r-- 1 root root  87M Nov  5 21:52  lobster.ndjson\n",
            "-rw-r--r-- 1 root root  92M Nov  5 21:52  monkey.ndjson\n",
            "-rw-r--r-- 1 root root  65M Nov  5 21:52  mosquito.ndjson\n",
            "-rw-r--r-- 1 root root  77M Nov  5 21:52  mouse.ndjson\n",
            "-rw-r--r-- 1 root root  80M Nov  5 21:52  octopus.ndjson\n",
            "-rw-r--r-- 1 root root 109M Nov  5 21:52  owl.ndjson\n",
            "-rw-r--r-- 1 root root  98M Nov  5 21:52  panda.ndjson\n",
            "-rw-r--r-- 1 root root  97M Nov  5 21:52  parrot.ndjson\n",
            "-rw-r--r-- 1 root root 138M Nov  5 21:52  penguin.ndjson\n",
            "-rw-r--r-- 1 root root 125M Nov  5 21:52  pig.ndjson\n",
            "-rw-r--r-- 1 root root  96M Nov  5 21:52  rabbit.ndjson\n",
            "-rw-r--r-- 1 root root  90M Nov  5 21:52  raccoon.ndjson\n",
            "-rw-r--r-- 1 root root  93M Nov  5 21:52  rhinoceros.ndjson\n",
            "-rw-r--r-- 1 root root 105M Nov  5 21:52  scorpion.ndjson\n",
            "-rw-r--r-- 1 root root  71M Nov  5 21:52 'sea turtle.ndjson'\n",
            "-rw-r--r-- 1 root root  49M Nov  5 21:52  shark.ndjson\n",
            "-rw-r--r-- 1 root root  81M Nov  5 21:52  sheep.ndjson\n",
            "-rw-r--r-- 1 root root  70M Nov  5 21:52  snail.ndjson\n",
            "-rw-r--r-- 1 root root 116M Nov  5 21:52  spider.ndjson\n",
            "-rw-r--r-- 1 root root 101M Nov  5 21:52  squirrel.ndjson\n",
            "-rw-r--r-- 1 root root 129M Nov  5 21:52  teddy-bear.ndjson\n",
            "-rw-r--r-- 1 root root  87M Nov  5 21:52  tiger.ndjson\n",
            "-rw-r--r-- 1 root root  54M Nov  5 21:52  whale.ndjson\n",
            "-rw-r--r-- 1 root root  93M Nov  5 21:52  zebra.ndjson\n"
          ],
          "name": "stdout"
        }
      ]
    },
    {
      "metadata": {
        "colab_type": "code",
        "id": "lL73Zh1hRDeo",
        "outputId": "8ac14d07-301b-4ef5-dee8-53963e66c12d",
        "colab": {
          "base_uri": "https://localhost:8080/",
          "height": 88
        }
      },
      "cell_type": "code",
      "source": [
        "# What is the NDJSON file format?\n",
        "# Seems to be one JSON dictionary per line...\n",
        "path = sorted(tf.gfile.Glob(os.path.join(data_path, '*.ndjson')))[1]\n",
        "print(open(path).read()[:1000] + '...')"
      ],
      "execution_count": 8,
      "outputs": [
        {
          "output_type": "stream",
          "text": [
            "{\"word\":\"bird\",\"countrycode\":\"US\",\"timestamp\":\"2017-03-09 00:28:55.63775 UTC\",\"recognized\":true,\"key_id\":\"4926006882205696\",\"drawing\":[[[0,11,23,50,72,96,97,132,158,224,255],[22,9,2,0,26,45,71,40,27,10,9]]]}\n",
            "{\"word\":\"bird\",\"countrycode\":\"US\",\"timestamp\":\"2017-03-29 04:22:58.82297 UTC\",\"recognized\":true,\"key_id\":\"5357674197680128\",\"drawing\":[[[65,194,221,240,250,255,251,242,227,210,173,154,133,86,58,55],[102,104,111,120,130,151,161,173,181,184,186,181,170,138,106,94]],[[211,216],[133,138]],[[208,205,205],[154,164,159]],[[94,82,74,74,83,91,106,139,164],[143,165,196,244,250,250,242,211,146]],[[107,108,111,127,155,175,181,181,176,178],[84,53,44,20,2,0,16,52,79,92]],[[42,25,3,0],[94,89,62,39]]]}\n",
            "{\"word\":\"bird\",\"countrycode\":\"US\",\"timestamp\":\"2017-03-17 19:31:28.87981 UTC\",\"recognized\":true,\"key_id\":\"5553672849195008\",\"drawing\":[[[159,163,175,189,201,209,227,245,253,255],[15,9,2,0,5,16,8,7,15,23]],[[124,108,101,97,96,105,152,159,171,178,179,168,154,140,125],[52,50,55,63,81,93,115,114,101,73,...\n"
          ],
          "name": "stdout"
        }
      ]
    },
    {
      "metadata": {
        "colab_type": "code",
        "id": "eY_5NtJXTW5-",
        "outputId": "5132f6c0-b4b9-41bd-e429-b703227c9f73",
        "colab": {
          "base_uri": "https://localhost:8080/",
          "height": 34
        }
      },
      "cell_type": "code",
      "source": [
        "# Parse single line.\n",
        "data_json = json.loads(open(path).readline())\n",
        "data_json.keys()"
      ],
      "execution_count": 9,
      "outputs": [
        {
          "output_type": "execute_result",
          "data": {
            "text/plain": [
              "[u'word', u'countrycode', u'timestamp', u'recognized', u'key_id', u'drawing']"
            ]
          },
          "metadata": {
            "tags": []
          },
          "execution_count": 9
        }
      ]
    },
    {
      "metadata": {
        "colab_type": "code",
        "id": "Uf2G8GZKTlXC",
        "outputId": "f3f7d55a-de7e-461d-9ae5-25d39945b516",
        "colab": {
          "base_uri": "https://localhost:8080/",
          "height": 102
        }
      },
      "cell_type": "code",
      "source": [
        "# So we have some meta information...\n",
        "for k, v in data_json.items():\n",
        "    if k != 'drawing':\n",
        "        print('%20s   ->   %s' % (k, v))"
      ],
      "execution_count": 10,
      "outputs": [
        {
          "output_type": "stream",
          "text": [
            "                word   ->   bird\n",
            "         countrycode   ->   US\n",
            "           timestamp   ->   2017-03-09 00:28:55.63775 UTC\n",
            "          recognized   ->   True\n",
            "              key_id   ->   4926006882205696\n"
          ],
          "name": "stdout"
        }
      ]
    },
    {
      "metadata": {
        "colab_type": "code",
        "id": "xl1i5GDxTmig",
        "outputId": "5c88303f-80ca-475d-baca-86dd1f4883f3",
        "colab": {
          "base_uri": "https://localhost:8080/",
          "height": 34
        }
      },
      "cell_type": "code",
      "source": [
        "# ...and the actual drawing.\n",
        "drawing = data_json['drawing']\n",
        "# The drawing consists of a series of strokes:\n",
        "[np.array(stroke).shape for stroke in drawing]"
      ],
      "execution_count": 11,
      "outputs": [
        {
          "output_type": "execute_result",
          "data": {
            "text/plain": [
              "[(2, 11)]"
            ]
          },
          "metadata": {
            "tags": []
          },
          "execution_count": 11
        }
      ]
    },
    {
      "metadata": {
        "colab_type": "code",
        "id": "ST-U6uEUTnxB",
        "outputId": "7dd030eb-c459-4d78-ebbd-cfdc0b03abbb",
        "colab": {
          "base_uri": "https://localhost:8080/",
          "height": 347
        }
      },
      "cell_type": "code",
      "source": [
        "# Draw the image -- the strokes all have have shape (2, n)\n",
        "# so the first index seems to be x/y coordinate:\n",
        "\n",
        "def draw_strokes(drawing):\n",
        "  # Use a different color for each stroke\n",
        "  colors = cm.rainbow(np.linspace(0, 1, len(drawing)))\n",
        "  plt.axis('off')\n",
        "  for stroke, c in zip(drawing, colors):\n",
        "    #print(stroke[0], stroke[1])\n",
        "    plt.plot(np.array(stroke[0]), -1 * np.array(stroke[1]), color=c)\n",
        "    \n",
        "draw_strokes(drawing)"
      ],
      "execution_count": 12,
      "outputs": [
        {
          "output_type": "display_data",
          "data": {
            "image/png": "[encoded data removed]",
            "text/plain": [
              "<matplotlib.figure.Figure at 0x7f0ff9ff1850>"
            ]
          },
          "metadata": {
            "tags": []
          }
        }
      ]
    },
    {
      "metadata": {
        "colab_type": "code",
        "id": "axa3o1aHTpVL",
        "outputId": "3b465240-872c-4185-9faa-2cc37db4f80a",
        "colab": {
          "base_uri": "https://localhost:8080/",
          "height": 34
        }
      },
      "cell_type": "code",
      "source": [
        "# Some more code to load many sketches at once.\n",
        "# Let's ignore the difficult \"unrecognized\" sketches for now...\n",
        "# (i.e. unrecognized by the official quickdraw classifier)\n",
        "\n",
        "def convert(line):\n",
        "    \"\"\"Converts single line to JSON + converts 'drawing' to list of np.array.\"\"\"\n",
        "    d = json.loads(line)\n",
        "    d['drawing'] = [np.array(stroke) for stroke in d['drawing']]\n",
        "    return d\n",
        "\n",
        "def loaditer(name, unrecognized=False):\n",
        "    \"\"\"Returns iterable of drawings in specified file.\n",
        "\n",
        "    Args:\n",
        "      name: Name of the downloaded object (e.g. \"elephant\").\n",
        "      unrecognized: Whether to include drawings that were not recognized\n",
        "          by Google AI (i.e. the hard ones).\n",
        "    \"\"\"\n",
        "    for line in open('%s/%s.ndjson' % (data_path, name)):\n",
        "        d = convert(line)\n",
        "        if d['recognized'] or unrecognized:\n",
        "            yield d\n",
        "\n",
        "def loadn(name, n, unrecognized=False):\n",
        "    \"\"\"Returns list of drawings.\n",
        "\n",
        "    Args:\n",
        "      name: Name of the downloaded object (e.g. \"elephant\").\n",
        "      n: Number of drawings to load.\n",
        "      unrecognized: Whether to include drawings that were not recognized\n",
        "          by Google AI (i.e. the hard ones).\n",
        "    \"\"\"\n",
        "    it = loaditer(name, unrecognized=unrecognized)\n",
        "    return list(itertools.islice(it, 0, n))\n",
        "\n",
        "print('loading some \"%s\"...' % classes[0])\n",
        "sample = loadn(classes[0], 100)"
      ],
      "execution_count": 13,
      "outputs": [
        {
          "output_type": "stream",
          "text": [
            "loading some \"bat\"...\n"
          ],
          "name": "stdout"
        }
      ]
    },
    {
      "metadata": {
        "colab_type": "code",
        "id": "izCC7K2lV17W",
        "outputId": "02a4021c-5737-4891-94f8-43ecb5cc56af",
        "colab": {
          "base_uri": "https://localhost:8080/",
          "height": 306
        }
      },
      "cell_type": "code",
      "source": [
        "sample[0]"
      ],
      "execution_count": 14,
      "outputs": [
        {
          "output_type": "execute_result",
          "data": {
            "text/plain": [
              "{u'countrycode': u'RO',\n",
              " u'drawing': [array([[111,  89,  79,  77,  82,  89, 103, 113, 126, 125, 104],\n",
              "         [ 53, 106, 147, 174, 179, 180, 172, 156, 114,  54,  55]]),\n",
              "  array([[103, 103, 111, 126, 137, 137, 127],\n",
              "         [ 53,  17,   1,   2,  14,  25,  44]]),\n",
              "  array([[113,  98,  45,  41,  40,  45,  27,  22,  21,  25,  20,   2,   0,\n",
              "            8,  42,  61,  73],\n",
              "         [ 55,  48,  12,  10,  13,  53,  54,  61,  93, 125, 126, 115, 123,\n",
              "          136, 165, 167, 158]]),\n",
              "  array([[132, 143, 158, 171, 208, 215, 219, 248, 251, 255, 254, 242, 227,\n",
              "          233, 233, 222, 211, 187, 144, 125, 111, 107],\n",
              "         [ 61,  56,  37,  26,  12,  65,  67,  65,  67,  82, 102, 130, 153,\n",
              "          156, 160, 173, 180, 188, 189, 189, 186, 181]])],\n",
              " u'key_id': u'5073402912047104',\n",
              " u'recognized': True,\n",
              " u'timestamp': u'2017-03-07 14:44:14.70063 UTC',\n",
              " u'word': u'bat'}"
            ]
          },
          "metadata": {
            "tags": []
          },
          "execution_count": 14
        }
      ]
    },
    {
      "metadata": {
        "colab_type": "code",
        "id": "owBC4VL9WCr4",
        "outputId": "fe1d4d30-9e45-46b3-b6f0-019fc99bccb6",
        "colab": {
          "base_uri": "https://localhost:8080/",
          "height": 592
        }
      },
      "cell_type": "code",
      "source": [
        "# Some more drawings...\n",
        "plt.figure(figsize=(10, 10))\n",
        "n = 3\n",
        "for x in range(n):\n",
        "    for y in range(n):\n",
        "        i = x * n + y\n",
        "        plt.subplot(n, n, i + 1)\n",
        "        drawing = sample[i]['drawing']\n",
        "        draw_strokes(drawing)\n",
        "        \n",
        "# Elephants!"
      ],
      "execution_count": 15,
      "outputs": [
        {
          "output_type": "display_data",
          "data": {
            "image/png": "[encoded data removed]",
            "text/plain": [
              "<matplotlib.figure.Figure at 0x7f103828a050>"
            ]
          },
          "metadata": {
            "tags": []
          }
        }
      ]
    },
    {
      "metadata": {
        "colab_type": "code",
        "id": "w92hgeIfgCaA",
        "outputId": "5aedbbd3-0d56-465a-e731-c9655d36dc39",
        "colab": {
          "base_uri": "https://localhost:8080/",
          "height": 748
        }
      },
      "cell_type": "code",
      "source": [
        "# Let's first check how many [recognized=True] examples we have in each class.\n",
        "# Depending on your choice of classes you could generate >200k examples / class...\n",
        "for name in classes:\n",
        "    print(name, len(list(open('%s/%s.ndjson' % (data_path, name)))), 'recognized', len(list(loaditer(name))))"
      ],
      "execution_count": 16,
      "outputs": [
        {
          "output_type": "stream",
          "text": [
            "bat 118114 recognized 96152\n",
            "bird 133572 recognized 111611\n",
            "butterfly 117999 recognized 114549\n",
            "camel 121399 recognized 115454\n",
            "cat 123202 recognized 103031\n",
            "cow 123083 recognized 101099\n",
            "crab 126930 recognized 106466\n",
            "crocodile 127932 recognized 106410\n",
            "dog 152159 recognized 143285\n",
            "dolphin 121613 recognized 110335\n",
            "duck 135480 recognized 113764\n",
            "elephant 126969 recognized 104986\n",
            "fish 134150 recognized 126420\n",
            "frog 159047 recognized 145286\n",
            "giraffe 127182 recognized 122396\n",
            "hedgehog 120527 recognized 103226\n",
            "horse 178286 recognized 156302\n",
            "kangaroo 174470 recognized 152511\n",
            "lion 120949 recognized 98976\n",
            "lobster 140175 recognized 118228\n",
            "monkey 127633 recognized 105650\n",
            "mosquito 123029 recognized 116609\n",
            "mouse 178826 recognized 166197\n",
            "octopus 150152 recognized 143558\n",
            "owl 169632 recognized 147654\n",
            "panda 113613 recognized 94814\n",
            "parrot 185530 recognized 163567\n",
            "penguin 253791 recognized 231826\n",
            "pig 186770 recognized 164788\n",
            "rabbit 155288 recognized 133323\n",
            "raccoon 119588 recognized 101174\n",
            "rhinoceros 188484 recognized 166539\n",
            "scorpion 165689 recognized 143724\n",
            "sea turtle 119876 recognized 110218\n",
            "shark 126050 recognized 119434\n",
            "sheep 126121 recognized 117555\n",
            "snail 133757 recognized 128512\n",
            "spider 209447 recognized 187865\n",
            "squirrel 156883 recognized 134923\n",
            "teddy-bear 179568 recognized 157583\n",
            "tiger 121067 recognized 110177\n",
            "whale 116502 recognized 109081\n",
            "zebra 144608 recognized 127159\n"
          ],
          "name": "stdout"
        }
      ]
    },
    {
      "metadata": {
        "colab_type": "text",
        "id": "qZhJHLGUXp7g"
      },
      "cell_type": "markdown",
      "source": [
        "# Strokes -> Pictures"
      ]
    },
    {
      "metadata": {
        "colab_type": "code",
        "id": "ZljwIGDeWXyF",
        "colab": {}
      },
      "cell_type": "code",
      "source": [
        "# The sequence information is important! But... for now we'll \n",
        "# convert these sequences to plain old images."
      ],
      "execution_count": 0,
      "outputs": []
    },
    {
      "metadata": {
        "colab_type": "code",
        "id": "8DpyF28KXnWF",
        "colab": {}
      },
      "cell_type": "code",
      "source": [
        "def json_to_img(drawing, img_sz=64, lw=3, maximize=True):\n",
        "    img = Image.new('L', (img_sz, img_sz))\n",
        "    draw = ImageDraw.Draw(img)\n",
        "    lines = np.array([\n",
        "        stroke[0:2, i:i+2]\n",
        "        for stroke in drawing\n",
        "        for i in range(stroke.shape[1] - 1)\n",
        "    ], dtype=np.float32)\n",
        "    if maximize:\n",
        "        for i in range(2):\n",
        "            min_, max_ = lines[:,i,:].min() * 0.95, lines[:,i,:].max() * 1.05\n",
        "            lines[:,i,:] = (lines[:,i,:] - min_) / max(max_ - min_, 1)\n",
        "    else:\n",
        "        lines /= 1024\n",
        "    for line in lines:\n",
        "        draw.line(tuple(line.T.reshape((-1,)) * img_sz), fill='white', width=lw)\n",
        "    return img"
      ],
      "execution_count": 0,
      "outputs": []
    },
    {
      "metadata": {
        "colab_type": "code",
        "id": "b1KrwVjhZHlE",
        "outputId": "a3bac584-8401-4031-ff8b-cc5dddd553e5",
        "colab": {
          "base_uri": "https://localhost:8080/",
          "height": 81
        }
      },
      "cell_type": "code",
      "source": [
        "json_to_img(drawing)"
      ],
      "execution_count": 19,
      "outputs": [
        {
          "output_type": "execute_result",
          "data": {
            "image/png": "[encoded data removed]",
            "text/plain": [
              "<PIL.Image.Image image mode=L size=64x64 at 0x7F1043673D90>"
            ]
          },
          "metadata": {
            "tags": []
          },
          "execution_count": 19
        }
      ]
    },
    {
      "metadata": {
        "colab_type": "code",
        "id": "B6bCQ62MZJZW",
        "outputId": "3af70994-1014-4f34-b62c-fc05ba130e0e",
        "colab": {
          "base_uri": "https://localhost:8080/",
          "height": 364
        }
      },
      "cell_type": "code",
      "source": [
        "# Fetch some images + shuffle order.\n",
        "n_per_class = 10000\n",
        "drawings_matrix = [loadn(name, n_per_class) for name in classes]\n",
        "drawings_list = functools.reduce(lambda x, y: x + y, drawings_matrix, [])\n",
        "np.random.seed(1)\n",
        "drawings_list = np.random.permutation(drawings_list)\n",
        "\n",
        "# Quick test to see how our code works so far\n",
        "draw_strokes(drawings_list[0]['drawing'])\n",
        "print(str(drawings_list[0]['word']))"
      ],
      "execution_count": 20,
      "outputs": [
        {
          "output_type": "stream",
          "text": [
            "zebra\n"
          ],
          "name": "stdout"
        },
        {
          "output_type": "display_data",
          "data": {
            "image/png": "[encoded data removed]",
            "text/plain": [
              "<matplotlib.figure.Figure at 0x7f104368f910>"
            ]
          },
          "metadata": {
            "tags": []
          }
        }
      ]
    },
    {
      "metadata": {
        "colab_type": "code",
        "id": "auEjUQCMaFlb",
        "outputId": "86e0f1a9-1019-4540-e11f-bbd9e25c3f89",
        "colab": {
          "base_uri": "https://localhost:8080/",
          "height": 81
        }
      },
      "cell_type": "code",
      "source": [
        "json_to_img(drawings_list[0]['drawing'])"
      ],
      "execution_count": 21,
      "outputs": [
        {
          "output_type": "execute_result",
          "data": {
            "image/png": "[encoded data removed]",
            "text/plain": [
              "<PIL.Image.Image image mode=L size=64x64 at 0x7F1038247E10>"
            ]
          },
          "metadata": {
            "tags": []
          },
          "execution_count": 21
        }
      ]
    },
    {
      "metadata": {
        "colab_type": "text",
        "id": "WR4Nk8Sed9Il"
      },
      "cell_type": "markdown",
      "source": [
        "# Save a dataset to disk"
      ]
    },
    {
      "metadata": {
        "colab_type": "code",
        "id": "yuaNgBowdg2B",
        "colab": {}
      },
      "cell_type": "code",
      "source": [
        "X, y = [], []\n",
        "for drawing in drawings_list:\n",
        "  X.append(np.array(json_to_img(drawing['drawing'])))\n",
        "  y.append(str(drawing['word']))\n",
        "  \n",
        "dataset_path = 'mini-quickdraw.npz'\n",
        "out = open(dataset_path, 'w')\n",
        "np.savez_compressed(out, X, y, X=X, y=y)"
      ],
      "execution_count": 0,
      "outputs": []
    },
    {
      "metadata": {
        "id": "-WFDW_uDzahk",
        "colab_type": "text"
      },
      "cell_type": "markdown",
      "source": [
        "# After Saving - Start from here"
      ]
    },
    {
      "metadata": {
        "colab_type": "code",
        "id": "fDi9jDoBd4tR",
        "outputId": "6dfcdbbf-3f55-4efc-a4f6-271bcdfbe3cf",
        "colab": {
          "base_uri": "https://localhost:8080/",
          "height": 34
        }
      },
      "cell_type": "code",
      "source": [
        "# Demonstrate loading\n",
        "dataset_path = 'mini-quickdraw.npz'\n",
        "loaded = np.load(open(dataset_path))\n",
        "X, y = loaded[\"X\"], loaded[\"y\"]\n",
        "print(X.shape, y.shape)"
      ],
      "execution_count": 33,
      "outputs": [
        {
          "output_type": "stream",
          "text": [
            "(430000, 64, 64) (430000,)\n"
          ],
          "name": "stdout"
        }
      ]
    },
    {
      "metadata": {
        "colab_type": "code",
        "id": "XcyLOzPWe6zo",
        "outputId": "0a6bf448-4496-4654-fd30-392b9564fd1f",
        "colab": {
          "base_uri": "https://localhost:8080/",
          "height": 366
        }
      },
      "cell_type": "code",
      "source": [
        "plt.imshow(X[0])\n",
        "print(y[0])"
      ],
      "execution_count": 34,
      "outputs": [
        {
          "output_type": "stream",
          "text": [
            "zebra\n"
          ],
          "name": "stdout"
        },
        {
          "output_type": "display_data",
          "data": {
            "image/png": "[encoded data removed]",
            "text/plain": [
              "<matplotlib.figure.Figure at 0x7f0fc2471c90>"
            ]
          },
          "metadata": {
            "tags": []
          }
        }
      ]
    },
    {
      "metadata": {
        "id": "I-iRdoEuMJMZ",
        "colab_type": "text"
      },
      "cell_type": "markdown",
      "source": [
        "## Importing utilities from scikit"
      ]
    },
    {
      "metadata": {
        "id": "qEQxMOfZyvZP",
        "colab_type": "code",
        "colab": {}
      },
      "cell_type": "code",
      "source": [
        "from sklearn.model_selection import StratifiedShuffleSplit\n",
        "from sklearn.preprocessing import LabelEncoder"
      ],
      "execution_count": 0,
      "outputs": []
    },
    {
      "metadata": {
        "id": "dkFUwWk_7lvt",
        "colab_type": "text"
      },
      "cell_type": "markdown",
      "source": [
        "## Reshaping and rescaling the data"
      ]
    },
    {
      "metadata": {
        "id": "Hlm-mIjRyvnQ",
        "colab_type": "code",
        "colab": {}
      },
      "cell_type": "code",
      "source": [
        "X = X.reshape(X.shape[0],X.shape[1],X.shape[2],1)\n",
        "X = X/255"
      ],
      "execution_count": 0,
      "outputs": []
    },
    {
      "metadata": {
        "id": "HKu0vsbo7xCh",
        "colab_type": "text"
      },
      "cell_type": "markdown",
      "source": [
        "## Encoding the labels to integers and then converting them to arrays"
      ]
    },
    {
      "metadata": {
        "id": "fwWk-E8ty8pG",
        "colab_type": "code",
        "colab": {}
      },
      "cell_type": "code",
      "source": [
        "encoder = LabelEncoder()\n",
        "encoder.fit(y)\n",
        "y = encoder.transform(y)\n",
        "y = tf.keras.utils.to_categorical(y)"
      ],
      "execution_count": 0,
      "outputs": []
    },
    {
      "metadata": {
        "id": "1nKaciVh74x_",
        "colab_type": "text"
      },
      "cell_type": "markdown",
      "source": [
        "### Splitting data into train and test using a stratified split so each class is represented"
      ]
    },
    {
      "metadata": {
        "id": "9Ft0WcwWzBDW",
        "colab_type": "code",
        "colab": {}
      },
      "cell_type": "code",
      "source": [
        "sss = StratifiedShuffleSplit(train_size=344000, n_splits=1, \n",
        "                             test_size=86000, random_state=0)  \n",
        "\n",
        "for train_index, test_index in sss.split(X, y):\n",
        "    X_train, X_test = X[train_index], X[test_index]\n",
        "    y_train, y_test = y[train_index], y[test_index]"
      ],
      "execution_count": 0,
      "outputs": []
    },
    {
      "metadata": {
        "id": "ILgFLn1E8Fgr",
        "colab_type": "text"
      },
      "cell_type": "markdown",
      "source": [
        "## Sequential Model with 4 Convolutional Layers and 2 Dense Layers"
      ]
    },
    {
      "metadata": {
        "id": "VSKbeGVizCzl",
        "colab_type": "code",
        "colab": {}
      },
      "cell_type": "code",
      "source": [
        "model = tf.keras.Sequential([\n",
        "    tf.keras.layers.Conv2D(32, kernel_size=(3,3), activation='relu', input_shape=(64,64,1), padding='same'),\n",
        "    tf.keras.layers.MaxPool2D(pool_size=(2,2)),\n",
        "    tf.keras.layers.Conv2D(64, kernel_size=(3,3), activation='relu', padding='same'),\n",
        "    tf.keras.layers.MaxPool2D(pool_size=(2,2)),\n",
        "    tf.keras.layers.Conv2D(128, kernel_size=(3,3), activation='relu', padding='same'),\n",
        "    tf.keras.layers.MaxPool2D(pool_size=(2,2)),\n",
        "    tf.keras.layers.Conv2D(128, kernel_size=(3,3), activation='relu', padding='same'),\n",
        "    tf.keras.layers.MaxPool2D(pool_size=(2,2)),\n",
        "    tf.keras.layers.Flatten(),\n",
        "    tf.keras.layers.Dropout(0.5),\n",
        "    tf.keras.layers.Dense(128, activation='relu'),\n",
        "    tf.keras.layers.Dense(43, activation='softmax')\n",
        "])"
      ],
      "execution_count": 0,
      "outputs": []
    },
    {
      "metadata": {
        "id": "AISXqjQVzE4t",
        "colab_type": "code",
        "colab": {}
      },
      "cell_type": "code",
      "source": [
        "model.compile(optimizer='adam', loss = 'categorical_crossentropy', metrics=['accuracy'])"
      ],
      "execution_count": 0,
      "outputs": []
    },
    {
      "metadata": {
        "id": "PyvU9z3jzIdf",
        "colab_type": "code",
        "colab": {
          "base_uri": "https://localhost:8080/",
          "height": 1054
        },
        "outputId": "cb808745-a484-4313-8894-44f0ccb616da"
      },
      "cell_type": "code",
      "source": [
        "model_history = model.fit(X_train, y_train, epochs=30, batch_size=64, validation_split=0.2)"
      ],
      "execution_count": 41,
      "outputs": [
        {
          "output_type": "stream",
          "text": [
            "Train on 275200 samples, validate on 68800 samples\n",
            "Epoch 1/30\n",
            "275200/275200 [==============================] - 130s 472us/step - loss: 1.4320 - acc: 0.5894 - val_loss: 0.9117 - val_acc: 0.7289\n",
            "Epoch 2/30\n",
            "275200/275200 [==============================] - 130s 474us/step - loss: 0.9849 - acc: 0.7056 - val_loss: 0.7942 - val_acc: 0.7602\n",
            "Epoch 3/30\n",
            "275200/275200 [==============================] - 131s 476us/step - loss: 0.8841 - acc: 0.7335 - val_loss: 0.7607 - val_acc: 0.7689\n",
            "Epoch 4/30\n",
            "275200/275200 [==============================] - 127s 463us/step - loss: 0.8267 - acc: 0.7486 - val_loss: 0.7418 - val_acc: 0.7731\n",
            "Epoch 5/30\n",
            "275200/275200 [==============================] - 129s 470us/step - loss: 0.7864 - acc: 0.7595 - val_loss: 0.7130 - val_acc: 0.7817\n",
            "Epoch 6/30\n",
            "275200/275200 [==============================] - 145s 525us/step - loss: 0.7557 - acc: 0.7678 - val_loss: 0.7035 - val_acc: 0.7860\n",
            "Epoch 7/30\n",
            "275200/275200 [==============================] - 177s 642us/step - loss: 0.7332 - acc: 0.7748 - val_loss: 0.7004 - val_acc: 0.7863\n",
            "Epoch 8/30\n",
            "275200/275200 [==============================] - 229s 832us/step - loss: 0.7145 - acc: 0.7785 - val_loss: 0.6872 - val_acc: 0.7898\n",
            "Epoch 9/30\n",
            "275200/275200 [==============================] - 231s 838us/step - loss: 0.6979 - acc: 0.7843 - val_loss: 0.6806 - val_acc: 0.7932\n",
            "Epoch 10/30\n",
            "275200/275200 [==============================] - 236s 856us/step - loss: 0.6840 - acc: 0.7877 - val_loss: 0.6839 - val_acc: 0.7901\n",
            "Epoch 11/30\n",
            "275200/275200 [==============================] - 236s 858us/step - loss: 0.6736 - acc: 0.7902 - val_loss: 0.6763 - val_acc: 0.7931\n",
            "Epoch 12/30\n",
            "275200/275200 [==============================] - 229s 833us/step - loss: 0.6631 - acc: 0.7926 - val_loss: 0.6990 - val_acc: 0.7908\n",
            "Epoch 13/30\n",
            "275200/275200 [==============================] - 247s 899us/step - loss: 0.6533 - acc: 0.7951 - val_loss: 0.6821 - val_acc: 0.7930\n",
            "Epoch 14/30\n",
            "275200/275200 [==============================] - 252s 914us/step - loss: 0.6465 - acc: 0.7974 - val_loss: 0.6794 - val_acc: 0.7942\n",
            "Epoch 15/30\n",
            "275200/275200 [==============================] - 256s 931us/step - loss: 0.6357 - acc: 0.8005 - val_loss: 0.6730 - val_acc: 0.7963\n",
            "Epoch 16/30\n",
            "275200/275200 [==============================] - 259s 943us/step - loss: 0.6306 - acc: 0.8015 - val_loss: 0.6759 - val_acc: 0.7943\n",
            "Epoch 17/30\n",
            "275200/275200 [==============================] - 243s 882us/step - loss: 0.6254 - acc: 0.8028 - val_loss: 0.6787 - val_acc: 0.7962\n",
            "Epoch 18/30\n",
            "275200/275200 [==============================] - 126s 457us/step - loss: 0.6209 - acc: 0.8045 - val_loss: 0.6810 - val_acc: 0.7936\n",
            "Epoch 19/30\n",
            "275200/275200 [==============================] - 126s 457us/step - loss: 0.6128 - acc: 0.8058 - val_loss: 0.6867 - val_acc: 0.7935\n",
            "Epoch 20/30\n",
            "275200/275200 [==============================] - 126s 457us/step - loss: 0.6074 - acc: 0.8076 - val_loss: 0.6894 - val_acc: 0.7917\n",
            "Epoch 21/30\n",
            "275200/275200 [==============================] - 126s 457us/step - loss: 0.6035 - acc: 0.8087 - val_loss: 0.6691 - val_acc: 0.7940\n",
            "Epoch 22/30\n",
            "275200/275200 [==============================] - 126s 458us/step - loss: 0.5977 - acc: 0.8098 - val_loss: 0.6864 - val_acc: 0.7954\n",
            "Epoch 23/30\n",
            "275200/275200 [==============================] - 126s 457us/step - loss: 0.5936 - acc: 0.8116 - val_loss: 0.6848 - val_acc: 0.7960\n",
            "Epoch 24/30\n",
            "275200/275200 [==============================] - 126s 458us/step - loss: 0.5904 - acc: 0.8119 - val_loss: 0.6785 - val_acc: 0.7927\n",
            "Epoch 25/30\n",
            "275200/275200 [==============================] - 126s 457us/step - loss: 0.5855 - acc: 0.8144 - val_loss: 0.6768 - val_acc: 0.7948\n",
            "Epoch 26/30\n",
            "275200/275200 [==============================] - 126s 457us/step - loss: 0.5841 - acc: 0.8140 - val_loss: 0.6806 - val_acc: 0.7953\n",
            "Epoch 27/30\n",
            "275200/275200 [==============================] - 126s 458us/step - loss: 0.5795 - acc: 0.8141 - val_loss: 0.6774 - val_acc: 0.7973\n",
            "Epoch 28/30\n",
            "275200/275200 [==============================] - 126s 458us/step - loss: 0.5770 - acc: 0.8158 - val_loss: 0.6833 - val_acc: 0.7949\n",
            "Epoch 29/30\n",
            "275200/275200 [==============================] - 126s 458us/step - loss: 0.5725 - acc: 0.8169 - val_loss: 0.6846 - val_acc: 0.7934\n",
            "Epoch 30/30\n",
            "275200/275200 [==============================] - 126s 457us/step - loss: 0.5713 - acc: 0.8174 - val_loss: 0.6949 - val_acc: 0.7926\n"
          ],
          "name": "stdout"
        }
      ]
    },
    {
      "metadata": {
        "id": "JlbbY3Re8PwW",
        "colab_type": "text"
      },
      "cell_type": "markdown",
      "source": [
        "## Evaluating on the test dataset"
      ]
    },
    {
      "metadata": {
        "id": "dZHRu_to3SKF",
        "colab_type": "code",
        "colab": {
          "base_uri": "https://localhost:8080/",
          "height": 34
        },
        "outputId": "ffa02ec1-485f-4529-e6f1-26bfe887ad0f"
      },
      "cell_type": "code",
      "source": [
        "loss, accuracy = model.evaluate(X_test, y_test)"
      ],
      "execution_count": 42,
      "outputs": [
        {
          "output_type": "stream",
          "text": [
            "86000/86000 [==============================] - 15s 172us/step\n"
          ],
          "name": "stdout"
        }
      ]
    },
    {
      "metadata": {
        "id": "_hZL5RaI7SsX",
        "colab_type": "code",
        "colab": {
          "base_uri": "https://localhost:8080/",
          "height": 51
        },
        "outputId": "2e712d4c-68ce-4005-a7c5-6a816b0f5dbc"
      },
      "cell_type": "code",
      "source": [
        "print('Test Loss: {0:.4f}'.format(loss))\n",
        "print('Test Accuracy: {0:.3f}'.format(accuracy))"
      ],
      "execution_count": 43,
      "outputs": [
        {
          "output_type": "stream",
          "text": [
            "Test Loss: 0.6868\n",
            "Test Accuracy: 0.793\n"
          ],
          "name": "stdout"
        }
      ]
    },
    {
      "metadata": {
        "id": "pU2TsA-k-9Ah",
        "colab_type": "code",
        "colab": {}
      },
      "cell_type": "code",
      "source": [
        "def plot_history(histories, key='loss'):\n",
        "    \n",
        "    \"\"\"\n",
        "    Not sure if this works when epoch=1 but works when epoch is higher than 1\n",
        "    \"\"\"\n",
        "    plt.figure(figsize=(20,10))\n",
        "    for name, model_history in histories:\n",
        "      train = plt.plot([x+1 for x in model_history.epoch], model_history.history[key],\n",
        "                         label='Train '+ name)\n",
        "      plt.plot([x+1 for x in model_history.epoch], model_history.history['val_'+ key], '--', color=train[0].get_color(),\n",
        "                   label='Val ' + name)\n",
        "\n",
        "    plt.xlabel('Epochs', fontsize=12)\n",
        "    plt.xticks([x+1 for x in model_history.epoch])\n",
        "    plt.ylabel(key.replace('_',' '), fontsize=12)\n",
        "    plt.legend(loc=1, prop={'size': 12})\n",
        "    plt.title('Plot of {} at different Epochs'.format(key), fontsize=18)"
      ],
      "execution_count": 0,
      "outputs": []
    },
    {
      "metadata": {
        "id": "wV9gIFOm_pYs",
        "colab_type": "text"
      },
      "cell_type": "markdown",
      "source": [
        "## Plotting the model metrics at different epochs"
      ]
    },
    {
      "metadata": {
        "id": "rpfAZ7Gz_t0M",
        "colab_type": "code",
        "colab": {
          "base_uri": "https://localhost:8080/",
          "height": 627
        },
        "outputId": "79850ae8-499b-4801-c77f-f2e88c582b79"
      },
      "cell_type": "code",
      "source": [
        "plot_history([('Conv', model_history)],  key='loss')"
      ],
      "execution_count": 45,
      "outputs": [
        {
          "output_type": "display_data",
          "data": {
            "image/png": "[encoded data removed]",
            "text/plain": [
              "<matplotlib.figure.Figure at 0x7f0fc248ca90>"
            ]
          },
          "metadata": {
            "tags": []
          }
        }
      ]
    },
    {
      "metadata": {
        "id": "O-KtKmXo_aPf",
        "colab_type": "code",
        "colab": {
          "base_uri": "https://localhost:8080/",
          "height": 627
        },
        "outputId": "1be43abc-eba5-4baf-fded-846fd203aaac"
      },
      "cell_type": "code",
      "source": [
        "plot_history([('Conv', model_history)],  key='acc')"
      ],
      "execution_count": 46,
      "outputs": [
        {
          "output_type": "display_data",
          "data": {
            "image/png": "[encoded data removed]",
            "text/plain": [
              "<matplotlib.figure.Figure at 0x7f10436248d0>"
            ]
          },
          "metadata": {
            "tags": []
          }
        }
      ]
    },
    {
      "metadata": {
        "id": "KPNSGqgv_u9p",
        "colab_type": "text"
      },
      "cell_type": "markdown",
      "source": [
        "## Function to find the best model epoch based on validation loss"
      ]
    },
    {
      "metadata": {
        "id": "oXhmKSIx_ZQt",
        "colab_type": "code",
        "colab": {}
      },
      "cell_type": "code",
      "source": [
        "def find_best_model_epoch(histories, key='val_sparse_categorical_crossentropy', better='lower'):\n",
        "    low_key_val = 1000.0\n",
        "    high_key_val = 0.0\n",
        "    for model, model_history in histories:\n",
        "        key_val = np.array(model_history.history[key])\n",
        "        if better == 'lower':\n",
        "            best_val = np.min(key_val)\n",
        "            if best_val < low_key_val:\n",
        "                low_key_val = best_val\n",
        "                best_model = model\n",
        "                best_model_name = model.name\n",
        "                best_epoch = np.argmin(key_val) + 1\n",
        "\n",
        "        elif better == 'higher':\n",
        "            best_val = np.max(key_val)\n",
        "            if best_val > high_key_val:\n",
        "                high_key_val = best_val\n",
        "                best_model = model\n",
        "                best_model_name = model.name\n",
        "                best_epoch = np.argmax(key_val) + 1\n",
        "        \n",
        "    return best_model, best_model_name, best_epoch"
      ],
      "execution_count": 0,
      "outputs": []
    },
    {
      "metadata": {
        "id": "BPPQI1Te3Y_X",
        "colab_type": "code",
        "colab": {}
      },
      "cell_type": "code",
      "source": [
        "best_model, best_model_name, best_epoch = find_best_model_epoch([(model, model_history)], key='val_loss')"
      ],
      "execution_count": 0,
      "outputs": []
    },
    {
      "metadata": {
        "id": "_mFvhbnz-clE",
        "colab_type": "text"
      },
      "cell_type": "markdown",
      "source": [
        "## Retraining the model to the best epoch based on validation loss"
      ]
    },
    {
      "metadata": {
        "id": "ul8bYm6ePGuN",
        "colab_type": "code",
        "colab": {}
      },
      "cell_type": "code",
      "source": [
        "model = tf.keras.Sequential([\n",
        "    tf.keras.layers.Conv2D(32, kernel_size=(3,3), activation='relu', input_shape=(64,64,1), padding='same'),\n",
        "    tf.keras.layers.MaxPool2D(pool_size=(2,2)),\n",
        "    tf.keras.layers.Conv2D(64, kernel_size=(3,3), activation='relu', padding='same'),\n",
        "    tf.keras.layers.MaxPool2D(pool_size=(2,2)),\n",
        "    tf.keras.layers.Conv2D(128, kernel_size=(3,3), activation='relu', padding='same'),\n",
        "    tf.keras.layers.MaxPool2D(pool_size=(2,2)),\n",
        "    tf.keras.layers.Conv2D(128, kernel_size=(3,3), activation='relu', padding='same'),\n",
        "    tf.keras.layers.MaxPool2D(pool_size=(2,2)),\n",
        "    tf.keras.layers.Flatten(),\n",
        "    tf.keras.layers.Dropout(0.5),\n",
        "    tf.keras.layers.Dense(128, activation='relu'),\n",
        "    tf.keras.layers.Dense(43, activation='softmax')\n",
        "])"
      ],
      "execution_count": 0,
      "outputs": []
    },
    {
      "metadata": {
        "id": "lK7uRLZI8uJd",
        "colab_type": "code",
        "colab": {}
      },
      "cell_type": "code",
      "source": [
        "model.compile(optimizer='adam', loss = 'categorical_crossentropy', metrics=['accuracy'])"
      ],
      "execution_count": 0,
      "outputs": []
    },
    {
      "metadata": {
        "id": "btZiBOqi7EGc",
        "colab_type": "code",
        "colab": {
          "base_uri": "https://localhost:8080/",
          "height": 731
        },
        "outputId": "7a6c90ef-6973-410b-e8f1-3c304ea91d3c"
      },
      "cell_type": "code",
      "source": [
        "model_history = model.fit(X_train, y_train, epochs=best_epoch)"
      ],
      "execution_count": 52,
      "outputs": [
        {
          "output_type": "stream",
          "text": [
            "Epoch 1/21\n",
            "344000/344000 [==============================] - 189s 550us/step - loss: 1.3501 - acc: 0.6096\n",
            "Epoch 2/21\n",
            "344000/344000 [==============================] - 188s 547us/step - loss: 0.9714 - acc: 0.7080\n",
            "Epoch 3/21\n",
            "344000/344000 [==============================] - 188s 547us/step - loss: 0.8894 - acc: 0.7321\n",
            "Epoch 4/21\n",
            "344000/344000 [==============================] - 188s 547us/step - loss: 0.8454 - acc: 0.7436\n",
            "Epoch 5/21\n",
            "344000/344000 [==============================] - 188s 546us/step - loss: 0.8188 - acc: 0.7511\n",
            "Epoch 6/21\n",
            "344000/344000 [==============================] - 188s 546us/step - loss: 0.8004 - acc: 0.7551\n",
            "Epoch 7/21\n",
            "344000/344000 [==============================] - 188s 546us/step - loss: 0.7862 - acc: 0.7597\n",
            "Epoch 8/21\n",
            "344000/344000 [==============================] - 188s 545us/step - loss: 0.7742 - acc: 0.7631\n",
            "Epoch 9/21\n",
            "344000/344000 [==============================] - 188s 546us/step - loss: 0.7681 - acc: 0.7644\n",
            "Epoch 10/21\n",
            "344000/344000 [==============================] - 188s 547us/step - loss: 0.7598 - acc: 0.7669\n",
            "Epoch 11/21\n",
            "344000/344000 [==============================] - 189s 549us/step - loss: 0.7526 - acc: 0.7688\n",
            "Epoch 12/21\n",
            "344000/344000 [==============================] - 188s 547us/step - loss: 0.7480 - acc: 0.7703\n",
            "Epoch 13/21\n",
            "344000/344000 [==============================] - 188s 546us/step - loss: 0.7427 - acc: 0.7717\n",
            "Epoch 14/21\n",
            "344000/344000 [==============================] - 189s 548us/step - loss: 0.7365 - acc: 0.7735\n",
            "Epoch 15/21\n",
            "344000/344000 [==============================] - 188s 548us/step - loss: 0.7358 - acc: 0.7732\n",
            "Epoch 16/21\n",
            "344000/344000 [==============================] - 189s 548us/step - loss: 0.7361 - acc: 0.7732\n",
            "Epoch 17/21\n",
            "344000/344000 [==============================] - 188s 547us/step - loss: 0.7293 - acc: 0.7748\n",
            "Epoch 18/21\n",
            "344000/344000 [==============================] - 189s 548us/step - loss: 0.7256 - acc: 0.7763\n",
            "Epoch 19/21\n",
            "344000/344000 [==============================] - 189s 548us/step - loss: 0.7196 - acc: 0.7782\n",
            "Epoch 20/21\n",
            "344000/344000 [==============================] - 188s 547us/step - loss: 0.7180 - acc: 0.7771\n",
            "Epoch 21/21\n",
            "344000/344000 [==============================] - 188s 547us/step - loss: 0.7147 - acc: 0.7787\n"
          ],
          "name": "stdout"
        }
      ]
    },
    {
      "metadata": {
        "id": "2cP2g_st-r3H",
        "colab_type": "text"
      },
      "cell_type": "markdown",
      "source": [
        "## Evaluation on test data"
      ]
    },
    {
      "metadata": {
        "colab_type": "code",
        "outputId": "dc2317fa-24f6-472f-9b64-c1f12441566b",
        "id": "HgQCLBv29GJc",
        "colab": {
          "base_uri": "https://localhost:8080/",
          "height": 34
        }
      },
      "cell_type": "code",
      "source": [
        "loss, accuracy = model.evaluate(X_test, y_test)"
      ],
      "execution_count": 53,
      "outputs": [
        {
          "output_type": "stream",
          "text": [
            "86000/86000 [==============================] - 15s 176us/step\n"
          ],
          "name": "stdout"
        }
      ]
    },
    {
      "metadata": {
        "id": "WODFPmgL-1KL",
        "colab_type": "code",
        "colab": {
          "base_uri": "https://localhost:8080/",
          "height": 51
        },
        "outputId": "92b5cdd9-80c8-4ef1-a8df-1cae0b8cf5da"
      },
      "cell_type": "code",
      "source": [
        "print('Test Loss: {0:.4f}'.format(loss))\n",
        "print('Test Accuracy: {0:.3f}'.format(accuracy))"
      ],
      "execution_count": 54,
      "outputs": [
        {
          "output_type": "stream",
          "text": [
            "Test Loss: 0.6913\n",
            "Test Accuracy: 0.787\n"
          ],
          "name": "stdout"
        }
      ]
    },
    {
      "metadata": {
        "id": "HADpAK487qBr",
        "colab_type": "text"
      },
      "cell_type": "markdown",
      "source": [
        "## Summary"
      ]
    },
    {
      "metadata": {
        "id": "bUGHXCle7ySk",
        "colab_type": "text"
      },
      "cell_type": "markdown",
      "source": [
        "* The dataset chosen for this model has all 43 classes from the animal dataset and hence is more challenging to classify\n",
        "* About 10000 images per class were used across the training, validation and test datasets\n",
        "* Sequential Model with 4 Convolutional Layers and 2 Dense Layers was used. Maxpool layers and a dropout layer was also part of the network\n",
        "* The model had the lowest validation loss at 21 epochs while the test loss continued to decrease. The model was retrained to 21 epochs to avoid overfitting\n",
        "<br><br>\n",
        "* Performance on the test dataset:\n",
        "    * Test Loss of **0.691**\n",
        "    * Test Accuracy of **78.7%**"
      ]
    }
  ]
}