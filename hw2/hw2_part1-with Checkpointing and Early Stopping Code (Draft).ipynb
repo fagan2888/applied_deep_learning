{
 "cells": [
  {
   "cell_type": "markdown",
   "metadata": {},
   "source": [
    "## Importing necessary packages"
   ]
  },
  {
   "cell_type": "code",
   "execution_count": 10,
   "metadata": {
    "collapsed": true
   },
   "outputs": [],
   "source": [
    "import tensorflow as tf\n",
    "import numpy as np\n",
    "from matplotlib import pyplot as plt\n",
    "%matplotlib inline"
   ]
  },
  {
   "cell_type": "markdown",
   "metadata": {},
   "source": [
    "### Reading the data"
   ]
  },
  {
   "cell_type": "code",
   "execution_count": 11,
   "metadata": {
    "collapsed": true
   },
   "outputs": [],
   "source": [
    "mnist = tf.keras.datasets.mnist\n",
    "(X_train, y_train), (X_test, y_test) = mnist.load_data()"
   ]
  },
  {
   "cell_type": "markdown",
   "metadata": {},
   "source": [
    "### Scaling for quicker execution"
   ]
  },
  {
   "cell_type": "code",
   "execution_count": 12,
   "metadata": {
    "collapsed": true
   },
   "outputs": [],
   "source": [
    "X_train, X_test = X_train/255.0, X_test/255.0"
   ]
  },
  {
   "cell_type": "markdown",
   "metadata": {},
   "source": [
    "## Part 1 Question 1"
   ]
  },
  {
   "cell_type": "markdown",
   "metadata": {},
   "source": [
    "### Building a linear model using tf.keras sequential api"
   ]
  },
  {
   "cell_type": "markdown",
   "metadata": {},
   "source": [
    "### Using a single Dense Layer with Softmax to get final probabilities"
   ]
  },
  {
   "cell_type": "code",
   "execution_count": 13,
   "metadata": {
    "collapsed": true
   },
   "outputs": [],
   "source": [
    "model = tf.keras.Sequential([\n",
    "    tf.keras.layers.Flatten(),\n",
    "    tf.keras.layers.Dense(10, activation=tf.nn.softmax)\n",
    "], name='linear_model')"
   ]
  },
  {
   "cell_type": "markdown",
   "metadata": {},
   "source": [
    "### Compiling the model"
   ]
  },
  {
   "cell_type": "code",
   "execution_count": 14,
   "metadata": {
    "collapsed": true
   },
   "outputs": [],
   "source": [
    "model.compile(optimizer='adam',\n",
    "             loss='sparse_categorical_crossentropy',\n",
    "             metrics=['accuracy'])"
   ]
  },
  {
   "cell_type": "markdown",
   "metadata": {},
   "source": [
    "### Fit the model and check performance on validation"
   ]
  },
  {
   "cell_type": "code",
   "execution_count": 15,
   "metadata": {},
   "outputs": [
    {
     "name": "stdout",
     "output_type": "stream",
     "text": [
      "Train on 48000 samples, validate on 12000 samples\n",
      "Epoch 1/10\n",
      "48000/48000 [==============================] - 5s 99us/step - loss: 0.5015 - acc: 0.8706 - val_loss: 0.3160 - val_acc: 0.9123\n",
      "Epoch 2/10\n",
      "48000/48000 [==============================] - 4s 92us/step - loss: 0.3176 - acc: 0.9117 - val_loss: 0.2894 - val_acc: 0.9211\n",
      "Epoch 3/10\n",
      "48000/48000 [==============================] - 4s 93us/step - loss: 0.2933 - acc: 0.9180 - val_loss: 0.2772 - val_acc: 0.9224\n",
      "Epoch 4/10\n",
      "48000/48000 [==============================] - 5s 95us/step - loss: 0.2814 - acc: 0.9214 - val_loss: 0.2733 - val_acc: 0.9257\n",
      "Epoch 5/10\n",
      "48000/48000 [==============================] - 4s 93us/step - loss: 0.2737 - acc: 0.9232 - val_loss: 0.2668 - val_acc: 0.9275\n",
      "Epoch 6/10\n",
      "48000/48000 [==============================] - 4s 92us/step - loss: 0.2683 - acc: 0.9250 - val_loss: 0.2621 - val_acc: 0.9281\n",
      "Epoch 7/10\n",
      "48000/48000 [==============================] - 4s 92us/step - loss: 0.2637 - acc: 0.9264 - val_loss: 0.2663 - val_acc: 0.9268\n",
      "Epoch 8/10\n",
      "48000/48000 [==============================] - 4s 92us/step - loss: 0.2608 - acc: 0.9274 - val_loss: 0.2626 - val_acc: 0.9287\n",
      "Epoch 9/10\n",
      "48000/48000 [==============================] - 5s 94us/step - loss: 0.2576 - acc: 0.9278 - val_loss: 0.2631 - val_acc: 0.9267\n",
      "Epoch 10/10\n",
      "48000/48000 [==============================] - 5s 95us/step - loss: 0.2548 - acc: 0.9294 - val_loss: 0.2614 - val_acc: 0.9290\n"
     ]
    },
    {
     "data": {
      "text/plain": [
       "<tensorflow.python.keras.callbacks.History at 0x1841f618d0>"
      ]
     },
     "execution_count": 15,
     "metadata": {},
     "output_type": "execute_result"
    }
   ],
   "source": [
    "model.fit(X_train, y_train, epochs=10, validation_split=0.2)"
   ]
  },
  {
   "cell_type": "markdown",
   "metadata": {},
   "source": [
    "### Evaluation of the model on the test set"
   ]
  },
  {
   "cell_type": "code",
   "execution_count": 16,
   "metadata": {},
   "outputs": [
    {
     "name": "stdout",
     "output_type": "stream",
     "text": [
      "10000/10000 [==============================] - 0s 35us/step\n"
     ]
    }
   ],
   "source": [
    "loss, accuracy = model.evaluate(X_test, y_test)"
   ]
  },
  {
   "cell_type": "code",
   "execution_count": 17,
   "metadata": {},
   "outputs": [
    {
     "name": "stdout",
     "output_type": "stream",
     "text": [
      "Test Loss: 0.2661\n",
      "Test Accuracy: 0.928\n"
     ]
    }
   ],
   "source": [
    "print('Test Loss: {0:.4f}'.format(loss))\n",
    "print('Test Accuracy: {0:.3f}'.format(accuracy))"
   ]
  },
  {
   "cell_type": "markdown",
   "metadata": {},
   "source": [
    "## Part 1 Question 2"
   ]
  },
  {
   "cell_type": "markdown",
   "metadata": {},
   "source": [
    "### Building a deep model using tf.keras sequential api"
   ]
  },
  {
   "cell_type": "markdown",
   "metadata": {},
   "source": [
    "### Function to run different networks"
   ]
  },
  {
   "cell_type": "code",
   "execution_count": 18,
   "metadata": {
    "collapsed": true
   },
   "outputs": [],
   "source": [
    "def get_model(model, epochs=20):    \n",
    "    model.compile(optimizer='adam',\n",
    "             loss='sparse_categorical_crossentropy',\n",
    "             metrics=['accuracy', 'sparse_categorical_crossentropy'])\n",
    "    \n",
    "    model_history = model.fit(X_train, y_train, epochs=epochs, validation_split=0.2)\n",
    "    \n",
    "    return model, model_history"
   ]
  },
  {
   "cell_type": "markdown",
   "metadata": {},
   "source": [
    "### Building a small network"
   ]
  },
  {
   "cell_type": "code",
   "execution_count": 19,
   "metadata": {
    "collapsed": true
   },
   "outputs": [],
   "source": [
    "model = tf.keras.Sequential([\n",
    "    tf.keras.layers.Flatten(),\n",
    "    tf.keras.layers.Dense(10, activation=tf.nn.relu),\n",
    "    tf.keras.layers.Dense(10, activation=tf.nn.softmax)\n",
    "], name = 'small_network')"
   ]
  },
  {
   "cell_type": "code",
   "execution_count": 20,
   "metadata": {},
   "outputs": [
    {
     "name": "stdout",
     "output_type": "stream",
     "text": [
      "Train on 48000 samples, validate on 12000 samples\n",
      "Epoch 1/20\n",
      "48000/48000 [==============================] - 5s 106us/step - loss: 0.5614 - acc: 0.8443 - sparse_categorical_crossentropy: 0.5614 - val_loss: 0.3072 - val_acc: 0.9137 - val_sparse_categorical_crossentropy: 0.3072\n",
      "Epoch 2/20\n",
      "48000/48000 [==============================] - 5s 98us/step - loss: 0.3098 - acc: 0.9132 - sparse_categorical_crossentropy: 0.3098 - val_loss: 0.2813 - val_acc: 0.9233 - val_sparse_categorical_crossentropy: 0.2813\n",
      "Epoch 3/20\n",
      "48000/48000 [==============================] - 5s 103us/step - loss: 0.2855 - acc: 0.9192 - sparse_categorical_crossentropy: 0.2855 - val_loss: 0.2698 - val_acc: 0.9254 - val_sparse_categorical_crossentropy: 0.2698\n",
      "Epoch 4/20\n",
      "48000/48000 [==============================] - 5s 99us/step - loss: 0.2732 - acc: 0.9227 - sparse_categorical_crossentropy: 0.2732 - val_loss: 0.2665 - val_acc: 0.9264 - val_sparse_categorical_crossentropy: 0.2665\n",
      "Epoch 5/20\n",
      "48000/48000 [==============================] - 5s 98us/step - loss: 0.2658 - acc: 0.9258 - sparse_categorical_crossentropy: 0.2658 - val_loss: 0.2693 - val_acc: 0.9244 - val_sparse_categorical_crossentropy: 0.2693\n",
      "Epoch 6/20\n",
      "48000/48000 [==============================] - 5s 101us/step - loss: 0.2590 - acc: 0.9278 - sparse_categorical_crossentropy: 0.2590 - val_loss: 0.2597 - val_acc: 0.9291 - val_sparse_categorical_crossentropy: 0.2597\n",
      "Epoch 7/20\n",
      "48000/48000 [==============================] - 5s 103us/step - loss: 0.2550 - acc: 0.9289 - sparse_categorical_crossentropy: 0.2550 - val_loss: 0.2629 - val_acc: 0.9281 - val_sparse_categorical_crossentropy: 0.2629\n",
      "Epoch 8/20\n",
      "48000/48000 [==============================] - 5s 101us/step - loss: 0.2506 - acc: 0.9295 - sparse_categorical_crossentropy: 0.2506 - val_loss: 0.2707 - val_acc: 0.9237 - val_sparse_categorical_crossentropy: 0.2707\n",
      "Epoch 9/20\n",
      "48000/48000 [==============================] - 5s 107us/step - loss: 0.2470 - acc: 0.9306 - sparse_categorical_crossentropy: 0.2470 - val_loss: 0.2613 - val_acc: 0.9284 - val_sparse_categorical_crossentropy: 0.2613\n",
      "Epoch 10/20\n",
      "48000/48000 [==============================] - 5s 107us/step - loss: 0.2451 - acc: 0.9313 - sparse_categorical_crossentropy: 0.2451 - val_loss: 0.2649 - val_acc: 0.9280 - val_sparse_categorical_crossentropy: 0.2649\n",
      "Epoch 11/20\n",
      "48000/48000 [==============================] - 5s 113us/step - loss: 0.2409 - acc: 0.9330 - sparse_categorical_crossentropy: 0.2409 - val_loss: 0.2649 - val_acc: 0.9253 - val_sparse_categorical_crossentropy: 0.2649\n",
      "Epoch 12/20\n",
      "48000/48000 [==============================] - 5s 101us/step - loss: 0.2374 - acc: 0.9334 - sparse_categorical_crossentropy: 0.2374 - val_loss: 0.2589 - val_acc: 0.9287 - val_sparse_categorical_crossentropy: 0.2589\n",
      "Epoch 13/20\n",
      "48000/48000 [==============================] - 5s 100us/step - loss: 0.2360 - acc: 0.9332 - sparse_categorical_crossentropy: 0.2360 - val_loss: 0.2541 - val_acc: 0.9310 - val_sparse_categorical_crossentropy: 0.2541\n",
      "Epoch 14/20\n",
      "48000/48000 [==============================] - 5s 100us/step - loss: 0.2337 - acc: 0.9341 - sparse_categorical_crossentropy: 0.2337 - val_loss: 0.2585 - val_acc: 0.9298 - val_sparse_categorical_crossentropy: 0.2585\n",
      "Epoch 15/20\n",
      "48000/48000 [==============================] - 5s 100us/step - loss: 0.2306 - acc: 0.9350 - sparse_categorical_crossentropy: 0.2306 - val_loss: 0.2603 - val_acc: 0.9297 - val_sparse_categorical_crossentropy: 0.2603\n",
      "Epoch 16/20\n",
      "48000/48000 [==============================] - 5s 100us/step - loss: 0.2294 - acc: 0.9348 - sparse_categorical_crossentropy: 0.2294 - val_loss: 0.2609 - val_acc: 0.9298 - val_sparse_categorical_crossentropy: 0.2609\n",
      "Epoch 17/20\n",
      "48000/48000 [==============================] - 5s 100us/step - loss: 0.2261 - acc: 0.9358 - sparse_categorical_crossentropy: 0.2261 - val_loss: 0.2627 - val_acc: 0.9307 - val_sparse_categorical_crossentropy: 0.2627\n",
      "Epoch 18/20\n",
      "48000/48000 [==============================] - 5s 108us/step - loss: 0.2252 - acc: 0.9371 - sparse_categorical_crossentropy: 0.2252 - val_loss: 0.2554 - val_acc: 0.9330 - val_sparse_categorical_crossentropy: 0.2554\n",
      "Epoch 19/20\n",
      "48000/48000 [==============================] - 5s 105us/step - loss: 0.2222 - acc: 0.9379 - sparse_categorical_crossentropy: 0.2222 - val_loss: 0.2586 - val_acc: 0.9314 - val_sparse_categorical_crossentropy: 0.2586\n",
      "Epoch 20/20\n",
      "48000/48000 [==============================] - 5s 103us/step - loss: 0.2210 - acc: 0.9384 - sparse_categorical_crossentropy: 0.2210 - val_loss: 0.2553 - val_acc: 0.9307 - val_sparse_categorical_crossentropy: 0.2553\n"
     ]
    }
   ],
   "source": [
    "small_network_model, small_network_history = get_model(model, epochs=20)"
   ]
  },
  {
   "cell_type": "markdown",
   "metadata": {},
   "source": [
    "### Building a medium network"
   ]
  },
  {
   "cell_type": "code",
   "execution_count": 21,
   "metadata": {
    "collapsed": true
   },
   "outputs": [],
   "source": [
    "model = tf.keras.Sequential([\n",
    "    tf.keras.layers.Flatten(),\n",
    "    tf.keras.layers.Dense(128, activation=tf.nn.relu),\n",
    "    tf.keras.layers.Dense(10, activation=tf.nn.softmax)\n",
    "], name = 'medium_network')"
   ]
  },
  {
   "cell_type": "code",
   "execution_count": 22,
   "metadata": {},
   "outputs": [
    {
     "name": "stdout",
     "output_type": "stream",
     "text": [
      "Train on 48000 samples, validate on 12000 samples\n",
      "Epoch 1/20\n",
      "48000/48000 [==============================] - 14s 288us/step - loss: 0.2953 - acc: 0.9152 - sparse_categorical_crossentropy: 0.2953 - val_loss: 0.1802 - val_acc: 0.9484 - val_sparse_categorical_crossentropy: 0.1802\n",
      "Epoch 2/20\n",
      "48000/48000 [==============================] - 14s 298us/step - loss: 0.1311 - acc: 0.9617 - sparse_categorical_crossentropy: 0.1311 - val_loss: 0.1201 - val_acc: 0.9653 - val_sparse_categorical_crossentropy: 0.1201\n",
      "Epoch 3/20\n",
      "48000/48000 [==============================] - 14s 302us/step - loss: 0.0893 - acc: 0.9736 - sparse_categorical_crossentropy: 0.0893 - val_loss: 0.1026 - val_acc: 0.9682 - val_sparse_categorical_crossentropy: 0.1026\n",
      "Epoch 4/20\n",
      "48000/48000 [==============================] - 15s 307us/step - loss: 0.0660 - acc: 0.9799 - sparse_categorical_crossentropy: 0.0660 - val_loss: 0.0931 - val_acc: 0.9721 - val_sparse_categorical_crossentropy: 0.0931\n",
      "Epoch 5/20\n",
      "48000/48000 [==============================] - 15s 306us/step - loss: 0.0504 - acc: 0.9852 - sparse_categorical_crossentropy: 0.0504 - val_loss: 0.0863 - val_acc: 0.9730 - val_sparse_categorical_crossentropy: 0.0863\n",
      "Epoch 6/20\n",
      "48000/48000 [==============================] - 15s 313us/step - loss: 0.0392 - acc: 0.9887 - sparse_categorical_crossentropy: 0.0392 - val_loss: 0.0908 - val_acc: 0.9728 - val_sparse_categorical_crossentropy: 0.0908\n",
      "Epoch 7/20\n",
      "48000/48000 [==============================] - 15s 306us/step - loss: 0.0310 - acc: 0.9910 - sparse_categorical_crossentropy: 0.0310 - val_loss: 0.0854 - val_acc: 0.9758 - val_sparse_categorical_crossentropy: 0.0854\n",
      "Epoch 8/20\n",
      "48000/48000 [==============================] - 15s 307us/step - loss: 0.0247 - acc: 0.9926 - sparse_categorical_crossentropy: 0.0247 - val_loss: 0.0887 - val_acc: 0.9760 - val_sparse_categorical_crossentropy: 0.0887\n",
      "Epoch 9/20\n",
      "48000/48000 [==============================] - 15s 309us/step - loss: 0.0194 - acc: 0.9944 - sparse_categorical_crossentropy: 0.0194 - val_loss: 0.0870 - val_acc: 0.9766 - val_sparse_categorical_crossentropy: 0.0870\n",
      "Epoch 10/20\n",
      "48000/48000 [==============================] - 15s 311us/step - loss: 0.0162 - acc: 0.9951 - sparse_categorical_crossentropy: 0.0162 - val_loss: 0.0881 - val_acc: 0.9773 - val_sparse_categorical_crossentropy: 0.0881\n",
      "Epoch 11/20\n",
      "48000/48000 [==============================] - 15s 312us/step - loss: 0.0130 - acc: 0.9962 - sparse_categorical_crossentropy: 0.0130 - val_loss: 0.0918 - val_acc: 0.9765 - val_sparse_categorical_crossentropy: 0.0918\n",
      "Epoch 12/20\n",
      "48000/48000 [==============================] - 16s 336us/step - loss: 0.0105 - acc: 0.9970 - sparse_categorical_crossentropy: 0.0105 - val_loss: 0.0952 - val_acc: 0.9773 - val_sparse_categorical_crossentropy: 0.0952\n",
      "Epoch 13/20\n",
      "48000/48000 [==============================] - 14s 295us/step - loss: 0.0100 - acc: 0.9969 - sparse_categorical_crossentropy: 0.0100 - val_loss: 0.0978 - val_acc: 0.9762 - val_sparse_categorical_crossentropy: 0.0978\n",
      "Epoch 14/20\n",
      "48000/48000 [==============================] - 14s 293us/step - loss: 0.0091 - acc: 0.9972 - sparse_categorical_crossentropy: 0.0091 - val_loss: 0.1093 - val_acc: 0.9733 - val_sparse_categorical_crossentropy: 0.1093\n",
      "Epoch 15/20\n",
      "48000/48000 [==============================] - 14s 295us/step - loss: 0.0081 - acc: 0.9976 - sparse_categorical_crossentropy: 0.0081 - val_loss: 0.1148 - val_acc: 0.9742 - val_sparse_categorical_crossentropy: 0.1148\n",
      "Epoch 16/20\n",
      "48000/48000 [==============================] - 15s 311us/step - loss: 0.0055 - acc: 0.9984 - sparse_categorical_crossentropy: 0.0055 - val_loss: 0.1129 - val_acc: 0.9748 - val_sparse_categorical_crossentropy: 0.1129\n",
      "Epoch 17/20\n",
      "48000/48000 [==============================] - 17s 345us/step - loss: 0.0071 - acc: 0.9977 - sparse_categorical_crossentropy: 0.0071 - val_loss: 0.1048 - val_acc: 0.9762 - val_sparse_categorical_crossentropy: 0.1048\n",
      "Epoch 18/20\n",
      "48000/48000 [==============================] - 16s 337us/step - loss: 0.0046 - acc: 0.9988 - sparse_categorical_crossentropy: 0.0046 - val_loss: 0.1188 - val_acc: 0.9762 - val_sparse_categorical_crossentropy: 0.1188\n",
      "Epoch 19/20\n",
      "48000/48000 [==============================] - 15s 322us/step - loss: 0.0052 - acc: 0.9984 - sparse_categorical_crossentropy: 0.0052 - val_loss: 0.1161 - val_acc: 0.9762 - val_sparse_categorical_crossentropy: 0.1161\n",
      "Epoch 20/20\n",
      "48000/48000 [==============================] - 15s 319us/step - loss: 0.0056 - acc: 0.9983 - sparse_categorical_crossentropy: 0.0056 - val_loss: 0.1046 - val_acc: 0.9768 - val_sparse_categorical_crossentropy: 0.1046\n"
     ]
    }
   ],
   "source": [
    "med_network_model, med_network_history = get_model(model, epochs=20)"
   ]
  },
  {
   "cell_type": "markdown",
   "metadata": {},
   "source": [
    "### Building a large network"
   ]
  },
  {
   "cell_type": "code",
   "execution_count": 23,
   "metadata": {
    "collapsed": true
   },
   "outputs": [],
   "source": [
    "model = tf.keras.Sequential([\n",
    "    tf.keras.layers.Flatten(),\n",
    "    tf.keras.layers.Dense(256, activation=tf.nn.relu),\n",
    "    tf.keras.layers.Dense(128, activation=tf.nn.relu),\n",
    "    tf.keras.layers.Dense(10, activation=tf.nn.softmax)\n",
    "], name = 'large_network')"
   ]
  },
  {
   "cell_type": "code",
   "execution_count": 24,
   "metadata": {},
   "outputs": [
    {
     "name": "stdout",
     "output_type": "stream",
     "text": [
      "Train on 48000 samples, validate on 12000 samples\n",
      "Epoch 1/20\n",
      "48000/48000 [==============================] - 29s 608us/step - loss: 0.2231 - acc: 0.9340 - sparse_categorical_crossentropy: 0.2231 - val_loss: 0.1079 - val_acc: 0.9665 - val_sparse_categorical_crossentropy: 0.1079\n",
      "Epoch 2/20\n",
      "48000/48000 [==============================] - 28s 589us/step - loss: 0.0895 - acc: 0.9728 - sparse_categorical_crossentropy: 0.0895 - val_loss: 0.0946 - val_acc: 0.9720 - val_sparse_categorical_crossentropy: 0.0946\n",
      "Epoch 3/20\n",
      "48000/48000 [==============================] - 29s 601us/step - loss: 0.0613 - acc: 0.9807 - sparse_categorical_crossentropy: 0.0613 - val_loss: 0.0884 - val_acc: 0.9744 - val_sparse_categorical_crossentropy: 0.0884\n",
      "Epoch 4/20\n",
      "48000/48000 [==============================] - 26s 551us/step - loss: 0.0448 - acc: 0.9860 - sparse_categorical_crossentropy: 0.0448 - val_loss: 0.0836 - val_acc: 0.9762 - val_sparse_categorical_crossentropy: 0.0836\n",
      "Epoch 5/20\n",
      "48000/48000 [==============================] - 26s 543us/step - loss: 0.0364 - acc: 0.9876 - sparse_categorical_crossentropy: 0.0364 - val_loss: 0.0999 - val_acc: 0.9714 - val_sparse_categorical_crossentropy: 0.0999\n",
      "Epoch 6/20\n",
      "48000/48000 [==============================] - 29s 611us/step - loss: 0.0269 - acc: 0.9912 - sparse_categorical_crossentropy: 0.0269 - val_loss: 0.0986 - val_acc: 0.9748 - val_sparse_categorical_crossentropy: 0.0986\n",
      "Epoch 7/20\n",
      "48000/48000 [==============================] - 30s 634us/step - loss: 0.0245 - acc: 0.9913 - sparse_categorical_crossentropy: 0.0245 - val_loss: 0.1212 - val_acc: 0.9728 - val_sparse_categorical_crossentropy: 0.1212\n",
      "Epoch 8/20\n",
      "48000/48000 [==============================] - 29s 599us/step - loss: 0.0213 - acc: 0.9934 - sparse_categorical_crossentropy: 0.0213 - val_loss: 0.1095 - val_acc: 0.9749 - val_sparse_categorical_crossentropy: 0.1095\n",
      "Epoch 9/20\n",
      "48000/48000 [==============================] - 31s 643us/step - loss: 0.0187 - acc: 0.9936 - sparse_categorical_crossentropy: 0.0187 - val_loss: 0.0994 - val_acc: 0.9774 - val_sparse_categorical_crossentropy: 0.0994\n",
      "Epoch 10/20\n",
      "48000/48000 [==============================] - 32s 666us/step - loss: 0.0163 - acc: 0.9946 - sparse_categorical_crossentropy: 0.0163 - val_loss: 0.1319 - val_acc: 0.9727 - val_sparse_categorical_crossentropy: 0.1319\n",
      "Epoch 11/20\n",
      "48000/48000 [==============================] - 30s 615us/step - loss: 0.0158 - acc: 0.9944 - sparse_categorical_crossentropy: 0.0158 - val_loss: 0.1068 - val_acc: 0.9772 - val_sparse_categorical_crossentropy: 0.1068\n",
      "Epoch 12/20\n",
      "48000/48000 [==============================] - 30s 615us/step - loss: 0.0152 - acc: 0.9949 - sparse_categorical_crossentropy: 0.0152 - val_loss: 0.1204 - val_acc: 0.9763 - val_sparse_categorical_crossentropy: 0.1204\n",
      "Epoch 13/20\n",
      "48000/48000 [==============================] - 30s 620us/step - loss: 0.0112 - acc: 0.9965 - sparse_categorical_crossentropy: 0.0112 - val_loss: 0.1036 - val_acc: 0.9794 - val_sparse_categorical_crossentropy: 0.1036\n",
      "Epoch 14/20\n",
      "48000/48000 [==============================] - 31s 637us/step - loss: 0.0158 - acc: 0.9951 - sparse_categorical_crossentropy: 0.0158 - val_loss: 0.1077 - val_acc: 0.9772 - val_sparse_categorical_crossentropy: 0.1077\n",
      "Epoch 15/20\n",
      "48000/48000 [==============================] - 30s 623us/step - loss: 0.0119 - acc: 0.9964 - sparse_categorical_crossentropy: 0.0119 - val_loss: 0.1239 - val_acc: 0.9778 - val_sparse_categorical_crossentropy: 0.1239\n",
      "Epoch 16/20\n",
      "48000/48000 [==============================] - 30s 624us/step - loss: 0.0108 - acc: 0.9966 - sparse_categorical_crossentropy: 0.0108 - val_loss: 0.1312 - val_acc: 0.9768 - val_sparse_categorical_crossentropy: 0.1312\n",
      "Epoch 17/20\n",
      "48000/48000 [==============================] - 30s 621us/step - loss: 0.0133 - acc: 0.9961 - sparse_categorical_crossentropy: 0.0133 - val_loss: 0.1335 - val_acc: 0.9771 - val_sparse_categorical_crossentropy: 0.1335\n",
      "Epoch 18/20\n",
      "48000/48000 [==============================] - 37s 763us/step - loss: 0.0097 - acc: 0.9970 - sparse_categorical_crossentropy: 0.0097 - val_loss: 0.1282 - val_acc: 0.9772 - val_sparse_categorical_crossentropy: 0.1282\n",
      "Epoch 19/20\n",
      "48000/48000 [==============================] - 32s 665us/step - loss: 0.0106 - acc: 0.9968 - sparse_categorical_crossentropy: 0.0106 - val_loss: 0.1370 - val_acc: 0.9757 - val_sparse_categorical_crossentropy: 0.1370\n",
      "Epoch 20/20\n",
      "48000/48000 [==============================] - 30s 630us/step - loss: 0.0086 - acc: 0.9974 - sparse_categorical_crossentropy: 0.0086 - val_loss: 0.1296 - val_acc: 0.9776 - val_sparse_categorical_crossentropy: 0.1296\n"
     ]
    }
   ],
   "source": [
    "large_network_model, large_network_history = get_model(model, epochs=20)"
   ]
  },
  {
   "cell_type": "markdown",
   "metadata": {},
   "source": [
    "### Building a large network with Dropout"
   ]
  },
  {
   "cell_type": "code",
   "execution_count": 25,
   "metadata": {
    "collapsed": true
   },
   "outputs": [],
   "source": [
    "model = tf.keras.Sequential([\n",
    "    tf.keras.layers.Flatten(),\n",
    "    tf.keras.layers.Dense(256, activation=tf.nn.relu),\n",
    "    tf.keras.layers.Dropout(0.2),\n",
    "    tf.keras.layers.Dense(128, activation=tf.nn.relu),\n",
    "    tf.keras.layers.Dropout(0.2),\n",
    "    tf.keras.layers.Dense(10, activation=tf.nn.softmax)\n",
    "], name = 'large_network_with_dropout')"
   ]
  },
  {
   "cell_type": "code",
   "execution_count": 26,
   "metadata": {},
   "outputs": [
    {
     "name": "stdout",
     "output_type": "stream",
     "text": [
      "Train on 48000 samples, validate on 12000 samples\n",
      "Epoch 1/20\n",
      "48000/48000 [==============================] - 31s 637us/step - loss: 0.2852 - acc: 0.9132 - sparse_categorical_crossentropy: 0.2852 - val_loss: 0.1251 - val_acc: 0.9627 - val_sparse_categorical_crossentropy: 0.1251\n",
      "Epoch 2/20\n",
      "48000/48000 [==============================] - 30s 625us/step - loss: 0.1337 - acc: 0.9593 - sparse_categorical_crossentropy: 0.1337 - val_loss: 0.1021 - val_acc: 0.9699 - val_sparse_categorical_crossentropy: 0.1021\n",
      "Epoch 3/20\n",
      "48000/48000 [==============================] - 30s 624us/step - loss: 0.1004 - acc: 0.9692 - sparse_categorical_crossentropy: 0.1004 - val_loss: 0.0934 - val_acc: 0.9713 - val_sparse_categorical_crossentropy: 0.0934\n",
      "Epoch 4/20\n",
      "48000/48000 [==============================] - 30s 627us/step - loss: 0.0813 - acc: 0.9745 - sparse_categorical_crossentropy: 0.0813 - val_loss: 0.0807 - val_acc: 0.9763 - val_sparse_categorical_crossentropy: 0.0807\n",
      "Epoch 5/20\n",
      "48000/48000 [==============================] - 30s 635us/step - loss: 0.0705 - acc: 0.9772 - sparse_categorical_crossentropy: 0.0705 - val_loss: 0.0865 - val_acc: 0.9758 - val_sparse_categorical_crossentropy: 0.0865\n",
      "Epoch 6/20\n",
      "48000/48000 [==============================] - 30s 631us/step - loss: 0.0596 - acc: 0.9809 - sparse_categorical_crossentropy: 0.0596 - val_loss: 0.0908 - val_acc: 0.9748 - val_sparse_categorical_crossentropy: 0.0908\n",
      "Epoch 7/20\n",
      "48000/48000 [==============================] - 31s 646us/step - loss: 0.0537 - acc: 0.9834 - sparse_categorical_crossentropy: 0.0537 - val_loss: 0.0843 - val_acc: 0.9768 - val_sparse_categorical_crossentropy: 0.0843\n",
      "Epoch 8/20\n",
      "48000/48000 [==============================] - 30s 624us/step - loss: 0.0508 - acc: 0.9834 - sparse_categorical_crossentropy: 0.0508 - val_loss: 0.0844 - val_acc: 0.9785 - val_sparse_categorical_crossentropy: 0.0844\n",
      "Epoch 9/20\n",
      "48000/48000 [==============================] - 30s 625us/step - loss: 0.0463 - acc: 0.9858 - sparse_categorical_crossentropy: 0.0463 - val_loss: 0.0811 - val_acc: 0.9802 - val_sparse_categorical_crossentropy: 0.0811\n",
      "Epoch 10/20\n",
      "48000/48000 [==============================] - 31s 643us/step - loss: 0.0392 - acc: 0.9871 - sparse_categorical_crossentropy: 0.0392 - val_loss: 0.0803 - val_acc: 0.9794 - val_sparse_categorical_crossentropy: 0.0803\n",
      "Epoch 11/20\n",
      "48000/48000 [==============================] - 30s 633us/step - loss: 0.0384 - acc: 0.9876 - sparse_categorical_crossentropy: 0.0384 - val_loss: 0.0937 - val_acc: 0.9772 - val_sparse_categorical_crossentropy: 0.0937\n",
      "Epoch 12/20\n",
      "48000/48000 [==============================] - 31s 648us/step - loss: 0.0365 - acc: 0.9881 - sparse_categorical_crossentropy: 0.0365 - val_loss: 0.0929 - val_acc: 0.9790 - val_sparse_categorical_crossentropy: 0.0929\n",
      "Epoch 13/20\n",
      "48000/48000 [==============================] - 35s 722us/step - loss: 0.0327 - acc: 0.9892 - sparse_categorical_crossentropy: 0.0327 - val_loss: 0.0843 - val_acc: 0.9798 - val_sparse_categorical_crossentropy: 0.0843\n",
      "Epoch 14/20\n",
      "48000/48000 [==============================] - 35s 737us/step - loss: 0.0320 - acc: 0.9894 - sparse_categorical_crossentropy: 0.0320 - val_loss: 0.0801 - val_acc: 0.9818 - val_sparse_categorical_crossentropy: 0.0801\n",
      "Epoch 15/20\n",
      "48000/48000 [==============================] - 37s 766us/step - loss: 0.0333 - acc: 0.9897 - sparse_categorical_crossentropy: 0.0333 - val_loss: 0.0851 - val_acc: 0.9792 - val_sparse_categorical_crossentropy: 0.0851\n",
      "Epoch 16/20\n",
      "48000/48000 [==============================] - 36s 741us/step - loss: 0.0297 - acc: 0.9906 - sparse_categorical_crossentropy: 0.0297 - val_loss: 0.1007 - val_acc: 0.9783 - val_sparse_categorical_crossentropy: 0.1007\n",
      "Epoch 17/20\n",
      "48000/48000 [==============================] - 35s 722us/step - loss: 0.0282 - acc: 0.9906 - sparse_categorical_crossentropy: 0.0282 - val_loss: 0.1024 - val_acc: 0.9771 - val_sparse_categorical_crossentropy: 0.1024\n",
      "Epoch 18/20\n",
      "48000/48000 [==============================] - 33s 695us/step - loss: 0.0323 - acc: 0.9901 - sparse_categorical_crossentropy: 0.0323 - val_loss: 0.0929 - val_acc: 0.9792 - val_sparse_categorical_crossentropy: 0.0929\n",
      "Epoch 19/20\n",
      "48000/48000 [==============================] - 32s 662us/step - loss: 0.0268 - acc: 0.9915 - sparse_categorical_crossentropy: 0.0268 - val_loss: 0.0942 - val_acc: 0.9807 - val_sparse_categorical_crossentropy: 0.0942\n",
      "Epoch 20/20\n",
      "48000/48000 [==============================] - 34s 710us/step - loss: 0.0251 - acc: 0.9919 - sparse_categorical_crossentropy: 0.0251 - val_loss: 0.0970 - val_acc: 0.9802 - val_sparse_categorical_crossentropy: 0.0970\n"
     ]
    }
   ],
   "source": [
    "large_drp_network_model, large_drp_network_history = get_model(model, epochs=20)"
   ]
  },
  {
   "cell_type": "markdown",
   "metadata": {},
   "source": [
    "### Function to plot the metric of interest against training epochs"
   ]
  },
  {
   "cell_type": "code",
   "execution_count": 27,
   "metadata": {
    "collapsed": true
   },
   "outputs": [],
   "source": [
    "def plot_history(histories, key='sparse_categorical_crossentropy'):\n",
    "    \n",
    "    \"\"\"\n",
    "    Not sure if this works when epoch=1 but works when epoch is higher than 1\n",
    "    \"\"\"\n",
    "    plt.figure(figsize=(20,10))\n",
    "    for name, model_history in histories:\n",
    "      train = plt.plot([x+1 for x in model_history.epoch], model_history.history[key],\n",
    "                         label='Train '+ name)\n",
    "      plt.plot([x+1 for x in model_history.epoch], model_history.history['val_'+ key], '--', color=train[0].get_color(),\n",
    "                   label='Val ' + name)\n",
    "\n",
    "    plt.xlabel('Epochs', fontsize=12)\n",
    "    plt.xticks([x+1 for x in model_history.epoch])\n",
    "    plt.ylabel(key.replace('_',' '), fontsize=12)\n",
    "    plt.legend(loc=1, prop={'size': 12})"
   ]
  },
  {
   "cell_type": "markdown",
   "metadata": {},
   "source": [
    "### Plotting the sparse categorical cross entropy for different networks"
   ]
  },
  {
   "cell_type": "code",
   "execution_count": 28,
   "metadata": {},
   "outputs": [
    {
     "data": {
      "image/png": "[encoded data removed]",
      "text/plain": [
       "<matplotlib.figure.Figure at 0x11f7d3b90>"
      ]
     },
     "metadata": {},
     "output_type": "display_data"
    }
   ],
   "source": [
    "plot_history([('Small', small_network_history),\n",
    "              ('Medium', med_network_history),\n",
    "              ('Large', large_network_history),\n",
    "              ('Large dropout', large_drp_network_history)], key='sparse_categorical_crossentropy')"
   ]
  },
  {
   "cell_type": "markdown",
   "metadata": {},
   "source": [
    "### Function to obtain the best model based on performance"
   ]
  },
  {
   "cell_type": "code",
   "execution_count": 29,
   "metadata": {
    "collapsed": true
   },
   "outputs": [],
   "source": [
    "def find_best_model_epoch(histories, key='val_sparse_categorical_crossentropy', better='lower'):\n",
    "    low_key_val = 1000.0\n",
    "    high_key_val = 0.0\n",
    "    for model, model_history in histories:\n",
    "        key_val = np.array(model_history.history[key])\n",
    "        if better == 'lower':\n",
    "            best_val = np.min(key_val)\n",
    "            if best_val < low_key_val:\n",
    "                low_key_val = best_val\n",
    "                best_model = model\n",
    "                best_model_name = model.name\n",
    "                best_epoch = np.argmin(key_val) + 1\n",
    "\n",
    "        elif better == 'higher':\n",
    "            best_val = np.max(key_val)\n",
    "            if best_val > high_key_val:\n",
    "                high_key_val = best_val\n",
    "                best_model = model\n",
    "                best_model_name = model.name\n",
    "                best_epoch = np.argmax(key_val) + 1\n",
    "        \n",
    "    return best_model, best_model_name, best_epoch"
   ]
  },
  {
   "cell_type": "markdown",
   "metadata": {},
   "source": [
    "### Finding the model with the lowest validation loss"
   ]
  },
  {
   "cell_type": "code",
   "execution_count": 30,
   "metadata": {
    "collapsed": true
   },
   "outputs": [],
   "source": [
    "best_model, best_model_name, best_epoch = find_best_model_epoch([(small_network_model, small_network_history),\n",
    "              (med_network_model, med_network_history),\n",
    "              (large_network_model, large_network_history),\n",
    "              (large_drp_network_model, large_drp_network_history)], key='val_sparse_categorical_crossentropy', better='lower')"
   ]
  },
  {
   "cell_type": "markdown",
   "metadata": {},
   "source": [
    "### Fitting the model using the parameters obtained above\n",
    "#### Better approach is to checkpoint model weights but not able to save checkpointed weights on colab - so skipping"
   ]
  },
  {
   "cell_type": "code",
   "execution_count": 31,
   "metadata": {},
   "outputs": [
    {
     "name": "stdout",
     "output_type": "stream",
     "text": [
      "Train on 48000 samples, validate on 12000 samples\n",
      "Epoch 1/14\n",
      "48000/48000 [==============================] - 33s 684us/step - loss: 0.0298 - acc: 0.9914 - sparse_categorical_crossentropy: 0.0298 - val_loss: 0.0966 - val_acc: 0.9814 - val_sparse_categorical_crossentropy: 0.0966\n",
      "Epoch 2/14\n",
      "48000/48000 [==============================] - 34s 701us/step - loss: 0.0256 - acc: 0.9924 - sparse_categorical_crossentropy: 0.0256 - val_loss: 0.1015 - val_acc: 0.9785 - val_sparse_categorical_crossentropy: 0.1015\n",
      "Epoch 3/14\n",
      "48000/48000 [==============================] - 32s 673us/step - loss: 0.0248 - acc: 0.9921 - sparse_categorical_crossentropy: 0.0248 - val_loss: 0.1055 - val_acc: 0.9801 - val_sparse_categorical_crossentropy: 0.1055\n",
      "Epoch 4/14\n",
      "48000/48000 [==============================] - 32s 672us/step - loss: 0.0242 - acc: 0.9923 - sparse_categorical_crossentropy: 0.0242 - val_loss: 0.1072 - val_acc: 0.9786 - val_sparse_categorical_crossentropy: 0.1072\n",
      "Epoch 5/14\n",
      "48000/48000 [==============================] - 33s 680us/step - loss: 0.0229 - acc: 0.9930 - sparse_categorical_crossentropy: 0.0229 - val_loss: 0.0969 - val_acc: 0.9792 - val_sparse_categorical_crossentropy: 0.0969\n",
      "Epoch 6/14\n",
      "48000/48000 [==============================] - 33s 680us/step - loss: 0.0232 - acc: 0.9929 - sparse_categorical_crossentropy: 0.0232 - val_loss: 0.1140 - val_acc: 0.9780 - val_sparse_categorical_crossentropy: 0.1140\n",
      "Epoch 7/14\n",
      "48000/48000 [==============================] - 31s 650us/step - loss: 0.0242 - acc: 0.9929 - sparse_categorical_crossentropy: 0.0242 - val_loss: 0.0986 - val_acc: 0.9809 - val_sparse_categorical_crossentropy: 0.0986\n",
      "Epoch 8/14\n",
      "48000/48000 [==============================] - 29s 608us/step - loss: 0.0223 - acc: 0.9931 - sparse_categorical_crossentropy: 0.0223 - val_loss: 0.1159 - val_acc: 0.9802 - val_sparse_categorical_crossentropy: 0.1159\n",
      "Epoch 9/14\n",
      "48000/48000 [==============================] - 29s 607us/step - loss: 0.0232 - acc: 0.9934 - sparse_categorical_crossentropy: 0.0232 - val_loss: 0.1006 - val_acc: 0.9819 - val_sparse_categorical_crossentropy: 0.1006\n",
      "Epoch 10/14\n",
      "48000/48000 [==============================] - 30s 621us/step - loss: 0.0234 - acc: 0.9930 - sparse_categorical_crossentropy: 0.0234 - val_loss: 0.0978 - val_acc: 0.9819 - val_sparse_categorical_crossentropy: 0.0978\n",
      "Epoch 11/14\n",
      "48000/48000 [==============================] - 31s 636us/step - loss: 0.0206 - acc: 0.9931 - sparse_categorical_crossentropy: 0.0206 - val_loss: 0.1020 - val_acc: 0.9808 - val_sparse_categorical_crossentropy: 0.1020\n",
      "Epoch 12/14\n",
      "48000/48000 [==============================] - 40s 840us/step - loss: 0.0211 - acc: 0.9932 - sparse_categorical_crossentropy: 0.0211 - val_loss: 0.1015 - val_acc: 0.9819 - val_sparse_categorical_crossentropy: 0.1015\n",
      "Epoch 13/14\n",
      "48000/48000 [==============================] - 42s 874us/step - loss: 0.0227 - acc: 0.9935 - sparse_categorical_crossentropy: 0.0227 - val_loss: 0.1135 - val_acc: 0.9806 - val_sparse_categorical_crossentropy: 0.1135\n",
      "Epoch 14/14\n",
      "48000/48000 [==============================] - 42s 882us/step - loss: 0.0238 - acc: 0.9930 - sparse_categorical_crossentropy: 0.0238 - val_loss: 0.1198 - val_acc: 0.9787 - val_sparse_categorical_crossentropy: 0.1198\n"
     ]
    }
   ],
   "source": [
    "best_network_model, best_network_history = get_model(best_model, epochs=best_epoch)"
   ]
  },
  {
   "cell_type": "code",
   "execution_count": 35,
   "metadata": {},
   "outputs": [
    {
     "name": "stdout",
     "output_type": "stream",
     "text": [
      "The best model amongst the ones tested was the large network with dropout trained for 14 epochs\n"
     ]
    }
   ],
   "source": [
    "print ('The best model amongst the ones tested was the {} trained for {} epochs'.format(best_model_name.replace('_',' '), best_epoch))"
   ]
  },
  {
   "cell_type": "markdown",
   "metadata": {},
   "source": [
    "## Evaluating model on test data set"
   ]
  },
  {
   "cell_type": "code",
   "execution_count": 33,
   "metadata": {},
   "outputs": [
    {
     "name": "stdout",
     "output_type": "stream",
     "text": [
      "10000/10000 [==============================] - 4s 359us/step\n"
     ]
    }
   ],
   "source": [
    "loss, accuracy, sparse_categorical_crossentropy = best_network_model.evaluate(X_test, y_test)"
   ]
  },
  {
   "cell_type": "code",
   "execution_count": 34,
   "metadata": {},
   "outputs": [
    {
     "name": "stdout",
     "output_type": "stream",
     "text": [
      "Test Loss: 0.0959\n",
      "Test Accuracy: 0.981\n"
     ]
    }
   ],
   "source": [
    "print('Test Loss: {0:.4f}'.format(loss))\n",
    "print('Test Accuracy: {0:.3f}'.format(accuracy))"
   ]
  },
  {
   "cell_type": "markdown",
   "metadata": {},
   "source": [
    "# Getting Model Summaries"
   ]
  },
  {
   "cell_type": "code",
   "execution_count": 81,
   "metadata": {
    "collapsed": true
   },
   "outputs": [],
   "source": [
    "def get_model_summaries(histories, keys=['val_sparse_categorical_crossentropy','val_acc'], better=['lower', 'higher']):\n",
    "    model_performance = {}\n",
    "    for key in keys:\n",
    "        model_performance[key] = {}\n",
    "    for model, model_history in histories:\n",
    "        for index, key in enumerate(keys):\n",
    "            key_val = np.array(model_history.history[key])\n",
    "            if better[index] == 'lower':\n",
    "                best_val = np.min(key_val)\n",
    "            elif better[index] == 'higher':\n",
    "                best_val = np.max(key_val)\n",
    "            model_performance[key][model.name.replace('_',' ')] = best_val        \n",
    "    return model_performance"
   ]
  },
  {
   "cell_type": "code",
   "execution_count": 82,
   "metadata": {
    "collapsed": true
   },
   "outputs": [],
   "source": [
    "model_performance = get_model_summaries([(small_network_model, small_network_history),\n",
    "              (med_network_model, med_network_history),\n",
    "              (large_network_model, large_network_history),\n",
    "              (large_drp_network_model, large_drp_network_history)],\n",
    "            keys=['val_sparse_categorical_crossentropy','val_acc'], better=['lower', 'higher'])"
   ]
  },
  {
   "cell_type": "code",
   "execution_count": 83,
   "metadata": {
    "collapsed": true
   },
   "outputs": [],
   "source": [
    "model_performance['Validation Accuracy'] = model_performance.pop('val_acc')\n",
    "model_performance['Validation Sparse Categorical Entropy Loss'] = model_performance.pop('val_sparse_categorical_crossentropy')"
   ]
  },
  {
   "cell_type": "code",
   "execution_count": 84,
   "metadata": {
    "collapsed": true
   },
   "outputs": [],
   "source": [
    "import pandas as pd\n",
    "model_performance_pd = pd.DataFrame(model_performance, columns = ['Validation Accuracy', 'Validation Sparse Categorical Entropy Loss'])"
   ]
  },
  {
   "cell_type": "markdown",
   "metadata": {},
   "source": [
    " "
   ]
  },
  {
   "cell_type": "markdown",
   "metadata": {
    "collapsed": true
   },
   "source": [
    "## Evaluation and Summary"
   ]
  },
  {
   "cell_type": "markdown",
   "metadata": {
    "collapsed": true
   },
   "source": [
    "### Linear Model\n",
    "* The linear model developed using the sequential API. It consisted of a dense layer with a softmax activation\n",
    "* The linear model achieved a test loss of **0.27** and a test accuracy of **0.925** (might be slightly different on reruns)"
   ]
  },
  {
   "cell_type": "markdown",
   "metadata": {
    "collapsed": true
   },
   "source": [
    "### Deep Model\n",
    "* Following networks were tried for the deep model\n",
    "    * Small Network:\n",
    "        * Hidden Layer 1: 10 nodes with Relu Activation\n",
    "        * Output Layer: 10 nodes with Softmax Activation\n",
    "<br><br>       \n",
    "    * Medium Network:\n",
    "        * Hidden Layer 1: 128 nodes with Relu Activation\n",
    "        * Output Layer: 10 nodes with Softmax Activation\n",
    "<br><br>\n",
    "    * Large Network:\n",
    "        * Hidden Layer 1: 256 nodes with Relu Activation\n",
    "        * Hidden Layer 2: 128 nodes with Relu Activation\n",
    "        * Output Layer: 10 nodes with Softmax Activation\n",
    "<br><br>\n",
    "    * Large Network with Dropout:\n",
    "        * Hidden Layer 1: 256 nodes with Relu Activation\n",
    "        * Dropout Layer 1: Dropout Rate of 0.2\n",
    "        * Hidden Layer 2: 128 nodes with Relu Activation\n",
    "        * Dropout Layer 2: Dropout Rate of 0.2\n",
    "        * Output Layer: 10 nodes with Softmax Activation\n",
    "<br><br>\n",
    "* A validation split of 0.2 was used to check model performance\n",
    "<br><br>\n",
    "* The best model was found to be the Large Network with Dropout. Performance on the test dataset:\n",
    "    * Test Loss of **0.0959**\n",
    "    * Test Accuracy of **0.981**\n",
    "<br><br>\n",
    "* Below is the performance of various models on the validation set (not the test set)"
   ]
  },
  {
   "cell_type": "code",
   "execution_count": 89,
   "metadata": {},
   "outputs": [
    {
     "data": {
      "text/html": [
       "<div>\n",
       "<style>\n",
       "    .dataframe thead tr:only-child th {\n",
       "        text-align: right;\n",
       "    }\n",
       "\n",
       "    .dataframe thead th {\n",
       "        text-align: left;\n",
       "    }\n",
       "\n",
       "    .dataframe tbody tr th {\n",
       "        vertical-align: top;\n",
       "    }\n",
       "</style>\n",
       "<table border=\"1\" class=\"dataframe\">\n",
       "  <thead>\n",
       "    <tr style=\"text-align: right;\">\n",
       "      <th></th>\n",
       "      <th>Validation Accuracy</th>\n",
       "      <th>Validation Sparse Categorical Entropy Loss</th>\n",
       "    </tr>\n",
       "  </thead>\n",
       "  <tbody>\n",
       "    <tr>\n",
       "      <th>large network</th>\n",
       "      <td>0.979417</td>\n",
       "      <td>0.083627</td>\n",
       "    </tr>\n",
       "    <tr>\n",
       "      <th>large network with dropout</th>\n",
       "      <td>0.981833</td>\n",
       "      <td>0.080115</td>\n",
       "    </tr>\n",
       "    <tr>\n",
       "      <th>medium network</th>\n",
       "      <td>0.977333</td>\n",
       "      <td>0.085354</td>\n",
       "    </tr>\n",
       "    <tr>\n",
       "      <th>small network</th>\n",
       "      <td>0.933000</td>\n",
       "      <td>0.254103</td>\n",
       "    </tr>\n",
       "  </tbody>\n",
       "</table>\n",
       "</div>"
      ],
      "text/plain": [
       "                            Validation Accuracy  \\\n",
       "large network                          0.979417   \n",
       "large network with dropout             0.981833   \n",
       "medium network                         0.977333   \n",
       "small network                          0.933000   \n",
       "\n",
       "                            Validation Sparse Categorical Entropy Loss  \n",
       "large network                                                 0.083627  \n",
       "large network with dropout                                    0.080115  \n",
       "medium network                                                0.085354  \n",
       "small network                                                 0.254103  "
      ]
     },
     "execution_count": 89,
     "metadata": {},
     "output_type": "execute_result"
    }
   ],
   "source": [
    "model_performance_pd"
   ]
  },
  {
   "cell_type": "markdown",
   "metadata": {},
   "source": [
    "* **It is clear that the Large Network with Dropout has the best performance on the validation set as well**"
   ]
  },
  {
   "cell_type": "code",
   "execution_count": null,
   "metadata": {
    "collapsed": true
   },
   "outputs": [],
   "source": []
  },
  {
   "cell_type": "code",
   "execution_count": null,
   "metadata": {
    "collapsed": true
   },
   "outputs": [],
   "source": []
  },
  {
   "cell_type": "code",
   "execution_count": null,
   "metadata": {
    "collapsed": true
   },
   "outputs": [],
   "source": []
  },
  {
   "cell_type": "markdown",
   "metadata": {},
   "source": [
    "## Saving best weights to a file based on val metrics\n",
    "## Checkpointing, basically - https://machinelearningmastery.com/check-point-deep-learning-models-keras/"
   ]
  },
  {
   "cell_type": "code",
   "execution_count": 63,
   "metadata": {
    "collapsed": true
   },
   "outputs": [],
   "source": [
    "def get_model(model, epochs=20):    \n",
    "    model.compile(optimizer='adam',\n",
    "             loss='sparse_categorical_crossentropy',\n",
    "             metrics=['accuracy', 'sparse_categorical_crossentropy'])\n",
    "\n",
    "    filepath=\"weights.best.hdf5\".format(model.name)\n",
    "    checkpoint = tf.keras.callbacks.ModelCheckpoint(filepath, monitor='val_loss', verbose=1, save_best_only=True, mode='min')\n",
    "    callbacks_list = [checkpoint]\n",
    "    model_history = model.fit(X_train, y_train, epochs=epochs, validation_split=0.2, callbacks=callbacks_list)\n",
    "    \n",
    "    return model, model_history"
   ]
  },
  {
   "cell_type": "code",
   "execution_count": 64,
   "metadata": {
    "collapsed": true
   },
   "outputs": [],
   "source": [
    "model = tf.keras.Sequential([\n",
    "    tf.keras.layers.Flatten(),\n",
    "    tf.keras.layers.Dense(10, activation=tf.nn.softmax),\n",
    "    tf.keras.layers.Dense(10, activation=tf.nn.softmax)\n",
    "], name = 'sm_network')"
   ]
  },
  {
   "cell_type": "code",
   "execution_count": 65,
   "metadata": {},
   "outputs": [
    {
     "name": "stdout",
     "output_type": "stream",
     "text": [
      "Train on 48000 samples, validate on 12000 samples\n",
      "Epoch 1/5\n",
      "48000/48000 [==============================] - 5s 111us/step - loss: 1.3681 - acc: 0.7165 - sparse_categorical_crossentropy: 1.3681 - val_loss: 0.8546 - val_acc: 0.8154 - val_sparse_categorical_crossentropy: 0.8546\n",
      "\n",
      "Epoch 00001: val_loss improved from inf to 0.85456, saving model to weights.best.hdf5\n",
      "Epoch 2/5\n",
      "48000/48000 [==============================] - 5s 102us/step - loss: 0.7017 - acc: 0.8017 - sparse_categorical_crossentropy: 0.7017 - val_loss: 0.5942 - val_acc: 0.8172 - val_sparse_categorical_crossentropy: 0.5942\n",
      "\n",
      "Epoch 00002: val_loss improved from 0.85456 to 0.59420, saving model to weights.best.hdf5\n",
      "Epoch 3/5\n",
      "48000/48000 [==============================] - 5s 114us/step - loss: 0.5538 - acc: 0.8288 - sparse_categorical_crossentropy: 0.5538 - val_loss: 0.5091 - val_acc: 0.8492 - val_sparse_categorical_crossentropy: 0.5091\n",
      "\n",
      "Epoch 00003: val_loss improved from 0.59420 to 0.50906, saving model to weights.best.hdf5\n",
      "Epoch 4/5\n",
      "48000/48000 [==============================] - 5s 106us/step - loss: 0.4849 - acc: 0.8639 - sparse_categorical_crossentropy: 0.4849 - val_loss: 0.4506 - val_acc: 0.8810 - val_sparse_categorical_crossentropy: 0.4506\n",
      "\n",
      "Epoch 00004: val_loss improved from 0.50906 to 0.45063, saving model to weights.best.hdf5\n",
      "Epoch 5/5\n",
      "48000/48000 [==============================] - 5s 109us/step - loss: 0.4342 - acc: 0.8878 - sparse_categorical_crossentropy: 0.4342 - val_loss: 0.4186 - val_acc: 0.8929 - val_sparse_categorical_crossentropy: 0.4186\n",
      "\n",
      "Epoch 00005: val_loss improved from 0.45063 to 0.41863, saving model to weights.best.hdf5\n"
     ]
    }
   ],
   "source": [
    "sm_network_model, sm_network_history = get_model(model, epochs=5)"
   ]
  },
  {
   "cell_type": "markdown",
   "metadata": {},
   "source": [
    "### Alternatively, early stopping can be used. However, this version does not have the param restore_best_weights"
   ]
  },
  {
   "cell_type": "code",
   "execution_count": null,
   "metadata": {
    "collapsed": true
   },
   "outputs": [],
   "source": [
    "def get_model(model, epochs=20):    \n",
    "    model.compile(optimizer='adam',\n",
    "             loss='sparse_categorical_crossentropy',\n",
    "             metrics=['accuracy', 'sparse_categorical_crossentropy'])\n",
    "    \n",
    "    checkpoint = tf.keras.callbacks.EarlyStopping(monitor='val_loss', patience=3, verbose=1, mode='min')\n",
    "    callbacks_list = [checkpoint]\n",
    "    model_history = model.fit(X_train, y_train, epochs=epochs, validation_split=0.2, callbacks=callbacks_list)\n",
    "      \n",
    "    return model, model_history"
   ]
  },
  {
   "cell_type": "code",
   "execution_count": null,
   "metadata": {
    "collapsed": true
   },
   "outputs": [],
   "source": [
    "model = tf.keras.Sequential([\n",
    "    tf.keras.layers.Flatten(),\n",
    "    tf.keras.layers.Dense(10, activation=tf.nn.softmax),\n",
    "    tf.keras.layers.Dense(10, activation=tf.nn.softmax)\n",
    "], name = 'sm_network')"
   ]
  },
  {
   "cell_type": "code",
   "execution_count": null,
   "metadata": {
    "collapsed": true
   },
   "outputs": [],
   "source": [
    "sm_network_model, sm_network_history = get_model(model, epochs=20)"
   ]
  }
 ],
 "metadata": {
  "kernelspec": {
   "display_name": "Python 2",
   "language": "python",
   "name": "python2"
  },
  "language_info": {
   "codemirror_mode": {
    "name": "ipython",
    "version": 2
   },
   "file_extension": ".py",
   "mimetype": "text/x-python",
   "name": "python",
   "nbconvert_exporter": "python",
   "pygments_lexer": "ipython2",
   "version": "2.7.13"
  }
 },
 "nbformat": 4,
 "nbformat_minor": 2
}
